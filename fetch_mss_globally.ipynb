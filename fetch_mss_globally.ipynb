{
 "cells": [
  {
   "cell_type": "code",
   "execution_count": 3,
   "metadata": {
    "pycharm": {
     "name": "#%%\n"
    }
   },
   "outputs": [],
   "source": [
    "from pydap.client import open_url\n",
    "from datetime import datetime\n",
    "import numpy as np\n",
    "import pandas as pd\n",
    "from datetime import timedelta\n",
    "from datetime import date\n",
    "from tqdm import tqdm"
   ]
  },
  {
   "cell_type": "code",
   "execution_count": 4,
   "metadata": {},
   "outputs": [],
   "source": [
    "def hours_since_ref(year, month, day):\n",
    "    d0 = date(1992, 10, 5)\n",
    "    d1 = date(year, month, day)\n",
    "    delta = d1 - d0\n",
    "    hours = delta.days*24\n",
    "    return hours\n",
    "\n",
    "def get_cygnss_data(year, month, day):\n",
    "    cygnss_df = pd.DataFrame()\n",
    "    hours = hours_since_ref(year, month, day)\n",
    "    test_data_url, test_clickable_url = generate_url(year, month, day)\n",
    "    \n",
    "    not_got_data = True\n",
    "    tries = 0\n",
    "    while not_got_data:\n",
    "        try: \n",
    "            dataset = open_url(test_data_url, output_grid=False)\n",
    "            not_got_data = False\n",
    "        except:\n",
    "            if tries < 50:\n",
    "                tries += 1\n",
    "            else:\n",
    "                return pd.DataFrame()\n",
    "\n",
    "    \n",
    "    df = pd.DataFrame()\n",
    "    \n",
    "    mss = np.array(dataset.mean_square_slope[:])\n",
    "    lat = np.array(dataset.lat[:])\n",
    "    lon = np.array(dataset.lon[:])\n",
    "    sample_time = np.array(dataset.sample_time[:])\n",
    "    sample_time = np.array(sample_time / 3600) + hours\n",
    "\n",
    "    df['mss'] = mss.tolist()\n",
    "    df['lat'] = lat.tolist()\n",
    "    df['lon'] = lon.tolist()\n",
    "    df['sample_time'] = sample_time.tolist()\n",
    "    return df\n",
    "\n",
    "def prep_cygnss(cygnss_df):\n",
    "    np.warnings.filterwarnings('ignore')\n",
    "    for key in cygnss_df:\n",
    "        cygnss_df = cygnss_df[cygnss_df[key] != -9999.0]\n",
    "    cygnss_df = cygnss_df[cygnss_df[\"lat\"] <= 38]\n",
    "    cygnss_df = cygnss_df[cygnss_df[\"lat\"] >= -38]\n",
    "    cygnss_df.dropna(inplace = True)\n",
    "    return cygnss_df\n",
    "\n",
    "def generate_url(year, month, day):\n",
    "\n",
    "    day_of_year = datetime(year, month, day).timetuple().tm_yday\n",
    "    date_string = str(year) + str(month).zfill(2) + str(day).zfill(2)\n",
    "\n",
    "    base_url = 'https://podaac-opendap.jpl.nasa.gov/opendap/hyrax/allData/cygnss/L2/v2.1/'\n",
    "    specific_url = str(year) + '/' + str(day_of_year).zfill(3) + '/cyg.ddmi.s' + \\\n",
    "                   date_string + '-000000-e' + date_string + '-235959.l2.wind-mss.a21.d21.nc'\n",
    "    data_url = base_url + specific_url\n",
    "    clickable_url = base_url + specific_url + '.html'\n",
    "\n",
    "    return data_url + '?lat,lon,mean_square_slope,sample_time', clickable_url\n",
    "\n",
    "def fetch_cygnss(y1, m1, d1, y2, m2, d2):\n",
    "    sdate = date(y1, m1, d1)   # start date\n",
    "    edate = date(y2, m2, d2)   # end date\n",
    "    delta = edate - sdate       # as timedelta\n",
    "    df_list = []\n",
    "    for i in tqdm(range(delta.days + 1)):\n",
    "        day = sdate + timedelta(days=i)\n",
    "        df = get_cygnss_data(day.year, day.month, day.day)\n",
    "        if not df.empty:\n",
    "            df = prep_cygnss(df)\n",
    "            df_list.append(df)\n",
    "            df.to_csv(\"level_2_mss/\" + str(day.year) + \"_\" +  str(day.month).zfill(2) + \"_\" +  str(day.day).zfill(2) + \".csv\" ,index=False)"
   ]
  },
  {
   "cell_type": "code",
   "execution_count": 5,
   "metadata": {
    "pycharm": {
     "is_executing": true
    }
   },
   "outputs": [
    {
     "name": "stderr",
     "output_type": "stream",
     "text": [
      "100%|██████████| 4/4 [11:45<00:00, 176.40s/it]\n"
     ]
    }
   ],
   "source": [
    "fetch_cygnss(2021, 10, 2, 2021, 10, 5)"
   ]
  },
  {
   "cell_type": "code",
   "execution_count": null,
   "metadata": {},
   "outputs": [],
   "source": []
  }
 ],
 "metadata": {
  "kernelspec": {
   "display_name": "Python 3 (ipykernel)",
   "language": "python",
   "name": "python3"
  },
  "language_info": {
   "codemirror_mode": {
    "name": "ipython",
    "version": 3
   },
   "file_extension": ".py",
   "mimetype": "text/x-python",
   "name": "python",
   "nbconvert_exporter": "python",
   "pygments_lexer": "ipython3",
   "version": "3.9.7"
  }
 },
 "nbformat": 4,
 "nbformat_minor": 1
}