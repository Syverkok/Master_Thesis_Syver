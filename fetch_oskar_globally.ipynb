{
 "cells": [
  {
   "cell_type": "code",
   "execution_count": 1,
   "id": "df0a007e",
   "metadata": {
    "pycharm": {
     "is_executing": true
    }
   },
   "outputs": [],
   "source": [
    "from pydap.client import open_url\n",
    "import numpy as np\n",
    "import pandas as pd\n",
    "from datetime import timedelta\n",
    "from datetime import date\n",
    "from tqdm import tqdm"
   ]
  },
  {
   "cell_type": "code",
   "execution_count": 2,
   "id": "a3a0e13a",
   "metadata": {
    "pycharm": {
     "is_executing": true
    }
   },
   "outputs": [],
   "source": [
    "def fetch_oscar_data(start_year, start_month, start_day, end_year, end_month, end_day):\n",
    "    d0 = date(1992, 10, 5)\n",
    "    d1 = date(start_year, start_month, start_day)\n",
    "    d2 = date(end_year, end_month, end_day)\n",
    "    delta_start = d1 - d0\n",
    "    delta_end = d2 -d0\n",
    "    \n",
    "    for i in tqdm(range(delta_start.days, delta_end.days+1)):\n",
    "        res = fetch_oscar_one_day(i)\n",
    "        if res:\n",
    "            u_list = []\n",
    "            v_list = []\n",
    "            lat_list = []\n",
    "            lon_list = []\n",
    "            for index, lat in enumerate(res[0]):\n",
    "                for index2, lon in enumerate(res[1]):\n",
    "                    u_list.append(res[2][index][index2])\n",
    "                    v_list.append(res[3][index][index2])\n",
    "                    lat_list.append(lat)\n",
    "                    lon_list.append(lon)\n",
    "            df = pd.DataFrame()\n",
    "            df['u'] = u_list\n",
    "            df['v'] = v_list\n",
    "            df['lat'] = lat_list\n",
    "            df['lon'] = lon_list\n",
    "            df['time'] = np.zeros(len(df['lon']))\n",
    "            df = df.assign(time=i*24)\n",
    "            df = df.loc[df['lon'] < 380 ]\n",
    "            df['lon'] = df['lon']%360\n",
    "            df = df.loc[df['lat'] <= 38 ]\n",
    "            df = df.loc[df['lat'] >= -38 ]\n",
    "            df.dropna(inplace = True)\n",
    "            day = d0 + timedelta(days=i)\n",
    "            df.to_csv(\"oskar_data/\"  + str(day.year) + \"_\" +  str(day.month).zfill(2) + \"_\" +  str(day.day).zfill(2) + \".csv\" ,index=False)\n",
    "        \n",
    "def fetch_oscar_one_day(day):\n",
    "    try:\n",
    "        url = 'https://podaac-opendap.jpl.nasa.gov/opendap/allData/oscar/preview/L4/oscar_third_deg/oscar_vel' + str(day) + '.nc.gz?latitude[0:1:480],longitude[0:1:1200],u[0:1:0][0:1:0][0:1:480][0:1:1200],v[0:1:0][0:1:0][0:1:480][0:1:1200]'       \n",
    "        dataset = open_url(url, output_grid=False)\n",
    "        lats = np.array(dataset.latitude[:])\n",
    "        lons = np.array(dataset.longitude[:])\n",
    "        u = np.squeeze(np.array(dataset.u[:][:][:][:]))            \n",
    "        v = np.squeeze(np.array(dataset.v[:][:][:][:]))         \n",
    "        return lats, lons, u, v\n",
    "    except:\n",
    "        return None"
   ]
  },
  {
   "cell_type": "code",
   "execution_count": 3,
   "id": "2e99d48e",
   "metadata": {
    "pycharm": {
     "is_executing": true
    }
   },
   "outputs": [
    {
     "name": "stderr",
     "output_type": "stream",
     "text": [
      "100%|██████████| 154/154 [12:03<00:00,  4.70s/it]\n"
     ]
    }
   ],
   "source": [
    "fetch_oscar_data(2017, 3, 15, 2017, 8, 15)"
   ]
  },
  {
   "cell_type": "code",
   "execution_count": 13,
   "id": "dbc26c78",
   "metadata": {
    "pycharm": {
     "is_executing": true
    }
   },
   "outputs": [
    {
     "data": {
      "text/plain": [
       "-78.33333333333333"
      ]
     },
     "execution_count": 13,
     "metadata": {},
     "output_type": "execute_result"
    }
   ],
   "source": []
  }
 ],
 "metadata": {
  "kernelspec": {
   "display_name": "Python 3 (ipykernel)",
   "language": "python",
   "name": "python3"
  },
  "language_info": {
   "codemirror_mode": {
    "name": "ipython",
    "version": 3
   },
   "file_extension": ".py",
   "mimetype": "text/x-python",
   "name": "python",
   "nbconvert_exporter": "python",
   "pygments_lexer": "ipython3",
   "version": "3.9.7"
  }
 },
 "nbformat": 4,
 "nbformat_minor": 5
}
