{
 "cells": [
  {
   "cell_type": "code",
   "execution_count": 10,
   "id": "f3d6c2c4",
   "metadata": {},
   "outputs": [],
   "source": [
    "from pydap.client import open_url\n",
    "from datetime import datetime\n",
    "import numpy as np\n",
    "import pandas as pd\n",
    "import time\n",
    "from datetime import timedelta\n",
    "import pyproj\n",
    "import xarray as xr\n",
    "from scipy.interpolate import LinearNDInterpolator\n",
    "import matplotlib.pyplot as plt\n",
    "import math\n",
    "import pickle\n",
    "from datetime import date\n",
    "import os\n",
    "import plotly.express as px\n",
    "import cartopy.crs as ccrs\n",
    "from cartopy.mpl.ticker import LongitudeFormatter, LatitudeFormatter\n",
    "import matplotlib\n",
    "import cartopy as cart"
   ]
  },
  {
   "cell_type": "code",
   "execution_count": 15,
   "id": "9c76dfd5",
   "metadata": {},
   "outputs": [],
   "source": [
    "def fetch_oscar_data(start_day, end_day):\n",
    "    for i in range(start_day, end_day+1):\n",
    "        res = fetch_oscar_one_day(i)\n",
    "        if res:\n",
    "            u_list = []\n",
    "            v_list = []\n",
    "            lat_list = []\n",
    "            lon_list = []\n",
    "            for index, lat in enumerate(res[0]):\n",
    "                for index2, lon in enumerate(res[1]):\n",
    "                    u_list.append(res[2][index][index2])\n",
    "                    v_list.append(res[3][index][index2])\n",
    "                    lat_list.append(lat)\n",
    "                    lon_list.append(lon)\n",
    "            df = pd.DataFrame()\n",
    "            df['u'] = u_list\n",
    "            df['v'] = v_list\n",
    "            df['lat'] = lat_list\n",
    "            df['lon'] = lon_list\n",
    "            df['time'] = np.zeros(len(df['lon']))\n",
    "            df = df.assign(time=i*24)\n",
    "            df = df.loc[df['lon'] < 380 ]\n",
    "            df['lon'] = df['lon']%360\n",
    "            df.dropna(inplace = True)\n",
    "            df.to_csv(\"oskar_data/\" + str(i) + \".csv\" ,index=False)\n",
    "        \n",
    "def fetch_oscar_one_day(day):\n",
    "    try:\n",
    "        url = 'https://podaac-opendap.jpl.nasa.gov/opendap/allData/oscar/preview/L4/oscar_third_deg/oscar_vel' + str(day) + '.nc.gz?latitude[0:1:480],longitude[0:1:1200],u[0:1:0][0:1:0][0:1:480][0:1:1200],v[0:1:0][0:1:0][0:1:480][0:1:1200]'       \n",
    "        dataset = open_url(url, output_grid=False)\n",
    "        lats = np.array(dataset.latitude[:])\n",
    "        lons = np.array(dataset.longitude[:])\n",
    "        u = np.squeeze(np.array(dataset.u[:][:][:][:]))            \n",
    "        v = np.squeeze(np.array(dataset.v[:][:][:][:]))         \n",
    "        print(\"fetched\" + str(day))\n",
    "        return lats, lons, u, v\n",
    "    except:\n",
    "        print(\"Not a date\")  \n",
    "        return None"
   ]
  },
  {
   "cell_type": "code",
   "execution_count": null,
   "id": "675405ee",
   "metadata": {},
   "outputs": [
    {
     "name": "stdout",
     "output_type": "stream",
     "text": [
      "Not a date\n",
      "Not a date\n",
      "Not a date\n",
      "Not a date\n",
      "fetched10004\n",
      "Not a date\n",
      "Not a date\n",
      "Not a date\n",
      "Not a date\n",
      "Not a date\n",
      "fetched10010\n",
      "Not a date\n",
      "Not a date\n",
      "Not a date\n",
      "Not a date\n",
      "fetched10015\n",
      "Not a date\n",
      "Not a date\n",
      "Not a date\n",
      "Not a date\n",
      "fetched10020\n"
     ]
    }
   ],
   "source": [
    "res = fetch_oscar_data(10000, 10024)"
   ]
  },
  {
   "cell_type": "code",
   "execution_count": null,
   "id": "ed825adf",
   "metadata": {},
   "outputs": [],
   "source": []
  }
 ],
 "metadata": {
  "kernelspec": {
   "display_name": "Python 3 (ipykernel)",
   "language": "python",
   "name": "python3"
  },
  "language_info": {
   "codemirror_mode": {
    "name": "ipython",
    "version": 3
   },
   "file_extension": ".py",
   "mimetype": "text/x-python",
   "name": "python",
   "nbconvert_exporter": "python",
   "pygments_lexer": "ipython3",
   "version": "3.9.7"
  }
 },
 "nbformat": 4,
 "nbformat_minor": 5
}
