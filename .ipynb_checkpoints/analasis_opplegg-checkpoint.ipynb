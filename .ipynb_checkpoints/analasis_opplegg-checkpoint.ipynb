{
 "cells": [
  {
   "cell_type": "code",
   "execution_count": 103,
   "id": "d902d78f",
   "metadata": {},
   "outputs": [],
   "source": [
    "import os\n",
    "from tqdm import tqdm\n",
    "import pandas as pd\n",
    "import numpy as np\n",
    "from scipy import stats\n",
    "from datetime import datetime, timedelta\n",
    "from scipy.interpolate import LinearNDInterpolator\n",
    "import plotly.express as px\n",
    "import matplotlib.pyplot as plt\n",
    "import cartopy.crs as ccrs\n",
    "import cartopy as cart\n",
    "from cartopy.mpl.ticker import LongitudeFormatter, LatitudeFormatter\n",
    "import matplotlib"
   ]
  },
  {
   "cell_type": "code",
   "execution_count": 161,
   "id": "ce5238e3",
   "metadata": {},
   "outputs": [
    {
     "name": "stderr",
     "output_type": "stream",
     "text": [
      "100%|█████████████████████████████████████████████████████████████████████████████████████████████████████████████████████████████████████████████████| 59/59 [00:03<00:00, 15.47it/s]\n"
     ]
    }
   ],
   "source": [
    "# GOES FROM MONTLY MSS ANOMALY OBSERVATIONS TO ALL TIME MSS ANOMALY WITH MICROPLASTICS INTERPOLTATED 1x1\n",
    "directory = \"C:/Users/syversk/Desktop/test\"\n",
    "files = os.listdir(directory)\n",
    "df_list = []\n",
    "for i in tqdm(range(len(files))):\n",
    "    df = pd.read_csv(directory + \"/\" + files[i])\n",
    "#Go from montly to all average    \n",
    "    df_list.append(df)\n",
    "df = pd.concat(df_list)\n",
    "df = group_dataframe_temporally(df)\n",
    "df = interp_microplastics(df)"
   ]
  },
  {
   "cell_type": "code",
   "execution_count": 155,
   "id": "4231b34b",
   "metadata": {},
   "outputs": [],
   "source": [
    "df = df[df.lat <= 40]\n",
    "df = df[df.lat >= -40]\n",
    "df = df[df.lon >= 170]\n",
    "df = df[df.lon <= 210]"
   ]
  },
  {
   "cell_type": "code",
   "execution_count": 146,
   "id": "d50536ce",
   "metadata": {},
   "outputs": [
    {
     "data": {
      "text/html": [
       "<div>\n",
       "<style scoped>\n",
       "    .dataframe tbody tr th:only-of-type {\n",
       "        vertical-align: middle;\n",
       "    }\n",
       "\n",
       "    .dataframe tbody tr th {\n",
       "        vertical-align: top;\n",
       "    }\n",
       "\n",
       "    .dataframe thead th {\n",
       "        text-align: right;\n",
       "    }\n",
       "</style>\n",
       "<table border=\"1\" class=\"dataframe\">\n",
       "  <thead>\n",
       "    <tr style=\"text-align: right;\">\n",
       "      <th></th>\n",
       "      <th>lon</th>\n",
       "      <th>lat</th>\n",
       "      <th>mss_anomaly_delta_refitted</th>\n",
       "      <th>mss_anomaly_wind_refitted</th>\n",
       "      <th>mss_anomaly_delta_towards</th>\n",
       "      <th>mss_anomaly_wind_towards</th>\n",
       "      <th>mss_anomaly_delta_gdt</th>\n",
       "      <th>mss_anomaly_wind_gdt</th>\n",
       "      <th>micro_mass</th>\n",
       "      <th>abundace</th>\n",
       "    </tr>\n",
       "  </thead>\n",
       "  <tbody>\n",
       "    <tr>\n",
       "      <th>lon</th>\n",
       "      <td>1.000000</td>\n",
       "      <td>-0.024930</td>\n",
       "      <td>-0.263746</td>\n",
       "      <td>-0.307285</td>\n",
       "      <td>-0.291940</td>\n",
       "      <td>-0.340756</td>\n",
       "      <td>-0.322728</td>\n",
       "      <td>-0.341844</td>\n",
       "      <td>0.543477</td>\n",
       "      <td>0.543478</td>\n",
       "    </tr>\n",
       "    <tr>\n",
       "      <th>lat</th>\n",
       "      <td>-0.024930</td>\n",
       "      <td>1.000000</td>\n",
       "      <td>-0.582988</td>\n",
       "      <td>-0.584305</td>\n",
       "      <td>-0.595314</td>\n",
       "      <td>-0.596468</td>\n",
       "      <td>-0.576925</td>\n",
       "      <td>-0.568152</td>\n",
       "      <td>0.344101</td>\n",
       "      <td>0.344101</td>\n",
       "    </tr>\n",
       "    <tr>\n",
       "      <th>mss_anomaly_delta_refitted</th>\n",
       "      <td>-0.263746</td>\n",
       "      <td>-0.582988</td>\n",
       "      <td>1.000000</td>\n",
       "      <td>0.991170</td>\n",
       "      <td>0.979794</td>\n",
       "      <td>0.966370</td>\n",
       "      <td>0.992876</td>\n",
       "      <td>0.980539</td>\n",
       "      <td>-0.506391</td>\n",
       "      <td>-0.506390</td>\n",
       "    </tr>\n",
       "    <tr>\n",
       "      <th>mss_anomaly_wind_refitted</th>\n",
       "      <td>-0.307285</td>\n",
       "      <td>-0.584305</td>\n",
       "      <td>0.991170</td>\n",
       "      <td>1.000000</td>\n",
       "      <td>0.971519</td>\n",
       "      <td>0.979297</td>\n",
       "      <td>0.989408</td>\n",
       "      <td>0.992193</td>\n",
       "      <td>-0.524232</td>\n",
       "      <td>-0.524231</td>\n",
       "    </tr>\n",
       "    <tr>\n",
       "      <th>mss_anomaly_delta_towards</th>\n",
       "      <td>-0.291940</td>\n",
       "      <td>-0.595314</td>\n",
       "      <td>0.979794</td>\n",
       "      <td>0.971519</td>\n",
       "      <td>1.000000</td>\n",
       "      <td>0.987098</td>\n",
       "      <td>0.992227</td>\n",
       "      <td>0.984231</td>\n",
       "      <td>-0.497882</td>\n",
       "      <td>-0.497882</td>\n",
       "    </tr>\n",
       "    <tr>\n",
       "      <th>mss_anomaly_wind_towards</th>\n",
       "      <td>-0.340756</td>\n",
       "      <td>-0.596468</td>\n",
       "      <td>0.966370</td>\n",
       "      <td>0.979297</td>\n",
       "      <td>0.987098</td>\n",
       "      <td>1.000000</td>\n",
       "      <td>0.985026</td>\n",
       "      <td>0.995515</td>\n",
       "      <td>-0.517376</td>\n",
       "      <td>-0.517376</td>\n",
       "    </tr>\n",
       "    <tr>\n",
       "      <th>mss_anomaly_delta_gdt</th>\n",
       "      <td>-0.322728</td>\n",
       "      <td>-0.576925</td>\n",
       "      <td>0.992876</td>\n",
       "      <td>0.989408</td>\n",
       "      <td>0.992227</td>\n",
       "      <td>0.985026</td>\n",
       "      <td>1.000000</td>\n",
       "      <td>0.992187</td>\n",
       "      <td>-0.523810</td>\n",
       "      <td>-0.523809</td>\n",
       "    </tr>\n",
       "    <tr>\n",
       "      <th>mss_anomaly_wind_gdt</th>\n",
       "      <td>-0.341844</td>\n",
       "      <td>-0.568152</td>\n",
       "      <td>0.980539</td>\n",
       "      <td>0.992193</td>\n",
       "      <td>0.984231</td>\n",
       "      <td>0.995515</td>\n",
       "      <td>0.992187</td>\n",
       "      <td>1.000000</td>\n",
       "      <td>-0.525048</td>\n",
       "      <td>-0.525048</td>\n",
       "    </tr>\n",
       "    <tr>\n",
       "      <th>micro_mass</th>\n",
       "      <td>0.543477</td>\n",
       "      <td>0.344101</td>\n",
       "      <td>-0.506391</td>\n",
       "      <td>-0.524232</td>\n",
       "      <td>-0.497882</td>\n",
       "      <td>-0.517376</td>\n",
       "      <td>-0.523810</td>\n",
       "      <td>-0.525048</td>\n",
       "      <td>1.000000</td>\n",
       "      <td>1.000000</td>\n",
       "    </tr>\n",
       "    <tr>\n",
       "      <th>abundace</th>\n",
       "      <td>0.543478</td>\n",
       "      <td>0.344101</td>\n",
       "      <td>-0.506390</td>\n",
       "      <td>-0.524231</td>\n",
       "      <td>-0.497882</td>\n",
       "      <td>-0.517376</td>\n",
       "      <td>-0.523809</td>\n",
       "      <td>-0.525048</td>\n",
       "      <td>1.000000</td>\n",
       "      <td>1.000000</td>\n",
       "    </tr>\n",
       "  </tbody>\n",
       "</table>\n",
       "</div>"
      ],
      "text/plain": [
       "                                 lon       lat  mss_anomaly_delta_refitted  \\\n",
       "lon                         1.000000 -0.024930                   -0.263746   \n",
       "lat                        -0.024930  1.000000                   -0.582988   \n",
       "mss_anomaly_delta_refitted -0.263746 -0.582988                    1.000000   \n",
       "mss_anomaly_wind_refitted  -0.307285 -0.584305                    0.991170   \n",
       "mss_anomaly_delta_towards  -0.291940 -0.595314                    0.979794   \n",
       "mss_anomaly_wind_towards   -0.340756 -0.596468                    0.966370   \n",
       "mss_anomaly_delta_gdt      -0.322728 -0.576925                    0.992876   \n",
       "mss_anomaly_wind_gdt       -0.341844 -0.568152                    0.980539   \n",
       "micro_mass                  0.543477  0.344101                   -0.506391   \n",
       "abundace                    0.543478  0.344101                   -0.506390   \n",
       "\n",
       "                            mss_anomaly_wind_refitted  \\\n",
       "lon                                         -0.307285   \n",
       "lat                                         -0.584305   \n",
       "mss_anomaly_delta_refitted                   0.991170   \n",
       "mss_anomaly_wind_refitted                    1.000000   \n",
       "mss_anomaly_delta_towards                    0.971519   \n",
       "mss_anomaly_wind_towards                     0.979297   \n",
       "mss_anomaly_delta_gdt                        0.989408   \n",
       "mss_anomaly_wind_gdt                         0.992193   \n",
       "micro_mass                                  -0.524232   \n",
       "abundace                                    -0.524231   \n",
       "\n",
       "                            mss_anomaly_delta_towards  \\\n",
       "lon                                         -0.291940   \n",
       "lat                                         -0.595314   \n",
       "mss_anomaly_delta_refitted                   0.979794   \n",
       "mss_anomaly_wind_refitted                    0.971519   \n",
       "mss_anomaly_delta_towards                    1.000000   \n",
       "mss_anomaly_wind_towards                     0.987098   \n",
       "mss_anomaly_delta_gdt                        0.992227   \n",
       "mss_anomaly_wind_gdt                         0.984231   \n",
       "micro_mass                                  -0.497882   \n",
       "abundace                                    -0.497882   \n",
       "\n",
       "                            mss_anomaly_wind_towards  mss_anomaly_delta_gdt  \\\n",
       "lon                                        -0.340756              -0.322728   \n",
       "lat                                        -0.596468              -0.576925   \n",
       "mss_anomaly_delta_refitted                  0.966370               0.992876   \n",
       "mss_anomaly_wind_refitted                   0.979297               0.989408   \n",
       "mss_anomaly_delta_towards                   0.987098               0.992227   \n",
       "mss_anomaly_wind_towards                    1.000000               0.985026   \n",
       "mss_anomaly_delta_gdt                       0.985026               1.000000   \n",
       "mss_anomaly_wind_gdt                        0.995515               0.992187   \n",
       "micro_mass                                 -0.517376              -0.523810   \n",
       "abundace                                   -0.517376              -0.523809   \n",
       "\n",
       "                            mss_anomaly_wind_gdt  micro_mass  abundace  \n",
       "lon                                    -0.341844    0.543477  0.543478  \n",
       "lat                                    -0.568152    0.344101  0.344101  \n",
       "mss_anomaly_delta_refitted              0.980539   -0.506391 -0.506390  \n",
       "mss_anomaly_wind_refitted               0.992193   -0.524232 -0.524231  \n",
       "mss_anomaly_delta_towards               0.984231   -0.497882 -0.497882  \n",
       "mss_anomaly_wind_towards                0.995515   -0.517376 -0.517376  \n",
       "mss_anomaly_delta_gdt                   0.992187   -0.523810 -0.523809  \n",
       "mss_anomaly_wind_gdt                    1.000000   -0.525048 -0.525048  \n",
       "micro_mass                             -0.525048    1.000000  1.000000  \n",
       "abundace                               -0.525048    1.000000  1.000000  "
      ]
     },
     "execution_count": 146,
     "metadata": {},
     "output_type": "execute_result"
    }
   ],
   "source": [
    "df.corr()"
   ]
  },
  {
   "cell_type": "code",
   "execution_count": 50,
   "id": "457dc722",
   "metadata": {},
   "outputs": [
    {
     "name": "stdout",
     "output_type": "stream",
     "text": [
      "-0.051734021394461815 0.029041240197013263 -0.2991906870723692\n"
     ]
    }
   ],
   "source": [
    "df = find_highest_corrolation_boundries(df, 100, \"mss_anomaly_delta_refitted\")"
   ]
  },
  {
   "cell_type": "code",
   "execution_count": 163,
   "id": "788168ed",
   "metadata": {},
   "outputs": [],
   "source": [
    "df = df[df[\"mss_anomaly_wind_refitted\"] > -0.5]\n",
    "df = df[df[\"mss_anomaly_wind_refitted\"] < 0.2]"
   ]
  },
  {
   "cell_type": "code",
   "execution_count": null,
   "id": "919b4008",
   "metadata": {},
   "outputs": [],
   "source": [
    "df = reduce_based_on_sd(df)"
   ]
  },
  {
   "cell_type": "code",
   "execution_count": 164,
   "id": "5e8efcd3",
   "metadata": {},
   "outputs": [
    {
     "data": {
      "image/png": "[encoded data removed]",
      "text/plain": [
       "<Figure size 432x288 with 2 Axes>"
      ]
     },
     "metadata": {
      "needs_background": "light"
     },
     "output_type": "display_data"
    },
    {
     "data": {
      "image/png": "[encoded data removed]",
      "text/plain": [
       "<Figure size 432x288 with 2 Axes>"
      ]
     },
     "metadata": {
      "needs_background": "light"
     },
     "output_type": "display_data"
    }
   ],
   "source": [
    "plot_var_2(df, \"micro_mass\")\n",
    "plot_var_2(df, \"mss_anomaly_wind_refitted\")"
   ]
  },
  {
   "cell_type": "code",
   "execution_count": 151,
   "id": "9d6b87bb",
   "metadata": {},
   "outputs": [
    {
     "data": {
      "application/vnd.plotly.v1+json": {
       "config": {
        "plotlyServerURL": "https://plot.ly"
       },
       "data": [
        {
         "coloraxis": "coloraxis",
         "hovertemplate": "mss_anomaly_wind_refitted=%{x}<br>micro_mass=%{y}<br>count=%{z}<extra></extra>",
         "name": "",
         "type": "histogram2d",
         "x": [
          0.007196471750900548,
          0.0036179909317920074,
          0.0026837002981850225,
          -0.009699744382814922,
          0.005065111106448839,
          0.006437931194403644,
          -0.001816968496810616,
          -0.01683531378681043,
          -0.020863215147884192,
          -0.023771143508990844,
          -0.023181685362104132,
          -0.02115861466711719,
          -0.0348182179738515,
          -0.02421427915929457,
          -0.012724047280214507,
          -0.010830624962688832,
          -0.028559336725380084,
          -0.001745594626633974,
          0.06652277002817232,
          0.0047469000386614795,
          0.004331759735906425,
          0.0004679390607356661,
          -0.0031889295448980903,
          0.012853018342615869,
          0.021346731806058034,
          0.0036067477023617248,
          -0.01767106056614853,
          -0.022055657865390082,
          -0.02430664930850656,
          -0.026206241118611175,
          -0.020520361815465724,
          -0.0373427040664405,
          -0.0302989876106391,
          -0.0291686407505827,
          -0.007597598487473369,
          -0.03343327882342838,
          0.0021224498200478467,
          0.04910736423650073,
          0.004387957010823432,
          0.012639919054064757,
          -0.004869481346061809,
          0.015160628027133909,
          0.008947136326647556,
          0.015581286500563972,
          0.0007829131366427893,
          -0.01607912609654673,
          -0.02892567832849567,
          -0.03291878293842757,
          -0.02204446457464774,
          -0.022428004774161972,
          -0.033278913963956804,
          -0.03087373268588834,
          -0.021566624649708575,
          -0.018271196373181118,
          -0.04006481558076558,
          0.014455445083200727,
          0.012486768777554781,
          0.01668071769946147,
          0.00875823019895686,
          0.0038965285186379262,
          -0.0075204329877509276,
          -0.0033983608850279828,
          0.004641131491953324,
          -0.016065191515516504,
          -0.027313346209350824,
          -0.03774834140759713,
          -0.03257633644411346,
          -0.03133412959177156,
          -0.028921462271697226,
          -0.02821568134698137,
          -0.018865448732468593,
          -0.01855744758176465,
          -0.05245133707512553,
          0.013675856544340002,
          0.05326934071767493,
          0.015589413778805529,
          -0.005072062484463061,
          0.006039058783821725,
          -0.0008381904820534409,
          0.0003870941647858481,
          -0.0019058816093539194,
          0.011343112413280657,
          -0.013425130504189912,
          -0.026275317585406497,
          -0.03181587908235465,
          -0.03805460181762568,
          -0.029961078744047954,
          -0.029737551281031515,
          -0.0299586261358333,
          -0.022662405120052274,
          -0.03729044200382966,
          -0.054939322536168,
          0.00026654912138580406,
          0.061576849721514955,
          0.006162863907502924,
          0.005992535120932206,
          0.012255416017081161,
          0.005737000924324125,
          0.009106145084400304,
          0.0055531548873851925,
          0.014486840018453039,
          -0.008977689456970977,
          -0.026831825139665675,
          -0.03503038567595978,
          -0.04170445753286768,
          -0.02283333897783349,
          -0.02476164607920959,
          -0.04858269728898703,
          -0.03626312504878075,
          -0.042014340953342035,
          -0.015630448297932153,
          0.10090123675191232,
          0.009506692224554403,
          0.0017004472295179662,
          0.005319198514421107,
          0.0155409818899412,
          -0.0009719996086946006,
          0.00630943466529669,
          -0.001330616797858957,
          0.004648495475685337,
          -0.024259048011778857,
          -0.023205735445635655,
          -0.02421839866006506,
          -0.032509735269401034,
          -0.03728166357318717,
          -0.050070506291742665,
          -0.03708157496037157,
          -0.04915084272091488,
          -0.06337686624697472,
          -0.022248852802780036,
          0.05574786684562593,
          0.02182009792412573,
          -0.0011107326789388705,
          0.002714149618391166,
          0.006682153637249466,
          5.471392890835797e-05,
          -0.0036547824052127254,
          0.0038582529255732864,
          0.009587629336713073,
          -0.011204555282730297,
          -0.00954931420762923,
          -0.021105086488407573,
          -0.028391890963042885,
          -0.038865216081783185,
          -0.05017012440617658,
          -0.03603930265975388,
          -0.04744344452122512,
          -0.01666985126762536,
          0.019691930190515766,
          0.01801367322418112,
          0.0048163681682941405,
          0.007898125870421617,
          0.003964055866448825,
          0.003836861336164456,
          -0.004826949450341312,
          -0.0015561740267062225,
          0.0010468817768196966,
          -0.0014252196473499583,
          -0.010950713341892066,
          -0.017024248349292847,
          -0.020243207575967894,
          -0.044324626874894635,
          -0.05265618643332982,
          -0.03807224685878376,
          -0.041951002231224964,
          -0.06338800132416339,
          -0.020413131734900617,
          -0.013116372180281432,
          0.01802761368893028,
          0.002975294010702205,
          -0.014676330163301676,
          -0.005705646876972001,
          -0.00048343181170320117,
          0.006594262926933136,
          -0.0032965203407671955,
          -0.0012295174470617306,
          0.001505126030834553,
          -0.009798017676634525,
          -0.012120836168725495,
          -0.005283108910227044,
          -0.03768301215869712,
          -0.05863673366829651,
          -0.04545959208555681,
          -0.04587593003951825,
          -0.04886234378169697,
          -0.02012563709380622,
          -0.015614655618391978,
          0.010540282585407738,
          0.0013822434225217064,
          -0.00839533361984537,
          0.006280992296308095,
          -0.004230311889054939,
          -0.0062697875243878844,
          -0.010590680945303828,
          -0.0017829255025223836,
          0.010880080258246567,
          -0.001868862695321141,
          -0.009805579605869395,
          -0.006933090938192819,
          -0.02789008953810193,
          -0.061374819023504085,
          -0.04549464353459519,
          -0.045077552007070545,
          -0.05694813332584967,
          -0.014334759672804415,
          0.02025215233718307,
          0.004161429817831581,
          -0.015997743518001616,
          -0.005458661947515672,
          -0.002786110905027024,
          -0.0018347493537558147,
          -0.0005998047060751883,
          -0.007066656580561545,
          0.00023349867853674898,
          -0.007571118793895719,
          -0.009946816508025242,
          -0.012577457879776799,
          -0.01180770001643534,
          -0.020189101750245617,
          -0.052090411552838604,
          -0.04435042701947259,
          -0.05091917771896327,
          -0.04659187625607775,
          -0.01697145073040323,
          0.03187576947110023,
          0.004132681896215123,
          -0.018193864958585694,
          -0.018143326628180523,
          -0.0028347331200525103,
          -0.007650832577627757,
          -0.007902670590479397,
          -0.0087289927423302,
          -0.005527152497730616,
          -0.02106332618117389,
          -0.004885354447201973,
          -0.009052217933636489,
          -0.012975255841138839,
          -0.02144164346489014,
          -0.043939315372729014,
          -0.037511770711563384,
          -0.04163960199349605,
          -0.04753070536795668,
          -0.012880684315119522,
          0.0425012215333897,
          -0.00589378016165498,
          -0.00895247413986711,
          -0.018598904572041688,
          -0.00301485581793341,
          -0.007669583017091966,
          -0.01002705145944766,
          -0.0059477068824291,
          -0.015084466317710713,
          -0.030815019197537315,
          -0.01624933542474076,
          0.003540939595141663,
          -0.016787396302668466,
          -0.027043531793138155,
          -0.04295158543942881,
          -0.045735028790685056,
          -0.0503985698794227,
          -0.04543301376364268,
          -0.006843513119637003,
          -0.007098796948420729,
          0.0016608542054508575,
          -0.009172601277058923,
          -0.01772152444432856,
          -0.009898811371017205,
          -0.004534591212687828,
          -0.0022179659216098606,
          -0.009268460260027865,
          -0.024816455762494846,
          -0.04106033711408259,
          -0.01565950512891925,
          -0.0006655534834410419,
          -0.01653176688216308,
          -0.024364479817459612,
          -0.039840584731752206,
          -0.05645273293709484,
          -0.03671918651659519,
          -0.03398134203194472,
          -0.021974267066298958,
          0.013053446167409603,
          0.013121114767983185,
          -0.009795019121630718,
          -0.011887062288518381,
          -0.01751832373189148,
          -0.01003955367374151,
          -0.013252279772239816,
          -0.01826067719791592,
          -0.016929057302122512,
          -0.019510115059240437,
          -0.007886117040307212,
          -0.002392090768720784,
          -0.019094605046786315,
          -0.03583547958828331,
          -0.043900877026314795,
          -0.05533016914956421,
          -0.04172856755313921,
          -0.02815178909388319,
          -0.018581363106725948,
          0.005186961356656149,
          -0.001238049491406599,
          -0.008636798455953582,
          -0.010944270753968305,
          -0.012412113428699344,
          -0.004106234531259829,
          -0.02153577963551378,
          -0.006130739304044135,
          -0.012150718829822913,
          0.0002256272255958945,
          0.00013249522559194614,
          -0.006400588960501892,
          -0.0388394941659255,
          -0.05071301961900198,
          -0.057130400250872064,
          -0.048492206706310534,
          -0.02267418114321445,
          -0.006878167202437594,
          -0.0233007333381252,
          0.003634581504207836,
          0.0014507096420672903,
          -0.014145506534996131,
          -0.0003088413817679688,
          -0.003289636110574551,
          -0.006760377231608884,
          -0.006332478170317874,
          -0.00592715011939651,
          -0.009406962163232778,
          -0.016078548954253737,
          -0.012217845544774815,
          -0.012178768205594284,
          -0.0357309622685656,
          -0.0462203150766552,
          -0.05029120519531069,
          -0.0355524216073112,
          -0.03219050522180542,
          -0.015369817593578852,
          -0.03735442789838954,
          0.014215130565505666,
          0.0007106659588450712,
          -0.013545421528668292,
          -0.012715684597658749,
          -0.0010556289578637409,
          -0.014838568934851408,
          -0.002601816666516993,
          -0.0037165038912122792,
          -0.015701130346147733,
          -0.01645645663029673,
          -0.011380731623063469,
          -0.01511399668008888,
          -0.02491907643401566,
          -0.04171820310426516,
          -0.0461826649417362,
          -0.03584563273983833,
          -0.030161286222245134,
          0.008345277294908839,
          -7.762307490166526e-05,
          -0.007461500905958588,
          -0.009056028625517736,
          -0.014895857762555115,
          -0.0021480385843875385,
          -0.039194206906514074,
          -0.017363766513342822,
          -0.004606632177724575,
          -0.0028646837474099827,
          -0.010074646334617632,
          9.960334798648792e-05,
          -0.013432855704696996,
          -0.023225605930803195,
          -0.04464744213915771,
          -0.04676813336803241,
          -0.03434116091801192,
          -0.030057101060324165,
          -0.01716246300604059,
          0.0034250841243468246,
          -0.003534199817838019,
          -0.003833712556206489,
          -0.015689096630351878,
          -0.0011906167334985918,
          -0.0022452120736303357,
          -0.010636355432613815,
          -0.00011724902862892416,
          0.013895377697511457,
          -0.015423833464744746,
          -0.011097828378932719,
          -0.018633491803722032,
          -0.027921353476614626,
          -0.03970341350513173,
          -0.04581143864781451,
          -0.036473515643442006,
          -0.03623578020494449,
          -0.00974228899116669,
          0.009649886279193885,
          -0.0038450679878999985,
          -0.006544046532313839,
          -0.011465561762666552,
          -0.0034164131389540597,
          0.021076579865276616,
          -0.005708208197933974,
          0.0054441176610478,
          -0.0007434837266603562,
          -0.010941653495485416,
          -0.02257291704860213,
          -0.02144711269407355,
          -0.028273291415853264,
          -0.03746662885693477,
          -0.04380896509934069,
          -0.04028530342564877,
          -0.04012154077302841,
          -0.022018705142566253,
          0.010771497526081376,
          -0.00932626568476129,
          -0.004676388692394199,
          -0.006056510543494973,
          -0.0021345796440155385,
          0.011524973525407468,
          -0.00048483291573892537,
          0.004009890238296738,
          0.0011044052371062061,
          -0.00493318418445202,
          -0.029593033862916306,
          -0.022958504313607617,
          -0.029744738117020192,
          -0.04323691475788211,
          -0.03233530386104781,
          -0.03811566060592472,
          -0.04326768564772177,
          -0.008759410764043053,
          -0.0018228861815687497,
          0.006240034925006574,
          -0.009399925041194959,
          -0.004665854110979643,
          -0.020035820727095935,
          0.01017348591044,
          0.00185412534772587,
          -0.004964568641420311,
          0.0038586710739439414,
          -0.024257561374369456,
          -0.03116492939287492,
          -0.022152101430120832,
          -0.03829593448532647,
          -0.047189839525869894,
          -0.026164308887497316,
          -0.03759180078394522,
          -0.042075972824576535,
          -0.010939553419241367,
          0.005965958872332232,
          0.0062548712322182095,
          0.0016132419494212973,
          -8.825805684787688e-05,
          -0.0012461936957542208,
          0.010162652239620469,
          0.0025487759406785638,
          -0.008120868059050343,
          -0.002309829622853153,
          -0.02106033683675643,
          -0.03284327653114219,
          -0.030304874248370882,
          -0.05396101181783187,
          -0.058552287311506496,
          -0.032926297666653184,
          -0.04136825230395631,
          -0.04970645526472642,
          -0.011759917975985152,
          0.012692581250758292,
          -0.006333840882729279,
          0.004696717423174726,
          0.006331694078089477,
          0.01320136141294843,
          0.012033016655437817,
          -0.0008773933705075036,
          -0.008217720606603633,
          -0.023215728093102517,
          -0.022113364607999526,
          -0.03315581430306855,
          -0.04071477507126811,
          -0.0488444669752156,
          -0.06582316874952335,
          -0.046971937439491476,
          -0.028098078202964567,
          -0.044800761177322665,
          -0.03188326478748648,
          -0.05068124424674881,
          0.015197472391087444,
          0.002966001219031709,
          0.0032570262846370345,
          0.0024735801692219225,
          0.006374288759522017,
          0.011826853555234081,
          -0.0073056901038822,
          -0.01121099073082432,
          -0.02143153067696484,
          -0.017163617269462986,
          -0.025717124111709327,
          -0.039105785559592945,
          -0.06417862430487378,
          -0.07198879798178322,
          -0.04765333593440966,
          -0.030386323244731596,
          -0.042678637464407,
          -0.031136285197288352,
          0.010510862322834954,
          0.0078072126864320605,
          0.008202707707243974,
          0.009009132430166713,
          0.0009767347715463925,
          0.006938038067323091,
          -0.007826220862458115,
          -0.014252238515117708,
          -0.028596252075863634,
          -0.01670665129295248,
          -0.02919541552623674,
          -0.033442888859505616,
          -0.06638618268180924,
          -0.07219812810539666,
          -0.047223728015003394,
          -0.04145071816516818,
          -0.042848295218421185,
          -0.03514116206107692,
          0.0025946486369117856,
          0.008704458206539733,
          0.02195286869467933,
          -0.0014451212183047484,
          0.0042231826363858934,
          0.0012222307617336299,
          -0.01434413429982356,
          -0.014273959685530828,
          -0.026683214748534034,
          -0.02933129572748248,
          -0.027987614924355586,
          -0.0383104572439846,
          -0.058576560713310515,
          -0.06771956124011916,
          -0.0466803050142361,
          -0.04545232180138075,
          -0.034406714162350936,
          -0.030071674462316626,
          -0.0012977136141024107,
          0.014296972462765605,
          0.04680136614461047,
          0.017209998691109736,
          0.004454902217339182,
          -0.00508387142900838,
          -0.008097609269525923,
          -0.020096308469883736,
          -0.029637599937270137,
          -0.029240366077459883,
          -0.024584422437425372,
          -0.03126777517925029,
          -0.048006472544732344,
          -0.0596798168136302,
          -0.045049132206764785,
          -0.044043357269538314,
          -0.039865272940905964,
          -0.04275095852740253,
          0.025033775160363935,
          0.023991162442874556,
          0.03317476571915852,
          0.01937119498300454,
          0.00423301932839636,
          -0.007014816241239734,
          -0.01754098106335598,
          -0.02543828944080617,
          -0.03219207893486218,
          -0.029623297224165235,
          -0.02434066971440809,
          -0.03002116038967593,
          -0.046728702746489555,
          -0.05662993583998777,
          -0.05789221087074069,
          -0.04294847378845403,
          -0.04416406881514654,
          -0.061248985946315636,
          0.00033187460494612744,
          0.056082722594562394,
          0.022034040145784528,
          -0.0011462136011438047,
          -0.020708515389971302,
          -0.026052977093208404,
          -0.02308718453825887,
          -0.02870004860593131,
          -0.022877753289946814,
          -0.031732438914169374,
          -0.026879929446420165,
          -0.04333999611654218,
          -0.04703649282333094,
          -0.05933137947025646,
          -0.04611527222749988,
          -0.03877201236341756,
          -0.05344476124754175,
          0.009684547461330167,
          0.031042934092211726,
          0.021478585009980164,
          -0.002460174519785734,
          -0.02648542372154203,
          -0.03228468958493609,
          -0.027980442304366533,
          -0.031903355369707474,
          -0.014757330702174562,
          -0.03871912106627112,
          -0.031214931001249814,
          -0.04824494757770681,
          -0.029364180859239593,
          -0.062551422114897,
          -0.04444525467298583,
          -0.0483273000288337,
          -0.05027190225075475,
          0.008615887828670682,
          0.011613320051576571,
          0.011010538631325575,
          -0.027211075559529705,
          -0.02914474519062181,
          -0.039950074912737395,
          -0.03058259276160027,
          -0.02625185168732644,
          -0.02926655866823758,
          -0.030366190682388484,
          -0.034642735792119246,
          -0.04890850965348514,
          -0.047414404938503074,
          -0.053335644664564995,
          -0.0397562408146909,
          -0.052046607142515466,
          -0.06288984727227022,
          -0.00018657765094273794,
          0.01270193058511942,
          -0.0074815200850289485,
          -0.030852343840825327,
          -0.03513528631785971,
          -0.042781555212020574,
          -0.03616979284444079,
          -0.025753651829733513,
          -0.03208163641759318,
          -0.029734241291295836,
          -0.044504956948509526,
          -0.03894589470503574,
          -0.04528595460985204,
          -0.048251292467473506,
          -0.0478368105579492,
          -0.059691378063895066,
          -0.07016438849635931,
          0.02693392339317107,
          -0.0062958072236715835,
          0.006372397313387612,
          -0.012275821381762125,
          -0.028402769724692082,
          -0.0389865990791005,
          -0.033947679915679735,
          -0.03684613976489784,
          -0.04321186555616837,
          -0.038252848688130996,
          -0.026130429032341643,
          -0.030128676363660175,
          -0.027174345628023792,
          -0.043264991053366654,
          -0.053384440698419425,
          -0.05355123184761076,
          -0.05813343697494954,
          -0.05620677183441745,
          0.012243197008612938,
          0.008624182104677667,
          -0.007289651234558443,
          -0.023021474244964486,
          -0.019814858355337608,
          -0.03369107794798337,
          -0.021796454882245422,
          -0.04193410732403031,
          -0.045570280706886464,
          -0.039925495599505124,
          -0.0330137861115942,
          -0.03503595928721287,
          -0.03192124155991914,
          -0.042530546384799015,
          -0.056325263497600205,
          -0.062283032301435295,
          -0.06409765807216897,
          -0.05030211065377203,
          -0.004092667460583443,
          0.009159351089614062,
          0.001694449124648077,
          -0.006391941722412142,
          -0.027536725656470418,
          -0.02337656547254835,
          -0.02352962634699798,
          -0.04309495543516973,
          -0.04769076392616747,
          -0.04339906349636936,
          -0.02689748534034771,
          -0.03902759286668722,
          -0.04250138918743115,
          -0.04636993452591691,
          -0.05981739556959315,
          -0.05813254134725453,
          -0.06280229043915739,
          -0.05614169950368394,
          0.00449160644976422,
          0.003200076655095184,
          0.0015236921490652119,
          -0.008034149881516392,
          -0.025540963065625914,
          -0.02624871642013796,
          -0.031397126329176184,
          -0.03400341607426132,
          -0.05722593358811897,
          -0.041237653090183776,
          -0.03024746434451159,
          -0.04749675786890882,
          -0.03680800900746404,
          -0.044770771891167176,
          -0.058198555518996574,
          -0.05789705787697335,
          -0.063174755926451,
          -0.06304332518090394,
          0.014258138608373334,
          -0.0008911296151231633,
          0.009995461857347933,
          -0.015682112392151892,
          -0.01773148275890814,
          -0.020327235871446206,
          -0.030278261422447626,
          -0.03622813345586729,
          -0.05691076837972223,
          -0.041058482241736506,
          -0.05259656025122282,
          -0.04493963747179504,
          -0.047518946305028904,
          -0.05423261359454454,
          -0.052678813158176845,
          -0.052394937832466744,
          -0.06856324929630177,
          -0.05141109333125359,
          0.004982298733914681,
          -0.0007985974577081159,
          0.00019818368304952522,
          -0.011794615820490899,
          -0.016454620781203484,
          -0.016530732135899028,
          -0.03234948201770699,
          -0.04761896286529942,
          -0.05834994090944226,
          -0.05185635617143548,
          -0.05246736179481511,
          -0.04966278891138881,
          -0.04975131361954371,
          -0.06468774081884007,
          -0.0648707819907473,
          -0.0583056549109451,
          -0.05959140197880933
         ],
         "xaxis": "x",
         "xbingroup": "x",
         "y": [
          2.996533561445376,
          3.039612381896724,
          2.8602241765490817,
          3.0727644210507505,
          2.975904908735697,
          2.85121552884238,
          2.60516492854612,
          3.226213120724108,
          3.631545227834309,
          3.592631917104661,
          3.5345591229326017,
          3.282916526795147,
          3.6097757719946575,
          3.1832128832942512,
          3.175656747281664,
          3.448922640496831,
          3.3675981636798333,
          3.2471873905863533,
          3.196176185039973,
          3.06020662106735,
          3.0728378746630867,
          3.088702960351474,
          3.2758179278775392,
          3.1653630506973744,
          3.123721006440036,
          2.7671558660821804,
          3.4321833243946944,
          3.1204093945560687,
          3.4115186955006505,
          3.532627001228891,
          3.4917117901707675,
          3.1977490676226124,
          3.499989334334184,
          3.356905034810078,
          3.4526296516220176,
          3.3555089880244338,
          3.178631675393253,
          3.209059034128797,
          3.2274496204698417,
          3.1760043914722527,
          3.140759370870369,
          3.056104097422453,
          3.093981703914113,
          3.383546091724474,
          3.299594453924923,
          3.1930689160052728,
          3.340523430789915,
          3.476092206257591,
          3.208226305935583,
          3.403703766212908,
          3.331872498488898,
          3.508044654346881,
          3.479589704847995,
          3.285197122810969,
          3.3304746514861368,
          3.122969094393747,
          3.165541076722373,
          3.196618271330244,
          3.5650563988119623,
          3.384496781137869,
          3.29254402833358,
          3.2024610706294,
          3.059108817913594,
          3.043676585602717,
          3.539063546747749,
          3.438811227509573,
          3.401848391395517,
          3.5688116553793403,
          3.457624572913057,
          3.5864747785713966,
          3.2523918031812444,
          3.415557582011711,
          3.515144994764821,
          3.312473557686056,
          3.1425458840862763,
          2.8829739680288555,
          2.9347609685493428,
          3.164858246962555,
          3.36679638328673,
          3.451586890456905,
          3.079325986752815,
          3.169909441901069,
          3.506139584266144,
          3.4977725227240044,
          3.428992811848026,
          3.3526840797772675,
          3.4246203282706547,
          3.5997302782956524,
          3.452675598175609,
          3.366142676814887,
          3.454722935672532,
          3.3761022583701,
          3.4886212131294285,
          3.011866356527724,
          3.095970922343714,
          2.650919185090123,
          2.9698816437465,
          2.902095400371952,
          3.167671716230021,
          2.840469946042419,
          2.943702215301322,
          3.1935976102980947,
          2.949028757659224,
          3.4011591990237893,
          3.4284425802799885,
          3.1183308740573024,
          3.5195786292939832,
          3.520352504083318,
          3.4966114177171703,
          3.378543247161644,
          3.281442457270873,
          3.073058160988836,
          3.2565974927628454,
          2.7811663448475565,
          3.122019172080031,
          3.0580462303952816,
          2.961273931114606,
          2.824776462475546,
          2.944023459150344,
          3.230142252318642,
          3.0878168979355296,
          3.159717546180216,
          3.719248398447946,
          3.316515493818436,
          3.3493552465952035,
          3.4350157419325607,
          3.3774883833761327,
          3.3649447772129477,
          3.199124114623325,
          3.316012304249463,
          3.257822516034476,
          2.63823959067475,
          2.816837630902035,
          3.2142608667775416,
          3.010427172717049,
          3.078057866979187,
          2.6858670838676657,
          2.617031810595345,
          3.462562699054192,
          3.450695493727006,
          3.4018311749089483,
          3.463654135971828,
          3.3659931199344446,
          3.413366831409298,
          3.33023108771928,
          3.615160664316557,
          3.671654096505517,
          3.350383714158389,
          3.2387484392812453,
          3.0189500215009746,
          2.844185062640145,
          3.2594027281425886,
          3.3267044450743257,
          3.094156561782523,
          3.1632806702619063,
          3.154910645788524,
          3.796851749049887,
          3.426153268215979,
          3.2430876795053765,
          3.183753705592957,
          3.4433255839537447,
          3.3068751736446376,
          3.406574241410554,
          3.451279718904047,
          3.2430876795053765,
          3.3055878020723406,
          3.3003780648707024,
          3.365244562017571,
          2.986888127498049,
          2.943459889680969,
          2.814760186901071,
          3.168939213835978,
          3.027838678188945,
          3.005866601875385,
          3.3110966259995687,
          3.519026893943312,
          3.6254256409328383,
          3.5813351389189854,
          3.4113671357427338,
          3.441192225277618,
          3.4666303981813926,
          3.2681097298084785,
          3.5146274324113405,
          3.206448064366523,
          3.404354702725426,
          3.38203506271893,
          3.4146224299225225,
          2.9943963480894658,
          2.7088795991431214,
          2.912625863611162,
          2.859528566443577,
          3.157517208532612,
          3.48061050905939,
          3.698283276396564,
          3.812518971865254,
          3.464474643455456,
          3.338097753706539,
          3.3950991373125707,
          3.439285313665999,
          3.376741155018397,
          3.191953767152995,
          3.531606631932722,
          3.5791888919086445,
          3.4418207722892835,
          3.323808795527016,
          3.086857915659847,
          3.039374455768474,
          3.0167827124868407,
          3.167671716230021,
          2.746174755740512,
          2.7104558643354246,
          3.3074532481716243,
          3.2710279942623237,
          3.5474916450866654,
          3.1067347000978454,
          3.191031608848618,
          3.4257135092850675,
          3.334192291524874,
          3.2620474592614253,
          2.9860099318532614,
          3.509310074209291,
          3.161368002234975,
          3.342817314635733,
          3.237292337567459,
          3.164352855784437,
          2.610255484648782,
          3.1509712320626115,
          2.923358018924471,
          2.8172545758737506,
          3.1396587362081774,
          3.5217132736383268,
          3.4343293373377297,
          3.3982178682348767,
          3.185712099870006,
          3.6101915535686246,
          3.365338202346941,
          3.52401944041029,
          3.2910801129635265,
          3.47189285137058,
          3.5576515417336867,
          3.357820543938364,
          3.2228984726094216,
          3.385552653685669,
          3.152532948434526,
          2.2804417782984165,
          2.840902407300528,
          3.174234304941022,
          2.847726855657811,
          3.222143969500662,
          3.6033392740339663,
          3.6313118371004247,
          3.420846541601197,
          3.113575716800568,
          2.8984399450993483,
          3.236713563365637,
          3.3550682063488506,
          3.554210443723098,
          3.5331235633784224,
          3.1655707406329,
          3.3490248442077672,
          3.212054364801163,
          3.1519517887072657,
          3.050998079173384,
          2.59802407233419,
          2.604809042259513,
          3.2192176570229067,
          2.88173834001874,
          3.349588320562463,
          3.567543915573101,
          3.657419207208256,
          3.6434131933749367,
          3.234289446933935,
          2.7098971990508005,
          2.933628992530939,
          3.3755904634668767,
          3.449092531119419,
          3.450141291342469,
          3.29132444179242,
          3.152380087047603,
          3.274042330049831,
          2.96908027622572,
          3.114510904848874,
          2.597859660262605,
          2.7712199019495336,
          3.022222104507706,
          3.530020306504705,
          3.469439079183607,
          3.5771239874231986,
          3.7326269294399737,
          3.572441739911853,
          3.1014721170002377,
          3.559092307674901,
          2.911727412810062,
          3.5155559509450858,
          3.5455174076014924,
          3.181929295503233,
          3.301008280397,
          3.3823773034681137,
          3.342994782927477,
          3.082030981267012,
          2.859090239921249,
          2.589424558095593,
          3.3802293369380374,
          3.4220971631317103,
          3.543633532576258,
          3.518579737087604,
          3.690612448549997,
          3.5091756301993318,
          3.3604419331026376,
          3.15357098143378,
          3.389467327055369,
          3.4708513245261177,
          3.610255484648782,
          3.616128780157716,
          3.6088361331847305,
          3.529147919800826,
          3.3014640731433,
          3.2884728005997825,
          3.284453294010853,
          2.944369148529006,
          2.920837862489194,
          3.252610340567373,
          3.4630564280851583,
          3.2221700086817653,
          3.526416823052384,
          3.444044795918076,
          3.341394951524041,
          3.249711866874659,
          3.263233538439489,
          2.7576692750068776,
          3.5649499787197536,
          3.31270614559789,
          3.6798728658533,
          3.658040030514154,
          3.657677195423304,
          3.391305688142909,
          3.420698202908807,
          3.291479852236699,
          3.1885066338181143,
          2.868456340516555,
          3.3081160158656147,
          3.3387751249335733,
          3.359645792674543,
          3.2322844020803947,
          3.5361289857589204,
          3.350945431337479,
          3.153113331510609,
          3.341968408179938,
          3.159236233412904,
          3.443919801103023,
          3.602483222156301,
          3.447313108823568,
          3.5922545013671594,
          3.3631040660746354,
          3.655829680927272,
          3.389609016051986,
          3.321038892726055,
          3.03977092693158,
          3.0465341827509693,
          3.6648675245001217,
          3.5695845674292563,
          3.514335201826775,
          3.533924504819994,
          3.3334875783789104,
          2.96764624294686,
          3.3611420877533327,
          3.637929805023515,
          3.451740394799625,
          3.6141375908589777,
          3.765750489384652,
          3.568917133510204,
          3.480682306325487,
          3.5477377949398856,
          3.4935416951674823,
          2.8886567869289896,
          3.1007839620758677,
          3.039612381896724,
          3.282009999342054,
          3.512631039809221,
          3.58963688605495,
          3.486954433328225,
          3.2938264383861777,
          2.9846623061901068,
          2.799760853361433,
          3.796817081759356,
          3.540392048738378,
          3.6532607660371457,
          3.649081608732339,
          3.56869442740284,
          3.6298884861654352,
          3.4696600454631072,
          3.348577428742616,
          2.9092082404977457,
          3.070665753453728,
          3.2374683332495686,
          3.4040464859922963,
          3.3244265101417327,
          3.4566696294237578,
          3.613429521975476,
          3.517486210579723,
          3.3553557233947067,
          3.547910016864493,
          3.4254527011208484,
          3.3218675806307885,
          3.670885687484048,
          3.6652150164542263,
          3.619687990279051,
          3.702620068070637,
          3.68532067185346,
          3.477323878202748,
          3.3731511671158896,
          3.186249820779088,
          3.1934307237268453,
          3.3315285188686907,
          3.4407831813593344,
          3.203468051862646,
          3.354530998050396,
          3.581392075411313,
          3.313888302113868,
          3.339888497223747,
          3.7942509673156666,
          3.652613739905715,
          3.443951053179596,
          3.461348433647983,
          3.6346888238263193,
          3.4471270091998507,
          3.5148398403054824,
          3.3469394626989906,
          2.9309032063544818,
          3.261143867700667,
          3.2841824946369016,
          3.4966806180681678,
          3.322777314703207,
          3.556109438091557,
          3.587464009066074,
          3.4315567410481447,
          3.665693536558747,
          3.874881717897221,
          3.8899848285324894,
          3.913612547317814,
          3.793769437506466,
          3.786857853828952,
          3.4873080991093484,
          3.6554265877459184,
          3.766420283598079,
          3.248757722627297,
          3.0607356034493187,
          3.1076508261464864,
          3.446909792134601,
          3.154910645788524,
          3.5317343092765503,
          3.4811271846440754,
          3.6434131933749367,
          3.40844349315213,
          3.580594284452353,
          3.640888707588621,
          4.0408791245157865,
          4.039057018033444,
          3.67999991622922,
          3.5055569386638217,
          3.467918733281008,
          3.762138172348833,
          3.831095157040669,
          3.482244544154396,
          2.991761965668356,
          3.294466226161593,
          3.293185706706598,
          3.4935835112132727,
          3.5935740239975607,
          3.595837791249608,
          3.4773383476918927,
          3.67091348499946,
          3.776984327200811,
          3.533683106579122,
          4.107549129744687,
          4.06881642992222,
          3.797253687516248,
          3.417122788878019,
          3.561137175675386,
          3.3123466390308534,
          3.546641355554889,
          3.6823165933354174,
          2.9987038702499897,
          2.7561719029186884,
          3.3705871002466763,
          3.344883279369863,
          3.560062129651679,
          3.564583220891482,
          3.511950170375499,
          3.42030238517869,
          3.517855418930029,
          3.826942524232053,
          3.861791207862207,
          4.115410790133919,
          3.703497726466812,
          3.4094935368675765,
          3.6101595844990415,
          3.404577167740624,
          2.989213917467285,
          3.382755256046617,
          3.683110105472114,
          3.0394537789617364,
          3.2131723090468194,
          3.209783014848515,
          3.4885507165004443,
          3.376339672571035,
          3.3123466390308534,
          3.2920566046214685,
          3.258541507118461,
          3.575372611780864,
          3.8120572874103313,
          4.002943206876325,
          3.8377020469308687,
          3.6456285593546665,
          3.630051391142388,
          3.316159128107968,
          3.247162809039331,
          3.044069150468914,
          3.7326671184484415,
          3.1646502159342966,
          3.441097864716268,
          3.0906459575733147,
          3.2595460990870224,
          3.4679039465228003,
          3.4500642628252307,
          3.399621810671736,
          3.55303301620244,
          3.66805960729094,
          3.7707710339354974,
          3.4605821507396715,
          3.843811866551211,
          3.76692566612742,
          3.345922379138341,
          3.316766870141432,
          3.6767850304192056,
          3.3428764787911143,
          3.679945470619215,
          3.076786033508079,
          3.4299136977637543,
          3.264156436745886,
          3.047742018180642,
          3.3576680930436336,
          3.6739880019689015,
          3.646305680284759,
          3.801396849070872,
          3.922055598911024,
          3.876846880805894,
          3.143764014612251,
          3.833567810224132,
          3.865903099207173,
          3.849536110919716,
          3.670338641127442,
          3.611000652705049,
          3.4378931908695134,
          3.5725812013324862,
          3.002986340856785,
          3.2255418771872306,
          3.467830005178976,
          3.647118791786232,
          3.480438147177817,
          3.4199062063695944,
          3.6746590963136496,
          3.448428035011636,
          3.922766965637553,
          3.835982116622058,
          3.64872095972708,
          3.874360035818432,
          3.871158289974975,
          3.413299764081252,
          3.803580011790885,
          3.3283796034387376,
          3.514335201826775,
          3.5032866635589146,
          3.394364112627129,
          3.3171227377145382,
          3.280714919491007,
          3.245463313364196,
          3.5707063532938466,
          3.5389128939036736,
          3.666620926096321,
          3.586621056817303,
          3.6579923063702062,
          3.5107862179228397,
          3.1409477713426623,
          3.734415753081919,
          3.885315978666618,
          3.6499965074660414,
          3.7304027076032247,
          3.3827912343816475,
          3.4714237399858665,
          2.800050006668458,
          3.3470371337849536,
          3.454158589944344,
          3.4213406383004434,
          3.496417598053557,
          3.777564556725691,
          3.902454366401226,
          3.773062016986861,
          3.2593549273080344,
          3.574714020754261,
          3.2107197156810017,
          4.040404528914159,
          3.755882474807094,
          3.244004828091453,
          3.387389826338729,
          3.8867162741164782,
          3.810434155922673,
          3.120869940179188,
          3.5180530800797216,
          3.1820149861507345,
          3.356962310706225,
          3.701153351101062,
          3.699699006874801,
          3.878562006091662,
          3.939933382025044,
          4.028530586511328,
          3.720771020804632,
          3.914924648205148,
          4.19412566176021,
          4.1336985461157765,
          3.641860639011095,
          3.2947747522184434,
          3.469203257834215,
          3.594823315928977,
          3.3017893467687185,
          3.3185641551011797,
          3.27401922251933,
          3.230704313612569,
          3.6122433004850887,
          3.7315887651867383,
          4.022799404511688,
          3.9724712956870656,
          4.054114900510585,
          3.248929133718768,
          3.693163935418248,
          4.418996931155748,
          4.054766217838991,
          3.716320596773964,
          3.542613827964055,
          3.7725710610095327,
          3.4571700997846198,
          3.4424170505313185,
          3.678226930672895,
          3.443654067612905,
          3.6450684012079138,
          3.5331108381053538,
          3.6778988173026494,
          3.511067457710023,
          3.8398989393088607,
          3.774743177879055,
          3.6199068703249626,
          3.7923846846920553,
          3.4718781993072905,
          4.065878352857392,
          3.986906031380721,
          3.74423820378745,
          3.7878428819986114,
          3.931061027025675,
          3.495447200122584,
          3.5375420653268086,
          3.329174063417513,
          3.559128265654297,
          3.80197964291853,
          3.850921793043285,
          4.0330616925381735,
          3.653067724815208,
          3.9541604682886127,
          3.794683191340909,
          3.839264304301623,
          3.722617471673684,
          3.681901225161549,
          3.9294444716971775,
          3.873878372939624,
          3.876893013025544,
          4.041511112959324,
          3.773676760807886,
          3.5538587637045733,
          3.3601388135775747,
          2.8951904182613224,
          3.59148755973202,
          3.869654071089254,
          3.566496415535762,
          3.793978863898634,
          3.743564636015936,
          3.9961087121606176,
          3.823278556951671,
          3.95562041261558,
          3.86391143581624,
          3.630499065006645,
          4.061377074193888,
          4.263446689109733,
          4.127752515832973,
          3.925214080498513,
          4.04871363808097,
          3.8085148052143656,
          2.995534286177595,
          3.2788907249286785,
          3.59209899950497,
          3.749419365889047,
          3.862977667081077,
          3.4573216436768344,
          3.650482371613894,
          3.8287500967039754,
          4.02428037604708,
          3.805072469287856,
          3.8327196221397406,
          3.8703395172272215,
          4.060055364824845,
          4.2043642046210055,
          4.109274738230295,
          3.754348335711019,
          3.91756852231815,
          3.8622268181623176,
          3.189069009399324,
          3.270795253376848,
          3.5629230264369363,
          3.606230840940389,
          3.5803660747406285,
          3.458033192496506,
          3.8673790878556447,
          3.783016942662037,
          3.8238262171527486,
          4.218588016489417,
          3.9108750922364193,
          4.062205808819713,
          4.137575633682041,
          4.077767490382056,
          3.6722826247889206,
          3.847208538154862,
          3.601527654464692,
          3.270608970823178,
          3.530020306504705,
          3.6948420222504814,
          3.548168221764868,
          3.299202117603422,
          3.320333262618385,
          3.502413462710515,
          3.513710231475067,
          3.9855926149560137,
          3.896311221581429,
          3.921988036390143,
          4.177421057483169,
          4.302547372487486,
          4.1089707168794805,
          4.157849480452902,
          4.137797043058186,
          3.741238291456277,
          3.4157743832091074
         ],
         "yaxis": "y",
         "ybingroup": "y"
        }
       ],
       "layout": {
        "coloraxis": {
         "colorbar": {
          "title": {
           "text": "count"
          }
         },
         "colorscale": [
          [
           0,
           "rgb(0,0,0)"
          ],
          [
           0.25,
           "rgb(230,0,0)"
          ],
          [
           0.5,
           "rgb(230,210,0)"
          ],
          [
           0.75,
           "rgb(255,255,255)"
          ],
          [
           1,
           "rgb(160,200,255)"
          ]
         ]
        },
        "font": {
         "size": 25
        },
        "legend": {
         "title": {
          "text": "Legend Title"
         },
         "tracegroupgap": 0
        },
        "margin": {
         "t": 60
        },
        "template": {
         "data": {
          "bar": [
           {
            "error_x": {
             "color": "#2a3f5f"
            },
            "error_y": {
             "color": "#2a3f5f"
            },
            "marker": {
             "line": {
              "color": "#E5ECF6",
              "width": 0.5
             },
             "pattern": {
              "fillmode": "overlay",
              "size": 10,
              "solidity": 0.2
             }
            },
            "type": "bar"
           }
          ],
          "barpolar": [
           {
            "marker": {
             "line": {
              "color": "#E5ECF6",
              "width": 0.5
             },
             "pattern": {
              "fillmode": "overlay",
              "size": 10,
              "solidity": 0.2
             }
            },
            "type": "barpolar"
           }
          ],
          "carpet": [
           {
            "aaxis": {
             "endlinecolor": "#2a3f5f",
             "gridcolor": "white",
             "linecolor": "white",
             "minorgridcolor": "white",
             "startlinecolor": "#2a3f5f"
            },
            "baxis": {
             "endlinecolor": "#2a3f5f",
             "gridcolor": "white",
             "linecolor": "white",
             "minorgridcolor": "white",
             "startlinecolor": "#2a3f5f"
            },
            "type": "carpet"
           }
          ],
          "choropleth": [
           {
            "colorbar": {
             "outlinewidth": 0,
             "ticks": ""
            },
            "type": "choropleth"
           }
          ],
          "contour": [
           {
            "colorbar": {
             "outlinewidth": 0,
             "ticks": ""
            },
            "colorscale": [
             [
              0,
              "#0d0887"
             ],
             [
              0.1111111111111111,
              "#46039f"
             ],
             [
              0.2222222222222222,
              "#7201a8"
             ],
             [
              0.3333333333333333,
              "#9c179e"
             ],
             [
              0.4444444444444444,
              "#bd3786"
             ],
             [
              0.5555555555555556,
              "#d8576b"
             ],
             [
              0.6666666666666666,
              "#ed7953"
             ],
             [
              0.7777777777777778,
              "#fb9f3a"
             ],
             [
              0.8888888888888888,
              "#fdca26"
             ],
             [
              1,
              "#f0f921"
             ]
            ],
            "type": "contour"
           }
          ],
          "contourcarpet": [
           {
            "colorbar": {
             "outlinewidth": 0,
             "ticks": ""
            },
            "type": "contourcarpet"
           }
          ],
          "heatmap": [
           {
            "colorbar": {
             "outlinewidth": 0,
             "ticks": ""
            },
            "colorscale": [
             [
              0,
              "#0d0887"
             ],
             [
              0.1111111111111111,
              "#46039f"
             ],
             [
              0.2222222222222222,
              "#7201a8"
             ],
             [
              0.3333333333333333,
              "#9c179e"
             ],
             [
              0.4444444444444444,
              "#bd3786"
             ],
             [
              0.5555555555555556,
              "#d8576b"
             ],
             [
              0.6666666666666666,
              "#ed7953"
             ],
             [
              0.7777777777777778,
              "#fb9f3a"
             ],
             [
              0.8888888888888888,
              "#fdca26"
             ],
             [
              1,
              "#f0f921"
             ]
            ],
            "type": "heatmap"
           }
          ],
          "heatmapgl": [
           {
            "colorbar": {
             "outlinewidth": 0,
             "ticks": ""
            },
            "colorscale": [
             [
              0,
              "#0d0887"
             ],
             [
              0.1111111111111111,
              "#46039f"
             ],
             [
              0.2222222222222222,
              "#7201a8"
             ],
             [
              0.3333333333333333,
              "#9c179e"
             ],
             [
              0.4444444444444444,
              "#bd3786"
             ],
             [
              0.5555555555555556,
              "#d8576b"
             ],
             [
              0.6666666666666666,
              "#ed7953"
             ],
             [
              0.7777777777777778,
              "#fb9f3a"
             ],
             [
              0.8888888888888888,
              "#fdca26"
             ],
             [
              1,
              "#f0f921"
             ]
            ],
            "type": "heatmapgl"
           }
          ],
          "histogram": [
           {
            "marker": {
             "pattern": {
              "fillmode": "overlay",
              "size": 10,
              "solidity": 0.2
             }
            },
            "type": "histogram"
           }
          ],
          "histogram2d": [
           {
            "colorbar": {
             "outlinewidth": 0,
             "ticks": ""
            },
            "colorscale": [
             [
              0,
              "#0d0887"
             ],
             [
              0.1111111111111111,
              "#46039f"
             ],
             [
              0.2222222222222222,
              "#7201a8"
             ],
             [
              0.3333333333333333,
              "#9c179e"
             ],
             [
              0.4444444444444444,
              "#bd3786"
             ],
             [
              0.5555555555555556,
              "#d8576b"
             ],
             [
              0.6666666666666666,
              "#ed7953"
             ],
             [
              0.7777777777777778,
              "#fb9f3a"
             ],
             [
              0.8888888888888888,
              "#fdca26"
             ],
             [
              1,
              "#f0f921"
             ]
            ],
            "type": "histogram2d"
           }
          ],
          "histogram2dcontour": [
           {
            "colorbar": {
             "outlinewidth": 0,
             "ticks": ""
            },
            "colorscale": [
             [
              0,
              "#0d0887"
             ],
             [
              0.1111111111111111,
              "#46039f"
             ],
             [
              0.2222222222222222,
              "#7201a8"
             ],
             [
              0.3333333333333333,
              "#9c179e"
             ],
             [
              0.4444444444444444,
              "#bd3786"
             ],
             [
              0.5555555555555556,
              "#d8576b"
             ],
             [
              0.6666666666666666,
              "#ed7953"
             ],
             [
              0.7777777777777778,
              "#fb9f3a"
             ],
             [
              0.8888888888888888,
              "#fdca26"
             ],
             [
              1,
              "#f0f921"
             ]
            ],
            "type": "histogram2dcontour"
           }
          ],
          "mesh3d": [
           {
            "colorbar": {
             "outlinewidth": 0,
             "ticks": ""
            },
            "type": "mesh3d"
           }
          ],
          "parcoords": [
           {
            "line": {
             "colorbar": {
              "outlinewidth": 0,
              "ticks": ""
             }
            },
            "type": "parcoords"
           }
          ],
          "pie": [
           {
            "automargin": true,
            "type": "pie"
           }
          ],
          "scatter": [
           {
            "marker": {
             "colorbar": {
              "outlinewidth": 0,
              "ticks": ""
             }
            },
            "type": "scatter"
           }
          ],
          "scatter3d": [
           {
            "line": {
             "colorbar": {
              "outlinewidth": 0,
              "ticks": ""
             }
            },
            "marker": {
             "colorbar": {
              "outlinewidth": 0,
              "ticks": ""
             }
            },
            "type": "scatter3d"
           }
          ],
          "scattercarpet": [
           {
            "marker": {
             "colorbar": {
              "outlinewidth": 0,
              "ticks": ""
             }
            },
            "type": "scattercarpet"
           }
          ],
          "scattergeo": [
           {
            "marker": {
             "colorbar": {
              "outlinewidth": 0,
              "ticks": ""
             }
            },
            "type": "scattergeo"
           }
          ],
          "scattergl": [
           {
            "marker": {
             "colorbar": {
              "outlinewidth": 0,
              "ticks": ""
             }
            },
            "type": "scattergl"
           }
          ],
          "scattermapbox": [
           {
            "marker": {
             "colorbar": {
              "outlinewidth": 0,
              "ticks": ""
             }
            },
            "type": "scattermapbox"
           }
          ],
          "scatterpolar": [
           {
            "marker": {
             "colorbar": {
              "outlinewidth": 0,
              "ticks": ""
             }
            },
            "type": "scatterpolar"
           }
          ],
          "scatterpolargl": [
           {
            "marker": {
             "colorbar": {
              "outlinewidth": 0,
              "ticks": ""
             }
            },
            "type": "scatterpolargl"
           }
          ],
          "scatterternary": [
           {
            "marker": {
             "colorbar": {
              "outlinewidth": 0,
              "ticks": ""
             }
            },
            "type": "scatterternary"
           }
          ],
          "surface": [
           {
            "colorbar": {
             "outlinewidth": 0,
             "ticks": ""
            },
            "colorscale": [
             [
              0,
              "#0d0887"
             ],
             [
              0.1111111111111111,
              "#46039f"
             ],
             [
              0.2222222222222222,
              "#7201a8"
             ],
             [
              0.3333333333333333,
              "#9c179e"
             ],
             [
              0.4444444444444444,
              "#bd3786"
             ],
             [
              0.5555555555555556,
              "#d8576b"
             ],
             [
              0.6666666666666666,
              "#ed7953"
             ],
             [
              0.7777777777777778,
              "#fb9f3a"
             ],
             [
              0.8888888888888888,
              "#fdca26"
             ],
             [
              1,
              "#f0f921"
             ]
            ],
            "type": "surface"
           }
          ],
          "table": [
           {
            "cells": {
             "fill": {
              "color": "#EBF0F8"
             },
             "line": {
              "color": "white"
             }
            },
            "header": {
             "fill": {
              "color": "#C8D4E3"
             },
             "line": {
              "color": "white"
             }
            },
            "type": "table"
           }
          ]
         },
         "layout": {
          "annotationdefaults": {
           "arrowcolor": "#2a3f5f",
           "arrowhead": 0,
           "arrowwidth": 1
          },
          "autotypenumbers": "strict",
          "coloraxis": {
           "colorbar": {
            "outlinewidth": 0,
            "ticks": ""
           }
          },
          "colorscale": {
           "diverging": [
            [
             0,
             "#8e0152"
            ],
            [
             0.1,
             "#c51b7d"
            ],
            [
             0.2,
             "#de77ae"
            ],
            [
             0.3,
             "#f1b6da"
            ],
            [
             0.4,
             "#fde0ef"
            ],
            [
             0.5,
             "#f7f7f7"
            ],
            [
             0.6,
             "#e6f5d0"
            ],
            [
             0.7,
             "#b8e186"
            ],
            [
             0.8,
             "#7fbc41"
            ],
            [
             0.9,
             "#4d9221"
            ],
            [
             1,
             "#276419"
            ]
           ],
           "sequential": [
            [
             0,
             "#0d0887"
            ],
            [
             0.1111111111111111,
             "#46039f"
            ],
            [
             0.2222222222222222,
             "#7201a8"
            ],
            [
             0.3333333333333333,
             "#9c179e"
            ],
            [
             0.4444444444444444,
             "#bd3786"
            ],
            [
             0.5555555555555556,
             "#d8576b"
            ],
            [
             0.6666666666666666,
             "#ed7953"
            ],
            [
             0.7777777777777778,
             "#fb9f3a"
            ],
            [
             0.8888888888888888,
             "#fdca26"
            ],
            [
             1,
             "#f0f921"
            ]
           ],
           "sequentialminus": [
            [
             0,
             "#0d0887"
            ],
            [
             0.1111111111111111,
             "#46039f"
            ],
            [
             0.2222222222222222,
             "#7201a8"
            ],
            [
             0.3333333333333333,
             "#9c179e"
            ],
            [
             0.4444444444444444,
             "#bd3786"
            ],
            [
             0.5555555555555556,
             "#d8576b"
            ],
            [
             0.6666666666666666,
             "#ed7953"
            ],
            [
             0.7777777777777778,
             "#fb9f3a"
            ],
            [
             0.8888888888888888,
             "#fdca26"
            ],
            [
             1,
             "#f0f921"
            ]
           ]
          },
          "colorway": [
           "#636efa",
           "#EF553B",
           "#00cc96",
           "#ab63fa",
           "#FFA15A",
           "#19d3f3",
           "#FF6692",
           "#B6E880",
           "#FF97FF",
           "#FECB52"
          ],
          "font": {
           "color": "#2a3f5f"
          },
          "geo": {
           "bgcolor": "white",
           "lakecolor": "white",
           "landcolor": "#E5ECF6",
           "showlakes": true,
           "showland": true,
           "subunitcolor": "white"
          },
          "hoverlabel": {
           "align": "left"
          },
          "hovermode": "closest",
          "mapbox": {
           "style": "light"
          },
          "paper_bgcolor": "white",
          "plot_bgcolor": "#E5ECF6",
          "polar": {
           "angularaxis": {
            "gridcolor": "white",
            "linecolor": "white",
            "ticks": ""
           },
           "bgcolor": "#E5ECF6",
           "radialaxis": {
            "gridcolor": "white",
            "linecolor": "white",
            "ticks": ""
           }
          },
          "scene": {
           "xaxis": {
            "backgroundcolor": "#E5ECF6",
            "gridcolor": "white",
            "gridwidth": 2,
            "linecolor": "white",
            "showbackground": true,
            "ticks": "",
            "zerolinecolor": "white"
           },
           "yaxis": {
            "backgroundcolor": "#E5ECF6",
            "gridcolor": "white",
            "gridwidth": 2,
            "linecolor": "white",
            "showbackground": true,
            "ticks": "",
            "zerolinecolor": "white"
           },
           "zaxis": {
            "backgroundcolor": "#E5ECF6",
            "gridcolor": "white",
            "gridwidth": 2,
            "linecolor": "white",
            "showbackground": true,
            "ticks": "",
            "zerolinecolor": "white"
           }
          },
          "shapedefaults": {
           "line": {
            "color": "#2a3f5f"
           }
          },
          "ternary": {
           "aaxis": {
            "gridcolor": "white",
            "linecolor": "white",
            "ticks": ""
           },
           "baxis": {
            "gridcolor": "white",
            "linecolor": "white",
            "ticks": ""
           },
           "bgcolor": "#E5ECF6",
           "caxis": {
            "gridcolor": "white",
            "linecolor": "white",
            "ticks": ""
           }
          },
          "title": {
           "x": 0.05
          },
          "xaxis": {
           "automargin": true,
           "gridcolor": "white",
           "linecolor": "white",
           "ticks": "",
           "title": {
            "standoff": 15
           },
           "zerolinecolor": "white",
           "zerolinewidth": 2
          },
          "yaxis": {
           "automargin": true,
           "gridcolor": "white",
           "linecolor": "white",
           "ticks": "",
           "title": {
            "standoff": 15
           },
           "zerolinecolor": "white",
           "zerolinewidth": 2
          }
         }
        },
        "xaxis": {
         "anchor": "y",
         "domain": [
          0,
          1
         ],
         "title": {
          "text": "$\\text{MSS anomaly #3}$"
         }
        },
        "yaxis": {
         "anchor": "x",
         "domain": [
          0,
          1
         ],
         "title": {
          "text": "$\\text{Microplastic mass, (g/km^2, log10 scale)}$"
         }
        }
       }
      },
      "text/html": [
       "<div>                            <div id=\"c64bacb7-e15b-4047-a33d-508edd0a322a\" class=\"plotly-graph-div\" style=\"height:525px; width:100%;\"></div>            <script type=\"text/javascript\">                require([\"plotly\"], function(Plotly) {                    window.PLOTLYENV=window.PLOTLYENV || {};                                    if (document.getElementById(\"c64bacb7-e15b-4047-a33d-508edd0a322a\")) {                    Plotly.newPlot(                        \"c64bacb7-e15b-4047-a33d-508edd0a322a\",                        [{\"coloraxis\":\"coloraxis\",\"hovertemplate\":\"mss_anomaly_wind_refitted=%{x}<br>micro_mass=%{y}<br>count=%{z}<extra></extra>\",\"name\":\"\",\"x\":[0.007196471750900548,0.0036179909317920074,0.0026837002981850225,-0.009699744382814922,0.005065111106448839,0.006437931194403644,-0.001816968496810616,-0.01683531378681043,-0.020863215147884192,-0.023771143508990844,-0.023181685362104132,-0.02115861466711719,-0.0348182179738515,-0.02421427915929457,-0.012724047280214507,-0.010830624962688832,-0.028559336725380084,-0.001745594626633974,0.06652277002817232,0.0047469000386614795,0.004331759735906425,0.0004679390607356661,-0.0031889295448980903,0.012853018342615869,0.021346731806058034,0.0036067477023617248,-0.01767106056614853,-0.022055657865390082,-0.02430664930850656,-0.026206241118611175,-0.020520361815465724,-0.0373427040664405,-0.0302989876106391,-0.0291686407505827,-0.007597598487473369,-0.03343327882342838,0.0021224498200478467,0.04910736423650073,0.004387957010823432,0.012639919054064757,-0.004869481346061809,0.015160628027133909,0.008947136326647556,0.015581286500563972,0.0007829131366427893,-0.01607912609654673,-0.02892567832849567,-0.03291878293842757,-0.02204446457464774,-0.022428004774161972,-0.033278913963956804,-0.03087373268588834,-0.021566624649708575,-0.018271196373181118,-0.04006481558076558,0.014455445083200727,0.012486768777554781,0.01668071769946147,0.00875823019895686,0.0038965285186379262,-0.0075204329877509276,-0.0033983608850279828,0.004641131491953324,-0.016065191515516504,-0.027313346209350824,-0.03774834140759713,-0.03257633644411346,-0.03133412959177156,-0.028921462271697226,-0.02821568134698137,-0.018865448732468593,-0.01855744758176465,-0.05245133707512553,0.013675856544340002,0.05326934071767493,0.015589413778805529,-0.005072062484463061,0.006039058783821725,-0.0008381904820534409,0.0003870941647858481,-0.0019058816093539194,0.011343112413280657,-0.013425130504189912,-0.026275317585406497,-0.03181587908235465,-0.03805460181762568,-0.029961078744047954,-0.029737551281031515,-0.0299586261358333,-0.022662405120052274,-0.03729044200382966,-0.054939322536168,0.00026654912138580406,0.061576849721514955,0.006162863907502924,0.005992535120932206,0.012255416017081161,0.005737000924324125,0.009106145084400304,0.0055531548873851925,0.014486840018453039,-0.008977689456970977,-0.026831825139665675,-0.03503038567595978,-0.04170445753286768,-0.02283333897783349,-0.02476164607920959,-0.04858269728898703,-0.03626312504878075,-0.042014340953342035,-0.015630448297932153,0.10090123675191232,0.009506692224554403,0.0017004472295179662,0.005319198514421107,0.0155409818899412,-0.0009719996086946006,0.00630943466529669,-0.001330616797858957,0.004648495475685337,-0.024259048011778857,-0.023205735445635655,-0.02421839866006506,-0.032509735269401034,-0.03728166357318717,-0.050070506291742665,-0.03708157496037157,-0.04915084272091488,-0.06337686624697472,-0.022248852802780036,0.05574786684562593,0.02182009792412573,-0.0011107326789388705,0.002714149618391166,0.006682153637249466,5.471392890835797e-05,-0.0036547824052127254,0.0038582529255732864,0.009587629336713073,-0.011204555282730297,-0.00954931420762923,-0.021105086488407573,-0.028391890963042885,-0.038865216081783185,-0.05017012440617658,-0.03603930265975388,-0.04744344452122512,-0.01666985126762536,0.019691930190515766,0.01801367322418112,0.0048163681682941405,0.007898125870421617,0.003964055866448825,0.003836861336164456,-0.004826949450341312,-0.0015561740267062225,0.0010468817768196966,-0.0014252196473499583,-0.010950713341892066,-0.017024248349292847,-0.020243207575967894,-0.044324626874894635,-0.05265618643332982,-0.03807224685878376,-0.041951002231224964,-0.06338800132416339,-0.020413131734900617,-0.013116372180281432,0.01802761368893028,0.002975294010702205,-0.014676330163301676,-0.005705646876972001,-0.00048343181170320117,0.006594262926933136,-0.0032965203407671955,-0.0012295174470617306,0.001505126030834553,-0.009798017676634525,-0.012120836168725495,-0.005283108910227044,-0.03768301215869712,-0.05863673366829651,-0.04545959208555681,-0.04587593003951825,-0.04886234378169697,-0.02012563709380622,-0.015614655618391978,0.010540282585407738,0.0013822434225217064,-0.00839533361984537,0.006280992296308095,-0.004230311889054939,-0.0062697875243878844,-0.010590680945303828,-0.0017829255025223836,0.010880080258246567,-0.001868862695321141,-0.009805579605869395,-0.006933090938192819,-0.02789008953810193,-0.061374819023504085,-0.04549464353459519,-0.045077552007070545,-0.05694813332584967,-0.014334759672804415,0.02025215233718307,0.004161429817831581,-0.015997743518001616,-0.005458661947515672,-0.002786110905027024,-0.0018347493537558147,-0.0005998047060751883,-0.007066656580561545,0.00023349867853674898,-0.007571118793895719,-0.009946816508025242,-0.012577457879776799,-0.01180770001643534,-0.020189101750245617,-0.052090411552838604,-0.04435042701947259,-0.05091917771896327,-0.04659187625607775,-0.01697145073040323,0.03187576947110023,0.004132681896215123,-0.018193864958585694,-0.018143326628180523,-0.0028347331200525103,-0.007650832577627757,-0.007902670590479397,-0.0087289927423302,-0.005527152497730616,-0.02106332618117389,-0.004885354447201973,-0.009052217933636489,-0.012975255841138839,-0.02144164346489014,-0.043939315372729014,-0.037511770711563384,-0.04163960199349605,-0.04753070536795668,-0.012880684315119522,0.0425012215333897,-0.00589378016165498,-0.00895247413986711,-0.018598904572041688,-0.00301485581793341,-0.007669583017091966,-0.01002705145944766,-0.0059477068824291,-0.015084466317710713,-0.030815019197537315,-0.01624933542474076,0.003540939595141663,-0.016787396302668466,-0.027043531793138155,-0.04295158543942881,-0.045735028790685056,-0.0503985698794227,-0.04543301376364268,-0.006843513119637003,-0.007098796948420729,0.0016608542054508575,-0.009172601277058923,-0.01772152444432856,-0.009898811371017205,-0.004534591212687828,-0.0022179659216098606,-0.009268460260027865,-0.024816455762494846,-0.04106033711408259,-0.01565950512891925,-0.0006655534834410419,-0.01653176688216308,-0.024364479817459612,-0.039840584731752206,-0.05645273293709484,-0.03671918651659519,-0.03398134203194472,-0.021974267066298958,0.013053446167409603,0.013121114767983185,-0.009795019121630718,-0.011887062288518381,-0.01751832373189148,-0.01003955367374151,-0.013252279772239816,-0.01826067719791592,-0.016929057302122512,-0.019510115059240437,-0.007886117040307212,-0.002392090768720784,-0.019094605046786315,-0.03583547958828331,-0.043900877026314795,-0.05533016914956421,-0.04172856755313921,-0.02815178909388319,-0.018581363106725948,0.005186961356656149,-0.001238049491406599,-0.008636798455953582,-0.010944270753968305,-0.012412113428699344,-0.004106234531259829,-0.02153577963551378,-0.006130739304044135,-0.012150718829822913,0.0002256272255958945,0.00013249522559194614,-0.006400588960501892,-0.0388394941659255,-0.05071301961900198,-0.057130400250872064,-0.048492206706310534,-0.02267418114321445,-0.006878167202437594,-0.0233007333381252,0.003634581504207836,0.0014507096420672903,-0.014145506534996131,-0.0003088413817679688,-0.003289636110574551,-0.006760377231608884,-0.006332478170317874,-0.00592715011939651,-0.009406962163232778,-0.016078548954253737,-0.012217845544774815,-0.012178768205594284,-0.0357309622685656,-0.0462203150766552,-0.05029120519531069,-0.0355524216073112,-0.03219050522180542,-0.015369817593578852,-0.03735442789838954,0.014215130565505666,0.0007106659588450712,-0.013545421528668292,-0.012715684597658749,-0.0010556289578637409,-0.014838568934851408,-0.002601816666516993,-0.0037165038912122792,-0.015701130346147733,-0.01645645663029673,-0.011380731623063469,-0.01511399668008888,-0.02491907643401566,-0.04171820310426516,-0.0461826649417362,-0.03584563273983833,-0.030161286222245134,0.008345277294908839,-7.762307490166526e-05,-0.007461500905958588,-0.009056028625517736,-0.014895857762555115,-0.0021480385843875385,-0.039194206906514074,-0.017363766513342822,-0.004606632177724575,-0.0028646837474099827,-0.010074646334617632,9.960334798648792e-05,-0.013432855704696996,-0.023225605930803195,-0.04464744213915771,-0.04676813336803241,-0.03434116091801192,-0.030057101060324165,-0.01716246300604059,0.0034250841243468246,-0.003534199817838019,-0.003833712556206489,-0.015689096630351878,-0.0011906167334985918,-0.0022452120736303357,-0.010636355432613815,-0.00011724902862892416,0.013895377697511457,-0.015423833464744746,-0.011097828378932719,-0.018633491803722032,-0.027921353476614626,-0.03970341350513173,-0.04581143864781451,-0.036473515643442006,-0.03623578020494449,-0.00974228899116669,0.009649886279193885,-0.0038450679878999985,-0.006544046532313839,-0.011465561762666552,-0.0034164131389540597,0.021076579865276616,-0.005708208197933974,0.0054441176610478,-0.0007434837266603562,-0.010941653495485416,-0.02257291704860213,-0.02144711269407355,-0.028273291415853264,-0.03746662885693477,-0.04380896509934069,-0.04028530342564877,-0.04012154077302841,-0.022018705142566253,0.010771497526081376,-0.00932626568476129,-0.004676388692394199,-0.006056510543494973,-0.0021345796440155385,0.011524973525407468,-0.00048483291573892537,0.004009890238296738,0.0011044052371062061,-0.00493318418445202,-0.029593033862916306,-0.022958504313607617,-0.029744738117020192,-0.04323691475788211,-0.03233530386104781,-0.03811566060592472,-0.04326768564772177,-0.008759410764043053,-0.0018228861815687497,0.006240034925006574,-0.009399925041194959,-0.004665854110979643,-0.020035820727095935,0.01017348591044,0.00185412534772587,-0.004964568641420311,0.0038586710739439414,-0.024257561374369456,-0.03116492939287492,-0.022152101430120832,-0.03829593448532647,-0.047189839525869894,-0.026164308887497316,-0.03759180078394522,-0.042075972824576535,-0.010939553419241367,0.005965958872332232,0.0062548712322182095,0.0016132419494212973,-8.825805684787688e-05,-0.0012461936957542208,0.010162652239620469,0.0025487759406785638,-0.008120868059050343,-0.002309829622853153,-0.02106033683675643,-0.03284327653114219,-0.030304874248370882,-0.05396101181783187,-0.058552287311506496,-0.032926297666653184,-0.04136825230395631,-0.04970645526472642,-0.011759917975985152,0.012692581250758292,-0.006333840882729279,0.004696717423174726,0.006331694078089477,0.01320136141294843,0.012033016655437817,-0.0008773933705075036,-0.008217720606603633,-0.023215728093102517,-0.022113364607999526,-0.03315581430306855,-0.04071477507126811,-0.0488444669752156,-0.06582316874952335,-0.046971937439491476,-0.028098078202964567,-0.044800761177322665,-0.03188326478748648,-0.05068124424674881,0.015197472391087444,0.002966001219031709,0.0032570262846370345,0.0024735801692219225,0.006374288759522017,0.011826853555234081,-0.0073056901038822,-0.01121099073082432,-0.02143153067696484,-0.017163617269462986,-0.025717124111709327,-0.039105785559592945,-0.06417862430487378,-0.07198879798178322,-0.04765333593440966,-0.030386323244731596,-0.042678637464407,-0.031136285197288352,0.010510862322834954,0.0078072126864320605,0.008202707707243974,0.009009132430166713,0.0009767347715463925,0.006938038067323091,-0.007826220862458115,-0.014252238515117708,-0.028596252075863634,-0.01670665129295248,-0.02919541552623674,-0.033442888859505616,-0.06638618268180924,-0.07219812810539666,-0.047223728015003394,-0.04145071816516818,-0.042848295218421185,-0.03514116206107692,0.0025946486369117856,0.008704458206539733,0.02195286869467933,-0.0014451212183047484,0.0042231826363858934,0.0012222307617336299,-0.01434413429982356,-0.014273959685530828,-0.026683214748534034,-0.02933129572748248,-0.027987614924355586,-0.0383104572439846,-0.058576560713310515,-0.06771956124011916,-0.0466803050142361,-0.04545232180138075,-0.034406714162350936,-0.030071674462316626,-0.0012977136141024107,0.014296972462765605,0.04680136614461047,0.017209998691109736,0.004454902217339182,-0.00508387142900838,-0.008097609269525923,-0.020096308469883736,-0.029637599937270137,-0.029240366077459883,-0.024584422437425372,-0.03126777517925029,-0.048006472544732344,-0.0596798168136302,-0.045049132206764785,-0.044043357269538314,-0.039865272940905964,-0.04275095852740253,0.025033775160363935,0.023991162442874556,0.03317476571915852,0.01937119498300454,0.00423301932839636,-0.007014816241239734,-0.01754098106335598,-0.02543828944080617,-0.03219207893486218,-0.029623297224165235,-0.02434066971440809,-0.03002116038967593,-0.046728702746489555,-0.05662993583998777,-0.05789221087074069,-0.04294847378845403,-0.04416406881514654,-0.061248985946315636,0.00033187460494612744,0.056082722594562394,0.022034040145784528,-0.0011462136011438047,-0.020708515389971302,-0.026052977093208404,-0.02308718453825887,-0.02870004860593131,-0.022877753289946814,-0.031732438914169374,-0.026879929446420165,-0.04333999611654218,-0.04703649282333094,-0.05933137947025646,-0.04611527222749988,-0.03877201236341756,-0.05344476124754175,0.009684547461330167,0.031042934092211726,0.021478585009980164,-0.002460174519785734,-0.02648542372154203,-0.03228468958493609,-0.027980442304366533,-0.031903355369707474,-0.014757330702174562,-0.03871912106627112,-0.031214931001249814,-0.04824494757770681,-0.029364180859239593,-0.062551422114897,-0.04444525467298583,-0.0483273000288337,-0.05027190225075475,0.008615887828670682,0.011613320051576571,0.011010538631325575,-0.027211075559529705,-0.02914474519062181,-0.039950074912737395,-0.03058259276160027,-0.02625185168732644,-0.02926655866823758,-0.030366190682388484,-0.034642735792119246,-0.04890850965348514,-0.047414404938503074,-0.053335644664564995,-0.0397562408146909,-0.052046607142515466,-0.06288984727227022,-0.00018657765094273794,0.01270193058511942,-0.0074815200850289485,-0.030852343840825327,-0.03513528631785971,-0.042781555212020574,-0.03616979284444079,-0.025753651829733513,-0.03208163641759318,-0.029734241291295836,-0.044504956948509526,-0.03894589470503574,-0.04528595460985204,-0.048251292467473506,-0.0478368105579492,-0.059691378063895066,-0.07016438849635931,0.02693392339317107,-0.0062958072236715835,0.006372397313387612,-0.012275821381762125,-0.028402769724692082,-0.0389865990791005,-0.033947679915679735,-0.03684613976489784,-0.04321186555616837,-0.038252848688130996,-0.026130429032341643,-0.030128676363660175,-0.027174345628023792,-0.043264991053366654,-0.053384440698419425,-0.05355123184761076,-0.05813343697494954,-0.05620677183441745,0.012243197008612938,0.008624182104677667,-0.007289651234558443,-0.023021474244964486,-0.019814858355337608,-0.03369107794798337,-0.021796454882245422,-0.04193410732403031,-0.045570280706886464,-0.039925495599505124,-0.0330137861115942,-0.03503595928721287,-0.03192124155991914,-0.042530546384799015,-0.056325263497600205,-0.062283032301435295,-0.06409765807216897,-0.05030211065377203,-0.004092667460583443,0.009159351089614062,0.001694449124648077,-0.006391941722412142,-0.027536725656470418,-0.02337656547254835,-0.02352962634699798,-0.04309495543516973,-0.04769076392616747,-0.04339906349636936,-0.02689748534034771,-0.03902759286668722,-0.04250138918743115,-0.04636993452591691,-0.05981739556959315,-0.05813254134725453,-0.06280229043915739,-0.05614169950368394,0.00449160644976422,0.003200076655095184,0.0015236921490652119,-0.008034149881516392,-0.025540963065625914,-0.02624871642013796,-0.031397126329176184,-0.03400341607426132,-0.05722593358811897,-0.041237653090183776,-0.03024746434451159,-0.04749675786890882,-0.03680800900746404,-0.044770771891167176,-0.058198555518996574,-0.05789705787697335,-0.063174755926451,-0.06304332518090394,0.014258138608373334,-0.0008911296151231633,0.009995461857347933,-0.015682112392151892,-0.01773148275890814,-0.020327235871446206,-0.030278261422447626,-0.03622813345586729,-0.05691076837972223,-0.041058482241736506,-0.05259656025122282,-0.04493963747179504,-0.047518946305028904,-0.05423261359454454,-0.052678813158176845,-0.052394937832466744,-0.06856324929630177,-0.05141109333125359,0.004982298733914681,-0.0007985974577081159,0.00019818368304952522,-0.011794615820490899,-0.016454620781203484,-0.016530732135899028,-0.03234948201770699,-0.04761896286529942,-0.05834994090944226,-0.05185635617143548,-0.05246736179481511,-0.04966278891138881,-0.04975131361954371,-0.06468774081884007,-0.0648707819907473,-0.0583056549109451,-0.05959140197880933],\"xaxis\":\"x\",\"xbingroup\":\"x\",\"y\":[2.996533561445376,3.039612381896724,2.8602241765490817,3.0727644210507505,2.975904908735697,2.85121552884238,2.60516492854612,3.226213120724108,3.631545227834309,3.592631917104661,3.5345591229326017,3.282916526795147,3.6097757719946575,3.1832128832942512,3.175656747281664,3.448922640496831,3.3675981636798333,3.2471873905863533,3.196176185039973,3.06020662106735,3.0728378746630867,3.088702960351474,3.2758179278775392,3.1653630506973744,3.123721006440036,2.7671558660821804,3.4321833243946944,3.1204093945560687,3.4115186955006505,3.532627001228891,3.4917117901707675,3.1977490676226124,3.499989334334184,3.356905034810078,3.4526296516220176,3.3555089880244338,3.178631675393253,3.209059034128797,3.2274496204698417,3.1760043914722527,3.140759370870369,3.056104097422453,3.093981703914113,3.383546091724474,3.299594453924923,3.1930689160052728,3.340523430789915,3.476092206257591,3.208226305935583,3.403703766212908,3.331872498488898,3.508044654346881,3.479589704847995,3.285197122810969,3.3304746514861368,3.122969094393747,3.165541076722373,3.196618271330244,3.5650563988119623,3.384496781137869,3.29254402833358,3.2024610706294,3.059108817913594,3.043676585602717,3.539063546747749,3.438811227509573,3.401848391395517,3.5688116553793403,3.457624572913057,3.5864747785713966,3.2523918031812444,3.415557582011711,3.515144994764821,3.312473557686056,3.1425458840862763,2.8829739680288555,2.9347609685493428,3.164858246962555,3.36679638328673,3.451586890456905,3.079325986752815,3.169909441901069,3.506139584266144,3.4977725227240044,3.428992811848026,3.3526840797772675,3.4246203282706547,3.5997302782956524,3.452675598175609,3.366142676814887,3.454722935672532,3.3761022583701,3.4886212131294285,3.011866356527724,3.095970922343714,2.650919185090123,2.9698816437465,2.902095400371952,3.167671716230021,2.840469946042419,2.943702215301322,3.1935976102980947,2.949028757659224,3.4011591990237893,3.4284425802799885,3.1183308740573024,3.5195786292939832,3.520352504083318,3.4966114177171703,3.378543247161644,3.281442457270873,3.073058160988836,3.2565974927628454,2.7811663448475565,3.122019172080031,3.0580462303952816,2.961273931114606,2.824776462475546,2.944023459150344,3.230142252318642,3.0878168979355296,3.159717546180216,3.719248398447946,3.316515493818436,3.3493552465952035,3.4350157419325607,3.3774883833761327,3.3649447772129477,3.199124114623325,3.316012304249463,3.257822516034476,2.63823959067475,2.816837630902035,3.2142608667775416,3.010427172717049,3.078057866979187,2.6858670838676657,2.617031810595345,3.462562699054192,3.450695493727006,3.4018311749089483,3.463654135971828,3.3659931199344446,3.413366831409298,3.33023108771928,3.615160664316557,3.671654096505517,3.350383714158389,3.2387484392812453,3.0189500215009746,2.844185062640145,3.2594027281425886,3.3267044450743257,3.094156561782523,3.1632806702619063,3.154910645788524,3.796851749049887,3.426153268215979,3.2430876795053765,3.183753705592957,3.4433255839537447,3.3068751736446376,3.406574241410554,3.451279718904047,3.2430876795053765,3.3055878020723406,3.3003780648707024,3.365244562017571,2.986888127498049,2.943459889680969,2.814760186901071,3.168939213835978,3.027838678188945,3.005866601875385,3.3110966259995687,3.519026893943312,3.6254256409328383,3.5813351389189854,3.4113671357427338,3.441192225277618,3.4666303981813926,3.2681097298084785,3.5146274324113405,3.206448064366523,3.404354702725426,3.38203506271893,3.4146224299225225,2.9943963480894658,2.7088795991431214,2.912625863611162,2.859528566443577,3.157517208532612,3.48061050905939,3.698283276396564,3.812518971865254,3.464474643455456,3.338097753706539,3.3950991373125707,3.439285313665999,3.376741155018397,3.191953767152995,3.531606631932722,3.5791888919086445,3.4418207722892835,3.323808795527016,3.086857915659847,3.039374455768474,3.0167827124868407,3.167671716230021,2.746174755740512,2.7104558643354246,3.3074532481716243,3.2710279942623237,3.5474916450866654,3.1067347000978454,3.191031608848618,3.4257135092850675,3.334192291524874,3.2620474592614253,2.9860099318532614,3.509310074209291,3.161368002234975,3.342817314635733,3.237292337567459,3.164352855784437,2.610255484648782,3.1509712320626115,2.923358018924471,2.8172545758737506,3.1396587362081774,3.5217132736383268,3.4343293373377297,3.3982178682348767,3.185712099870006,3.6101915535686246,3.365338202346941,3.52401944041029,3.2910801129635265,3.47189285137058,3.5576515417336867,3.357820543938364,3.2228984726094216,3.385552653685669,3.152532948434526,2.2804417782984165,2.840902407300528,3.174234304941022,2.847726855657811,3.222143969500662,3.6033392740339663,3.6313118371004247,3.420846541601197,3.113575716800568,2.8984399450993483,3.236713563365637,3.3550682063488506,3.554210443723098,3.5331235633784224,3.1655707406329,3.3490248442077672,3.212054364801163,3.1519517887072657,3.050998079173384,2.59802407233419,2.604809042259513,3.2192176570229067,2.88173834001874,3.349588320562463,3.567543915573101,3.657419207208256,3.6434131933749367,3.234289446933935,2.7098971990508005,2.933628992530939,3.3755904634668767,3.449092531119419,3.450141291342469,3.29132444179242,3.152380087047603,3.274042330049831,2.96908027622572,3.114510904848874,2.597859660262605,2.7712199019495336,3.022222104507706,3.530020306504705,3.469439079183607,3.5771239874231986,3.7326269294399737,3.572441739911853,3.1014721170002377,3.559092307674901,2.911727412810062,3.5155559509450858,3.5455174076014924,3.181929295503233,3.301008280397,3.3823773034681137,3.342994782927477,3.082030981267012,2.859090239921249,2.589424558095593,3.3802293369380374,3.4220971631317103,3.543633532576258,3.518579737087604,3.690612448549997,3.5091756301993318,3.3604419331026376,3.15357098143378,3.389467327055369,3.4708513245261177,3.610255484648782,3.616128780157716,3.6088361331847305,3.529147919800826,3.3014640731433,3.2884728005997825,3.284453294010853,2.944369148529006,2.920837862489194,3.252610340567373,3.4630564280851583,3.2221700086817653,3.526416823052384,3.444044795918076,3.341394951524041,3.249711866874659,3.263233538439489,2.7576692750068776,3.5649499787197536,3.31270614559789,3.6798728658533,3.658040030514154,3.657677195423304,3.391305688142909,3.420698202908807,3.291479852236699,3.1885066338181143,2.868456340516555,3.3081160158656147,3.3387751249335733,3.359645792674543,3.2322844020803947,3.5361289857589204,3.350945431337479,3.153113331510609,3.341968408179938,3.159236233412904,3.443919801103023,3.602483222156301,3.447313108823568,3.5922545013671594,3.3631040660746354,3.655829680927272,3.389609016051986,3.321038892726055,3.03977092693158,3.0465341827509693,3.6648675245001217,3.5695845674292563,3.514335201826775,3.533924504819994,3.3334875783789104,2.96764624294686,3.3611420877533327,3.637929805023515,3.451740394799625,3.6141375908589777,3.765750489384652,3.568917133510204,3.480682306325487,3.5477377949398856,3.4935416951674823,2.8886567869289896,3.1007839620758677,3.039612381896724,3.282009999342054,3.512631039809221,3.58963688605495,3.486954433328225,3.2938264383861777,2.9846623061901068,2.799760853361433,3.796817081759356,3.540392048738378,3.6532607660371457,3.649081608732339,3.56869442740284,3.6298884861654352,3.4696600454631072,3.348577428742616,2.9092082404977457,3.070665753453728,3.2374683332495686,3.4040464859922963,3.3244265101417327,3.4566696294237578,3.613429521975476,3.517486210579723,3.3553557233947067,3.547910016864493,3.4254527011208484,3.3218675806307885,3.670885687484048,3.6652150164542263,3.619687990279051,3.702620068070637,3.68532067185346,3.477323878202748,3.3731511671158896,3.186249820779088,3.1934307237268453,3.3315285188686907,3.4407831813593344,3.203468051862646,3.354530998050396,3.581392075411313,3.313888302113868,3.339888497223747,3.7942509673156666,3.652613739905715,3.443951053179596,3.461348433647983,3.6346888238263193,3.4471270091998507,3.5148398403054824,3.3469394626989906,2.9309032063544818,3.261143867700667,3.2841824946369016,3.4966806180681678,3.322777314703207,3.556109438091557,3.587464009066074,3.4315567410481447,3.665693536558747,3.874881717897221,3.8899848285324894,3.913612547317814,3.793769437506466,3.786857853828952,3.4873080991093484,3.6554265877459184,3.766420283598079,3.248757722627297,3.0607356034493187,3.1076508261464864,3.446909792134601,3.154910645788524,3.5317343092765503,3.4811271846440754,3.6434131933749367,3.40844349315213,3.580594284452353,3.640888707588621,4.0408791245157865,4.039057018033444,3.67999991622922,3.5055569386638217,3.467918733281008,3.762138172348833,3.831095157040669,3.482244544154396,2.991761965668356,3.294466226161593,3.293185706706598,3.4935835112132727,3.5935740239975607,3.595837791249608,3.4773383476918927,3.67091348499946,3.776984327200811,3.533683106579122,4.107549129744687,4.06881642992222,3.797253687516248,3.417122788878019,3.561137175675386,3.3123466390308534,3.546641355554889,3.6823165933354174,2.9987038702499897,2.7561719029186884,3.3705871002466763,3.344883279369863,3.560062129651679,3.564583220891482,3.511950170375499,3.42030238517869,3.517855418930029,3.826942524232053,3.861791207862207,4.115410790133919,3.703497726466812,3.4094935368675765,3.6101595844990415,3.404577167740624,2.989213917467285,3.382755256046617,3.683110105472114,3.0394537789617364,3.2131723090468194,3.209783014848515,3.4885507165004443,3.376339672571035,3.3123466390308534,3.2920566046214685,3.258541507118461,3.575372611780864,3.8120572874103313,4.002943206876325,3.8377020469308687,3.6456285593546665,3.630051391142388,3.316159128107968,3.247162809039331,3.044069150468914,3.7326671184484415,3.1646502159342966,3.441097864716268,3.0906459575733147,3.2595460990870224,3.4679039465228003,3.4500642628252307,3.399621810671736,3.55303301620244,3.66805960729094,3.7707710339354974,3.4605821507396715,3.843811866551211,3.76692566612742,3.345922379138341,3.316766870141432,3.6767850304192056,3.3428764787911143,3.679945470619215,3.076786033508079,3.4299136977637543,3.264156436745886,3.047742018180642,3.3576680930436336,3.6739880019689015,3.646305680284759,3.801396849070872,3.922055598911024,3.876846880805894,3.143764014612251,3.833567810224132,3.865903099207173,3.849536110919716,3.670338641127442,3.611000652705049,3.4378931908695134,3.5725812013324862,3.002986340856785,3.2255418771872306,3.467830005178976,3.647118791786232,3.480438147177817,3.4199062063695944,3.6746590963136496,3.448428035011636,3.922766965637553,3.835982116622058,3.64872095972708,3.874360035818432,3.871158289974975,3.413299764081252,3.803580011790885,3.3283796034387376,3.514335201826775,3.5032866635589146,3.394364112627129,3.3171227377145382,3.280714919491007,3.245463313364196,3.5707063532938466,3.5389128939036736,3.666620926096321,3.586621056817303,3.6579923063702062,3.5107862179228397,3.1409477713426623,3.734415753081919,3.885315978666618,3.6499965074660414,3.7304027076032247,3.3827912343816475,3.4714237399858665,2.800050006668458,3.3470371337849536,3.454158589944344,3.4213406383004434,3.496417598053557,3.777564556725691,3.902454366401226,3.773062016986861,3.2593549273080344,3.574714020754261,3.2107197156810017,4.040404528914159,3.755882474807094,3.244004828091453,3.387389826338729,3.8867162741164782,3.810434155922673,3.120869940179188,3.5180530800797216,3.1820149861507345,3.356962310706225,3.701153351101062,3.699699006874801,3.878562006091662,3.939933382025044,4.028530586511328,3.720771020804632,3.914924648205148,4.19412566176021,4.1336985461157765,3.641860639011095,3.2947747522184434,3.469203257834215,3.594823315928977,3.3017893467687185,3.3185641551011797,3.27401922251933,3.230704313612569,3.6122433004850887,3.7315887651867383,4.022799404511688,3.9724712956870656,4.054114900510585,3.248929133718768,3.693163935418248,4.418996931155748,4.054766217838991,3.716320596773964,3.542613827964055,3.7725710610095327,3.4571700997846198,3.4424170505313185,3.678226930672895,3.443654067612905,3.6450684012079138,3.5331108381053538,3.6778988173026494,3.511067457710023,3.8398989393088607,3.774743177879055,3.6199068703249626,3.7923846846920553,3.4718781993072905,4.065878352857392,3.986906031380721,3.74423820378745,3.7878428819986114,3.931061027025675,3.495447200122584,3.5375420653268086,3.329174063417513,3.559128265654297,3.80197964291853,3.850921793043285,4.0330616925381735,3.653067724815208,3.9541604682886127,3.794683191340909,3.839264304301623,3.722617471673684,3.681901225161549,3.9294444716971775,3.873878372939624,3.876893013025544,4.041511112959324,3.773676760807886,3.5538587637045733,3.3601388135775747,2.8951904182613224,3.59148755973202,3.869654071089254,3.566496415535762,3.793978863898634,3.743564636015936,3.9961087121606176,3.823278556951671,3.95562041261558,3.86391143581624,3.630499065006645,4.061377074193888,4.263446689109733,4.127752515832973,3.925214080498513,4.04871363808097,3.8085148052143656,2.995534286177595,3.2788907249286785,3.59209899950497,3.749419365889047,3.862977667081077,3.4573216436768344,3.650482371613894,3.8287500967039754,4.02428037604708,3.805072469287856,3.8327196221397406,3.8703395172272215,4.060055364824845,4.2043642046210055,4.109274738230295,3.754348335711019,3.91756852231815,3.8622268181623176,3.189069009399324,3.270795253376848,3.5629230264369363,3.606230840940389,3.5803660747406285,3.458033192496506,3.8673790878556447,3.783016942662037,3.8238262171527486,4.218588016489417,3.9108750922364193,4.062205808819713,4.137575633682041,4.077767490382056,3.6722826247889206,3.847208538154862,3.601527654464692,3.270608970823178,3.530020306504705,3.6948420222504814,3.548168221764868,3.299202117603422,3.320333262618385,3.502413462710515,3.513710231475067,3.9855926149560137,3.896311221581429,3.921988036390143,4.177421057483169,4.302547372487486,4.1089707168794805,4.157849480452902,4.137797043058186,3.741238291456277,3.4157743832091074],\"yaxis\":\"y\",\"ybingroup\":\"y\",\"type\":\"histogram2d\"}],                        {\"template\":{\"data\":{\"bar\":[{\"error_x\":{\"color\":\"#2a3f5f\"},\"error_y\":{\"color\":\"#2a3f5f\"},\"marker\":{\"line\":{\"color\":\"#E5ECF6\",\"width\":0.5},\"pattern\":{\"fillmode\":\"overlay\",\"size\":10,\"solidity\":0.2}},\"type\":\"bar\"}],\"barpolar\":[{\"marker\":{\"line\":{\"color\":\"#E5ECF6\",\"width\":0.5},\"pattern\":{\"fillmode\":\"overlay\",\"size\":10,\"solidity\":0.2}},\"type\":\"barpolar\"}],\"carpet\":[{\"aaxis\":{\"endlinecolor\":\"#2a3f5f\",\"gridcolor\":\"white\",\"linecolor\":\"white\",\"minorgridcolor\":\"white\",\"startlinecolor\":\"#2a3f5f\"},\"baxis\":{\"endlinecolor\":\"#2a3f5f\",\"gridcolor\":\"white\",\"linecolor\":\"white\",\"minorgridcolor\":\"white\",\"startlinecolor\":\"#2a3f5f\"},\"type\":\"carpet\"}],\"choropleth\":[{\"colorbar\":{\"outlinewidth\":0,\"ticks\":\"\"},\"type\":\"choropleth\"}],\"contour\":[{\"colorbar\":{\"outlinewidth\":0,\"ticks\":\"\"},\"colorscale\":[[0.0,\"#0d0887\"],[0.1111111111111111,\"#46039f\"],[0.2222222222222222,\"#7201a8\"],[0.3333333333333333,\"#9c179e\"],[0.4444444444444444,\"#bd3786\"],[0.5555555555555556,\"#d8576b\"],[0.6666666666666666,\"#ed7953\"],[0.7777777777777778,\"#fb9f3a\"],[0.8888888888888888,\"#fdca26\"],[1.0,\"#f0f921\"]],\"type\":\"contour\"}],\"contourcarpet\":[{\"colorbar\":{\"outlinewidth\":0,\"ticks\":\"\"},\"type\":\"contourcarpet\"}],\"heatmap\":[{\"colorbar\":{\"outlinewidth\":0,\"ticks\":\"\"},\"colorscale\":[[0.0,\"#0d0887\"],[0.1111111111111111,\"#46039f\"],[0.2222222222222222,\"#7201a8\"],[0.3333333333333333,\"#9c179e\"],[0.4444444444444444,\"#bd3786\"],[0.5555555555555556,\"#d8576b\"],[0.6666666666666666,\"#ed7953\"],[0.7777777777777778,\"#fb9f3a\"],[0.8888888888888888,\"#fdca26\"],[1.0,\"#f0f921\"]],\"type\":\"heatmap\"}],\"heatmapgl\":[{\"colorbar\":{\"outlinewidth\":0,\"ticks\":\"\"},\"colorscale\":[[0.0,\"#0d0887\"],[0.1111111111111111,\"#46039f\"],[0.2222222222222222,\"#7201a8\"],[0.3333333333333333,\"#9c179e\"],[0.4444444444444444,\"#bd3786\"],[0.5555555555555556,\"#d8576b\"],[0.6666666666666666,\"#ed7953\"],[0.7777777777777778,\"#fb9f3a\"],[0.8888888888888888,\"#fdca26\"],[1.0,\"#f0f921\"]],\"type\":\"heatmapgl\"}],\"histogram\":[{\"marker\":{\"pattern\":{\"fillmode\":\"overlay\",\"size\":10,\"solidity\":0.2}},\"type\":\"histogram\"}],\"histogram2d\":[{\"colorbar\":{\"outlinewidth\":0,\"ticks\":\"\"},\"colorscale\":[[0.0,\"#0d0887\"],[0.1111111111111111,\"#46039f\"],[0.2222222222222222,\"#7201a8\"],[0.3333333333333333,\"#9c179e\"],[0.4444444444444444,\"#bd3786\"],[0.5555555555555556,\"#d8576b\"],[0.6666666666666666,\"#ed7953\"],[0.7777777777777778,\"#fb9f3a\"],[0.8888888888888888,\"#fdca26\"],[1.0,\"#f0f921\"]],\"type\":\"histogram2d\"}],\"histogram2dcontour\":[{\"colorbar\":{\"outlinewidth\":0,\"ticks\":\"\"},\"colorscale\":[[0.0,\"#0d0887\"],[0.1111111111111111,\"#46039f\"],[0.2222222222222222,\"#7201a8\"],[0.3333333333333333,\"#9c179e\"],[0.4444444444444444,\"#bd3786\"],[0.5555555555555556,\"#d8576b\"],[0.6666666666666666,\"#ed7953\"],[0.7777777777777778,\"#fb9f3a\"],[0.8888888888888888,\"#fdca26\"],[1.0,\"#f0f921\"]],\"type\":\"histogram2dcontour\"}],\"mesh3d\":[{\"colorbar\":{\"outlinewidth\":0,\"ticks\":\"\"},\"type\":\"mesh3d\"}],\"parcoords\":[{\"line\":{\"colorbar\":{\"outlinewidth\":0,\"ticks\":\"\"}},\"type\":\"parcoords\"}],\"pie\":[{\"automargin\":true,\"type\":\"pie\"}],\"scatter\":[{\"marker\":{\"colorbar\":{\"outlinewidth\":0,\"ticks\":\"\"}},\"type\":\"scatter\"}],\"scatter3d\":[{\"line\":{\"colorbar\":{\"outlinewidth\":0,\"ticks\":\"\"}},\"marker\":{\"colorbar\":{\"outlinewidth\":0,\"ticks\":\"\"}},\"type\":\"scatter3d\"}],\"scattercarpet\":[{\"marker\":{\"colorbar\":{\"outlinewidth\":0,\"ticks\":\"\"}},\"type\":\"scattercarpet\"}],\"scattergeo\":[{\"marker\":{\"colorbar\":{\"outlinewidth\":0,\"ticks\":\"\"}},\"type\":\"scattergeo\"}],\"scattergl\":[{\"marker\":{\"colorbar\":{\"outlinewidth\":0,\"ticks\":\"\"}},\"type\":\"scattergl\"}],\"scattermapbox\":[{\"marker\":{\"colorbar\":{\"outlinewidth\":0,\"ticks\":\"\"}},\"type\":\"scattermapbox\"}],\"scatterpolar\":[{\"marker\":{\"colorbar\":{\"outlinewidth\":0,\"ticks\":\"\"}},\"type\":\"scatterpolar\"}],\"scatterpolargl\":[{\"marker\":{\"colorbar\":{\"outlinewidth\":0,\"ticks\":\"\"}},\"type\":\"scatterpolargl\"}],\"scatterternary\":[{\"marker\":{\"colorbar\":{\"outlinewidth\":0,\"ticks\":\"\"}},\"type\":\"scatterternary\"}],\"surface\":[{\"colorbar\":{\"outlinewidth\":0,\"ticks\":\"\"},\"colorscale\":[[0.0,\"#0d0887\"],[0.1111111111111111,\"#46039f\"],[0.2222222222222222,\"#7201a8\"],[0.3333333333333333,\"#9c179e\"],[0.4444444444444444,\"#bd3786\"],[0.5555555555555556,\"#d8576b\"],[0.6666666666666666,\"#ed7953\"],[0.7777777777777778,\"#fb9f3a\"],[0.8888888888888888,\"#fdca26\"],[1.0,\"#f0f921\"]],\"type\":\"surface\"}],\"table\":[{\"cells\":{\"fill\":{\"color\":\"#EBF0F8\"},\"line\":{\"color\":\"white\"}},\"header\":{\"fill\":{\"color\":\"#C8D4E3\"},\"line\":{\"color\":\"white\"}},\"type\":\"table\"}]},\"layout\":{\"annotationdefaults\":{\"arrowcolor\":\"#2a3f5f\",\"arrowhead\":0,\"arrowwidth\":1},\"autotypenumbers\":\"strict\",\"coloraxis\":{\"colorbar\":{\"outlinewidth\":0,\"ticks\":\"\"}},\"colorscale\":{\"diverging\":[[0,\"#8e0152\"],[0.1,\"#c51b7d\"],[0.2,\"#de77ae\"],[0.3,\"#f1b6da\"],[0.4,\"#fde0ef\"],[0.5,\"#f7f7f7\"],[0.6,\"#e6f5d0\"],[0.7,\"#b8e186\"],[0.8,\"#7fbc41\"],[0.9,\"#4d9221\"],[1,\"#276419\"]],\"sequential\":[[0.0,\"#0d0887\"],[0.1111111111111111,\"#46039f\"],[0.2222222222222222,\"#7201a8\"],[0.3333333333333333,\"#9c179e\"],[0.4444444444444444,\"#bd3786\"],[0.5555555555555556,\"#d8576b\"],[0.6666666666666666,\"#ed7953\"],[0.7777777777777778,\"#fb9f3a\"],[0.8888888888888888,\"#fdca26\"],[1.0,\"#f0f921\"]],\"sequentialminus\":[[0.0,\"#0d0887\"],[0.1111111111111111,\"#46039f\"],[0.2222222222222222,\"#7201a8\"],[0.3333333333333333,\"#9c179e\"],[0.4444444444444444,\"#bd3786\"],[0.5555555555555556,\"#d8576b\"],[0.6666666666666666,\"#ed7953\"],[0.7777777777777778,\"#fb9f3a\"],[0.8888888888888888,\"#fdca26\"],[1.0,\"#f0f921\"]]},\"colorway\":[\"#636efa\",\"#EF553B\",\"#00cc96\",\"#ab63fa\",\"#FFA15A\",\"#19d3f3\",\"#FF6692\",\"#B6E880\",\"#FF97FF\",\"#FECB52\"],\"font\":{\"color\":\"#2a3f5f\"},\"geo\":{\"bgcolor\":\"white\",\"lakecolor\":\"white\",\"landcolor\":\"#E5ECF6\",\"showlakes\":true,\"showland\":true,\"subunitcolor\":\"white\"},\"hoverlabel\":{\"align\":\"left\"},\"hovermode\":\"closest\",\"mapbox\":{\"style\":\"light\"},\"paper_bgcolor\":\"white\",\"plot_bgcolor\":\"#E5ECF6\",\"polar\":{\"angularaxis\":{\"gridcolor\":\"white\",\"linecolor\":\"white\",\"ticks\":\"\"},\"bgcolor\":\"#E5ECF6\",\"radialaxis\":{\"gridcolor\":\"white\",\"linecolor\":\"white\",\"ticks\":\"\"}},\"scene\":{\"xaxis\":{\"backgroundcolor\":\"#E5ECF6\",\"gridcolor\":\"white\",\"gridwidth\":2,\"linecolor\":\"white\",\"showbackground\":true,\"ticks\":\"\",\"zerolinecolor\":\"white\"},\"yaxis\":{\"backgroundcolor\":\"#E5ECF6\",\"gridcolor\":\"white\",\"gridwidth\":2,\"linecolor\":\"white\",\"showbackground\":true,\"ticks\":\"\",\"zerolinecolor\":\"white\"},\"zaxis\":{\"backgroundcolor\":\"#E5ECF6\",\"gridcolor\":\"white\",\"gridwidth\":2,\"linecolor\":\"white\",\"showbackground\":true,\"ticks\":\"\",\"zerolinecolor\":\"white\"}},\"shapedefaults\":{\"line\":{\"color\":\"#2a3f5f\"}},\"ternary\":{\"aaxis\":{\"gridcolor\":\"white\",\"linecolor\":\"white\",\"ticks\":\"\"},\"baxis\":{\"gridcolor\":\"white\",\"linecolor\":\"white\",\"ticks\":\"\"},\"bgcolor\":\"#E5ECF6\",\"caxis\":{\"gridcolor\":\"white\",\"linecolor\":\"white\",\"ticks\":\"\"}},\"title\":{\"x\":0.05},\"xaxis\":{\"automargin\":true,\"gridcolor\":\"white\",\"linecolor\":\"white\",\"ticks\":\"\",\"title\":{\"standoff\":15},\"zerolinecolor\":\"white\",\"zerolinewidth\":2},\"yaxis\":{\"automargin\":true,\"gridcolor\":\"white\",\"linecolor\":\"white\",\"ticks\":\"\",\"title\":{\"standoff\":15},\"zerolinecolor\":\"white\",\"zerolinewidth\":2}}},\"xaxis\":{\"anchor\":\"y\",\"domain\":[0.0,1.0],\"title\":{\"text\":\"$\\\\text{MSS anomaly #3}$\"}},\"yaxis\":{\"anchor\":\"x\",\"domain\":[0.0,1.0],\"title\":{\"text\":\"$\\\\text{Microplastic mass, (g/km^2, log10 scale)}$\"}},\"coloraxis\":{\"colorbar\":{\"title\":{\"text\":\"count\"}},\"colorscale\":[[0.0,\"rgb(0,0,0)\"],[0.25,\"rgb(230,0,0)\"],[0.5,\"rgb(230,210,0)\"],[0.75,\"rgb(255,255,255)\"],[1.0,\"rgb(160,200,255)\"]]},\"legend\":{\"tracegroupgap\":0,\"title\":{\"text\":\"Legend Title\"}},\"margin\":{\"t\":60},\"font\":{\"size\":25}},                        {\"responsive\": true}                    ).then(function(){\n",
       "                            \n",
       "var gd = document.getElementById('c64bacb7-e15b-4047-a33d-508edd0a322a');\n",
       "var x = new MutationObserver(function (mutations, observer) {{\n",
       "        var display = window.getComputedStyle(gd).display;\n",
       "        if (!display || display === 'none') {{\n",
       "            console.log([gd, 'removed!']);\n",
       "            Plotly.purge(gd);\n",
       "            observer.disconnect();\n",
       "        }}\n",
       "}});\n",
       "\n",
       "// Listen for the removal of the full notebook cells\n",
       "var notebookContainer = gd.closest('#notebook-container');\n",
       "if (notebookContainer) {{\n",
       "    x.observe(notebookContainer, {childList: true});\n",
       "}}\n",
       "\n",
       "// Listen for the clearing of the current output cell\n",
       "var outputEl = gd.closest('.output');\n",
       "if (outputEl) {{\n",
       "    x.observe(outputEl, {childList: true});\n",
       "}}\n",
       "\n",
       "                        })                };                });            </script>        </div>"
      ]
     },
     "metadata": {},
     "output_type": "display_data"
    }
   ],
   "source": [
    "fig = px.density_heatmap(df, y=\"micro_mass\", x=\"mss_anomaly_wind_refitted\" , color_continuous_scale=px.colors.sequential.Blackbody)\n",
    "fig.update_layout(\n",
    "    xaxis_title= r\"$\\text{MSS anomaly #3}$\",\n",
    "    yaxis_title= r\"$\\text{Microplastic mass, (g/km^2, log10 scale)}$\",\n",
    "    legend_title=\"Legend Title\",\n",
    "    font=dict(size=25,),\n",
    ")\n",
    "fig.show()"
   ]
  },
  {
   "cell_type": "code",
   "execution_count": 152,
   "id": "47bf1df7",
   "metadata": {},
   "outputs": [
    {
     "data": {
      "image/png": "[encoded data removed]",
      "text/plain": [
       "<Figure size 432x288 with 1 Axes>"
      ]
     },
     "metadata": {
      "needs_background": "light"
     },
     "output_type": "display_data"
    }
   ],
   "source": [
    "bin_df = pd.DataFrame({'mss':df.mss_anomaly_wind_refitted, 'micro' : df.micro_mass })\n",
    "bin_df['mss_ano'] = pd.cut(bin_df['mss'], bins = np.linspace(bin_df.mss.min(), bin_df.mss.max(), 10)).apply(lambda x: x.left)\n",
    "bin_df\n",
    "mean_micro_by_bin = bin_df.groupby(['mss_ano'], as_index=False)['micro'].mean()\n",
    "mean_micro_by_bin\n",
    "plt.step(\n",
    "    mean_micro_by_bin['mss_ano'],\n",
    "    mean_micro_by_bin['micro'],\n",
    "    where='mid',\n",
    ")\n",
    "plt.xlabel('MSS anomaly #3')\n",
    "plt.ylabel('Microplastic mass, (g/km^2, log10 scale)')\n",
    "plt.savefig('mss_ano_3.png')\n",
    "plt.show()"
   ]
  },
  {
   "cell_type": "code",
   "execution_count": 56,
   "id": "73d43ede",
   "metadata": {},
   "outputs": [],
   "source": [
    "#Average spatially\n",
    "def make_data_grided(df):\n",
    "    df[\"lon\"] = df[\"lon\"].apply(lambda lon: round(lon))\n",
    "    df[\"lat\"] = df[\"lat\"].apply(lambda lat: round(lat))\n",
    "    return df\n",
    "\n",
    "def interp_microplastics(df):\n",
    "    directory = \"C:/Users/syversk/Desktop\"\n",
    "    mic_df = pd.read_csv(directory + \"/\" + \"micro_df.csv\")\n",
    "    interp_micro_mass = LinearNDInterpolator(list(zip(mic_df['lon'], mic_df['lat'])), mic_df['vansebillemodel_mass_log'])\n",
    "    interp_micro_abu = LinearNDInterpolator(list(zip(mic_df['lon'], mic_df['lat'])), mic_df['vansebillemodel_abundance_log'])\n",
    "    df['micro_mass'] = interp_micro_mass(df['lon'], df['lat'])\n",
    "    df['abundace'] = interp_micro_abu(df['lon'], df['lat'])\n",
    "    return df\n",
    "\n",
    "#Average all temporally\n",
    "def group_dataframe_temporally(df):\n",
    "    df = df.groupby(['lon', 'lat'], as_index=False)[['mss_anomaly_delta_refitted', 'mss_anomaly_wind_refitted'\n",
    "                                                    , 'mss_anomaly_delta_towards', 'mss_anomaly_wind_towards'\n",
    "                                                    , 'mss_anomaly_delta_gdt', 'mss_anomaly_wind_gdt']].mean()\n",
    "    return df\n",
    "\n",
    "\n",
    "def reduce_based_on_sd(df):\n",
    "    z_scores = stats.zscore(df)\n",
    "    abs_z_scores = np.abs(z_scores)\n",
    "    filtered_entries = (abs_z_scores < 3).all(axis=1)\n",
    "    return df[filtered_entries]\n",
    "\n",
    "def plot_var_2(df, var):\n",
    "    if var[0:3] != \"mic\":  \n",
    "        mycmap = plt.get_cmap('jet').reversed()\n",
    "    else:\n",
    "        mycmap = plt.get_cmap('jet')\n",
    "    proj = ccrs.PlateCarree(180)\n",
    "    ax = plt.axes(projection=proj)\n",
    "    ax.coastlines()\n",
    "    ax.add_feature(cart.feature.LAND, zorder=100, edgecolor='k')\n",
    "    ax.gridlines(draw_labels=True, alpha=0.5)\n",
    "    lon_formatter = LongitudeFormatter(zero_direction_label=True)\n",
    "    lat_formatter = LatitudeFormatter()\n",
    "    ax.xaxis.set_major_formatter(lon_formatter)\n",
    "    ax.yaxis.set_major_formatter(lat_formatter)\n",
    "    plt.scatter(df['lon']+180, df['lat'], c=list(df[var]), cmap=mycmap)\n",
    "    bar = plt.colorbar(pad=0.15, orientation='horizontal')\n",
    "    plt.title('Van Sebille microplastic mass')\n",
    "    bar.ax.set_title('[g/km^2, log10 scale]')\n",
    "    plt.xlabel('Longitude')\n",
    "    plt.ylabel('Latitude')\n",
    "    plt.savefig('region.png')\n",
    "    plt.show()\n",
    "    \n",
    "def find_highest_corrolation_boundries(df, number_ints ,param = \"mss_anomaly_delta_refitted\"):\n",
    "    number = np.linspace(df[param].min(), df[param].max(), number_ints).tolist()\n",
    "    max_corr = 0\n",
    "    for numb in number:\n",
    "        for numb2 in number:\n",
    "            df_reduced = df[df[param] < numb]\n",
    "            df_reduced = df_reduced[df_reduced[param]> numb2]\n",
    "            if len(df_reduced) > len(df)*1/2:\n",
    "                corr = df_reduced.corr()[param][-1]\n",
    "                if abs(corr) > abs(max_corr):\n",
    "                    max_corr = corr\n",
    "                    max_int = numb\n",
    "                    min_int = numb2\n",
    "    print(max_corr, max_int, min_int)\n",
    "    df_reduced_optimally = df[df[param] < max_int]\n",
    "    return df_reduced_optimally[df_reduced_optimally[param] > min_int] "
   ]
  },
  {
   "cell_type": "code",
   "execution_count": null,
   "id": "13c7aab0",
   "metadata": {},
   "outputs": [],
   "source": [
    "import datetime\n",
    "# GOES FROM MONTLY MSS ANOMALY OBSERVATIONS TO ALL TIME MSS ANOMALY WITH MICROPLASTICS INTERPOLTATED 1x1\n",
    "directory = \"C:/Users/syversk/Desktop/test\"\n",
    "files = os.listdir(directory)\n",
    "df_list = []\n",
    "for i in tqdm(range(len(files))):\n",
    "    df_tmp = pd.read_csv(directory + \"/\" + files[i])\n",
    "    year = files[i][0:4]\n",
    "    month = files[i][5:7]\n",
    "    date = datetime.date(year=int(year), month=int(month), day=1)\n",
    "    df_tmp[\"date\"] = date   \n",
    "    df_list.append(df_tmp)\n",
    "df_all_months = pd.concat(df_list)\n",
    "df_all_months = interp_microplastics(df_all_months)"
   ]
  },
  {
   "cell_type": "code",
   "execution_count": null,
   "id": "dd9efac4",
   "metadata": {},
   "outputs": [],
   "source": [
    "df = pd.DataFrame({\"date\": df_all_months.date, \"y\": df_all_months.mss_anomaly_wind})\n",
    "df = df.groupby(['date'], as_index=False)[['y']].mean()\n",
    "df.plot(x='date', y='y')"
   ]
  }
 ],
 "metadata": {
  "kernelspec": {
   "display_name": "Python 3 (ipykernel)",
   "language": "python",
   "name": "python3"
  },
  "language_info": {
   "codemirror_mode": {
    "name": "ipython",
    "version": 3
   },
   "file_extension": ".py",
   "mimetype": "text/x-python",
   "name": "python",
   "nbconvert_exporter": "python",
   "pygments_lexer": "ipython3",
   "version": "3.9.7"
  }
 },
 "nbformat": 4,
 "nbformat_minor": 5
}
