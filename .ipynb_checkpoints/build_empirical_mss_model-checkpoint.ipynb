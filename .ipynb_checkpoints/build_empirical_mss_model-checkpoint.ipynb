{
 "cells": [
  {
   "cell_type": "code",
   "execution_count": 1,
   "metadata": {},
   "outputs": [],
   "source": [
    "import os\n",
    "import pandas as pd\n",
    "from tqdm import tqdm\n",
    "import plotly.express as px\n",
    "from scipy.optimize import least_squares\n",
    "from lmfit.models import LorentzianModel, GaussianModel, LinearModel\n",
    "from matplotlib import pyplot as plt\n",
    "import numpy as np\n",
    "import lmfit\n",
    "from lmfit import Model\n",
    "from datetime import datetime, timedelta, date\n",
    "import matplotlib as mpl"
   ]
  },
  {
   "cell_type": "code",
   "execution_count": 2,
   "metadata": {
    "pycharm": {
     "name": "#%%\n"
    }
   },
   "outputs": [
    {
     "name": "stderr",
     "output_type": "stream",
     "text": [
      "100%|█████████████████████████████████████████████████████████████████████████████████████████████████████████████████████████████████████████████| 1681/1681 [00:41<00:00, 40.72it/s]\n",
      "100%|█████████████████████████████████████████████████████████████████████████████████████████████████████████████████████████████████████████████| 1681/1681 [00:41<00:00, 40.79it/s]\n"
     ]
    }
   ],
   "source": [
    "def get_df_from_dir(directory = \"C:/Users/syversk/Desktop/cr1\"):\n",
    "    files = os.listdir(directory)\n",
    "    df_list = []\n",
    "    for file in tqdm(files):\n",
    "        df_list.append(pd.read_csv(directory + \"/\" + file))\n",
    "    return pd.concat(df_list)\n",
    "\n",
    "df = pd.concat([get_df_from_dir(\"C:/Users/syversk/Desktop/cr1\"), get_df_from_dir(\"C:/Users/syversk/Desktop/cr2\")])"
   ]
  },
  {
   "cell_type": "code",
   "execution_count": 3,
   "metadata": {},
   "outputs": [
    {
     "data": {
      "text/html": [
       "<div>\n",
       "<style scoped>\n",
       "    .dataframe tbody tr th:only-of-type {\n",
       "        vertical-align: middle;\n",
       "    }\n",
       "\n",
       "    .dataframe tbody tr th {\n",
       "        vertical-align: top;\n",
       "    }\n",
       "\n",
       "    .dataframe thead th {\n",
       "        text-align: right;\n",
       "    }\n",
       "</style>\n",
       "<table border=\"1\" class=\"dataframe\">\n",
       "  <thead>\n",
       "    <tr style=\"text-align: right;\">\n",
       "      <th></th>\n",
       "      <th>mss</th>\n",
       "      <th>lat</th>\n",
       "      <th>lon</th>\n",
       "      <th>time</th>\n",
       "      <th>era_wind</th>\n",
       "      <th>delta</th>\n",
       "      <th>Var5</th>\n",
       "    </tr>\n",
       "  </thead>\n",
       "  <tbody>\n",
       "    <tr>\n",
       "      <th>0</th>\n",
       "      <td>0.01121</td>\n",
       "      <td>-10.031106</td>\n",
       "      <td>117.423599</td>\n",
       "      <td>214327.976667</td>\n",
       "      <td>2.9050</td>\n",
       "      <td>3.225969</td>\n",
       "      <td>NaN</td>\n",
       "    </tr>\n",
       "    <tr>\n",
       "      <th>1</th>\n",
       "      <td>0.01175</td>\n",
       "      <td>-10.062616</td>\n",
       "      <td>117.468536</td>\n",
       "      <td>214327.976944</td>\n",
       "      <td>2.8754</td>\n",
       "      <td>3.191356</td>\n",
       "      <td>NaN</td>\n",
       "    </tr>\n",
       "    <tr>\n",
       "      <th>2</th>\n",
       "      <td>0.01348</td>\n",
       "      <td>-10.094160</td>\n",
       "      <td>117.513466</td>\n",
       "      <td>214327.977222</td>\n",
       "      <td>2.8403</td>\n",
       "      <td>3.149261</td>\n",
       "      <td>NaN</td>\n",
       "    </tr>\n",
       "    <tr>\n",
       "      <th>3</th>\n",
       "      <td>0.01536</td>\n",
       "      <td>-10.157214</td>\n",
       "      <td>117.603348</td>\n",
       "      <td>214327.977778</td>\n",
       "      <td>2.6982</td>\n",
       "      <td>2.988274</td>\n",
       "      <td>NaN</td>\n",
       "    </tr>\n",
       "    <tr>\n",
       "      <th>4</th>\n",
       "      <td>0.01693</td>\n",
       "      <td>-10.188741</td>\n",
       "      <td>117.648308</td>\n",
       "      <td>214327.978056</td>\n",
       "      <td>2.6278</td>\n",
       "      <td>2.908339</td>\n",
       "      <td>NaN</td>\n",
       "    </tr>\n",
       "    <tr>\n",
       "      <th>...</th>\n",
       "      <td>...</td>\n",
       "      <td>...</td>\n",
       "      <td>...</td>\n",
       "      <td>...</td>\n",
       "      <td>...</td>\n",
       "      <td>...</td>\n",
       "      <td>...</td>\n",
       "    </tr>\n",
       "    <tr>\n",
       "      <th>4976</th>\n",
       "      <td>0.02106</td>\n",
       "      <td>10.124041</td>\n",
       "      <td>134.254318</td>\n",
       "      <td>257032.202431</td>\n",
       "      <td>2.6964</td>\n",
       "      <td>2.411915</td>\n",
       "      <td>NaN</td>\n",
       "    </tr>\n",
       "    <tr>\n",
       "      <th>4977</th>\n",
       "      <td>0.02152</td>\n",
       "      <td>10.091424</td>\n",
       "      <td>134.298889</td>\n",
       "      <td>257032.202708</td>\n",
       "      <td>2.7591</td>\n",
       "      <td>2.466599</td>\n",
       "      <td>NaN</td>\n",
       "    </tr>\n",
       "    <tr>\n",
       "      <th>4978</th>\n",
       "      <td>0.02160</td>\n",
       "      <td>10.060432</td>\n",
       "      <td>134.341232</td>\n",
       "      <td>257032.202972</td>\n",
       "      <td>2.8202</td>\n",
       "      <td>2.521333</td>\n",
       "      <td>NaN</td>\n",
       "    </tr>\n",
       "    <tr>\n",
       "      <th>4979</th>\n",
       "      <td>0.02216</td>\n",
       "      <td>10.027798</td>\n",
       "      <td>134.385788</td>\n",
       "      <td>257032.203250</td>\n",
       "      <td>2.8861</td>\n",
       "      <td>2.592107</td>\n",
       "      <td>NaN</td>\n",
       "    </tr>\n",
       "    <tr>\n",
       "      <th>4980</th>\n",
       "      <td>0.02286</td>\n",
       "      <td>10.011891</td>\n",
       "      <td>134.407516</td>\n",
       "      <td>257032.203385</td>\n",
       "      <td>2.9188</td>\n",
       "      <td>2.628929</td>\n",
       "      <td>NaN</td>\n",
       "    </tr>\n",
       "  </tbody>\n",
       "</table>\n",
       "<p>19387350 rows × 7 columns</p>\n",
       "</div>"
      ],
      "text/plain": [
       "          mss        lat         lon           time  era_wind     delta  Var5\n",
       "0     0.01121 -10.031106  117.423599  214327.976667    2.9050  3.225969   NaN\n",
       "1     0.01175 -10.062616  117.468536  214327.976944    2.8754  3.191356   NaN\n",
       "2     0.01348 -10.094160  117.513466  214327.977222    2.8403  3.149261   NaN\n",
       "3     0.01536 -10.157214  117.603348  214327.977778    2.6982  2.988274   NaN\n",
       "4     0.01693 -10.188741  117.648308  214327.978056    2.6278  2.908339   NaN\n",
       "...       ...        ...         ...            ...       ...       ...   ...\n",
       "4976  0.02106  10.124041  134.254318  257032.202431    2.6964  2.411915   NaN\n",
       "4977  0.02152  10.091424  134.298889  257032.202708    2.7591  2.466599   NaN\n",
       "4978  0.02160  10.060432  134.341232  257032.202972    2.8202  2.521333   NaN\n",
       "4979  0.02216  10.027798  134.385788  257032.203250    2.8861  2.592107   NaN\n",
       "4980  0.02286  10.011891  134.407516  257032.203385    2.9188  2.628929   NaN\n",
       "\n",
       "[19387350 rows x 7 columns]"
      ]
     },
     "execution_count": 3,
     "metadata": {},
     "output_type": "execute_result"
    }
   ],
   "source": [
    "df"
   ]
  },
  {
   "cell_type": "code",
   "execution_count": null,
   "metadata": {},
   "outputs": [],
   "source": [
    "def get_heatmap(df, arg = \"era_wind\"):\n",
    "    fig = px.density_heatmap(df, y=\"mss\", x=arg, color_continuous_scale=px.colors.sequential.Blackbody)\n",
    "    fig.update_layout(\n",
    "        xaxis_title= r\"$\\text{\" + arg + \"}$\",\n",
    "        yaxis_title= r\"$\\text{MSS}$\",\n",
    "        legend_title=\"Legend Title\",\n",
    "        font=dict(\n",
    "            size=16,\n",
    "        )\n",
    "    )\n",
    "    fig.show()\n",
    "df_mini = df[df['era_wind'] < 15]\n",
    "df_mini = df_mini[df_mini['mss'] < 0.05].iloc[:50000]\n",
    "get_heatmap(df_mini,\"era_wind\")"
   ]
  },
  {
   "cell_type": "code",
   "execution_count": 4,
   "metadata": {},
   "outputs": [
    {
     "data": {
      "text/html": [
       "<div>\n",
       "<style scoped>\n",
       "    .dataframe tbody tr th:only-of-type {\n",
       "        vertical-align: middle;\n",
       "    }\n",
       "\n",
       "    .dataframe tbody tr th {\n",
       "        vertical-align: top;\n",
       "    }\n",
       "\n",
       "    .dataframe thead th {\n",
       "        text-align: right;\n",
       "    }\n",
       "</style>\n",
       "<table border=\"1\" class=\"dataframe\">\n",
       "  <thead>\n",
       "    <tr style=\"text-align: right;\">\n",
       "      <th></th>\n",
       "      <th>mss</th>\n",
       "      <th>lat</th>\n",
       "      <th>lon</th>\n",
       "      <th>time</th>\n",
       "      <th>era_wind</th>\n",
       "      <th>delta</th>\n",
       "    </tr>\n",
       "  </thead>\n",
       "  <tbody>\n",
       "    <tr>\n",
       "      <th>0</th>\n",
       "      <td>0.01121</td>\n",
       "      <td>-10.031106</td>\n",
       "      <td>117.423599</td>\n",
       "      <td>214327.976667</td>\n",
       "      <td>2.9050</td>\n",
       "      <td>3.225969</td>\n",
       "    </tr>\n",
       "    <tr>\n",
       "      <th>1</th>\n",
       "      <td>0.01175</td>\n",
       "      <td>-10.062616</td>\n",
       "      <td>117.468536</td>\n",
       "      <td>214327.976944</td>\n",
       "      <td>2.8754</td>\n",
       "      <td>3.191356</td>\n",
       "    </tr>\n",
       "    <tr>\n",
       "      <th>2</th>\n",
       "      <td>0.01348</td>\n",
       "      <td>-10.094160</td>\n",
       "      <td>117.513466</td>\n",
       "      <td>214327.977222</td>\n",
       "      <td>2.8403</td>\n",
       "      <td>3.149261</td>\n",
       "    </tr>\n",
       "    <tr>\n",
       "      <th>3</th>\n",
       "      <td>0.01536</td>\n",
       "      <td>-10.157214</td>\n",
       "      <td>117.603348</td>\n",
       "      <td>214327.977778</td>\n",
       "      <td>2.6982</td>\n",
       "      <td>2.988274</td>\n",
       "    </tr>\n",
       "    <tr>\n",
       "      <th>4</th>\n",
       "      <td>0.01693</td>\n",
       "      <td>-10.188741</td>\n",
       "      <td>117.648308</td>\n",
       "      <td>214327.978056</td>\n",
       "      <td>2.6278</td>\n",
       "      <td>2.908339</td>\n",
       "    </tr>\n",
       "    <tr>\n",
       "      <th>...</th>\n",
       "      <td>...</td>\n",
       "      <td>...</td>\n",
       "      <td>...</td>\n",
       "      <td>...</td>\n",
       "      <td>...</td>\n",
       "      <td>...</td>\n",
       "    </tr>\n",
       "    <tr>\n",
       "      <th>4976</th>\n",
       "      <td>0.02106</td>\n",
       "      <td>10.124041</td>\n",
       "      <td>134.254318</td>\n",
       "      <td>257032.202431</td>\n",
       "      <td>2.6964</td>\n",
       "      <td>2.411915</td>\n",
       "    </tr>\n",
       "    <tr>\n",
       "      <th>4977</th>\n",
       "      <td>0.02152</td>\n",
       "      <td>10.091424</td>\n",
       "      <td>134.298889</td>\n",
       "      <td>257032.202708</td>\n",
       "      <td>2.7591</td>\n",
       "      <td>2.466599</td>\n",
       "    </tr>\n",
       "    <tr>\n",
       "      <th>4978</th>\n",
       "      <td>0.02160</td>\n",
       "      <td>10.060432</td>\n",
       "      <td>134.341232</td>\n",
       "      <td>257032.202972</td>\n",
       "      <td>2.8202</td>\n",
       "      <td>2.521333</td>\n",
       "    </tr>\n",
       "    <tr>\n",
       "      <th>4979</th>\n",
       "      <td>0.02216</td>\n",
       "      <td>10.027798</td>\n",
       "      <td>134.385788</td>\n",
       "      <td>257032.203250</td>\n",
       "      <td>2.8861</td>\n",
       "      <td>2.592107</td>\n",
       "    </tr>\n",
       "    <tr>\n",
       "      <th>4980</th>\n",
       "      <td>0.02286</td>\n",
       "      <td>10.011891</td>\n",
       "      <td>134.407516</td>\n",
       "      <td>257032.203385</td>\n",
       "      <td>2.9188</td>\n",
       "      <td>2.628929</td>\n",
       "    </tr>\n",
       "  </tbody>\n",
       "</table>\n",
       "<p>19387350 rows × 6 columns</p>\n",
       "</div>"
      ],
      "text/plain": [
       "          mss        lat         lon           time  era_wind     delta\n",
       "0     0.01121 -10.031106  117.423599  214327.976667    2.9050  3.225969\n",
       "1     0.01175 -10.062616  117.468536  214327.976944    2.8754  3.191356\n",
       "2     0.01348 -10.094160  117.513466  214327.977222    2.8403  3.149261\n",
       "3     0.01536 -10.157214  117.603348  214327.977778    2.6982  2.988274\n",
       "4     0.01693 -10.188741  117.648308  214327.978056    2.6278  2.908339\n",
       "...       ...        ...         ...            ...       ...       ...\n",
       "4976  0.02106  10.124041  134.254318  257032.202431    2.6964  2.411915\n",
       "4977  0.02152  10.091424  134.298889  257032.202708    2.7591  2.466599\n",
       "4978  0.02160  10.060432  134.341232  257032.202972    2.8202  2.521333\n",
       "4979  0.02216  10.027798  134.385788  257032.203250    2.8861  2.592107\n",
       "4980  0.02286  10.011891  134.407516  257032.203385    2.9188  2.628929\n",
       "\n",
       "[19387350 rows x 6 columns]"
      ]
     },
     "execution_count": 4,
     "metadata": {},
     "output_type": "execute_result"
    }
   ],
   "source": [
    "df = df.drop(['Var5'], axis=1)\n",
    "df"
   ]
  },
  {
   "cell_type": "code",
   "execution_count": null,
   "metadata": {},
   "outputs": [],
   "source": [
    "df = df[df['mss'] < 0.1]\n",
    "df = df[df['era_wind'] < 11]\n",
    "df = df[df['era_wind'] > 3]\n",
    "df = df.dropna()\n",
    "df"
   ]
  },
  {
   "cell_type": "code",
   "execution_count": null,
   "metadata": {
    "pycharm": {
     "is_executing": true
    }
   },
   "outputs": [],
   "source": []
  },
  {
   "cell_type": "code",
   "execution_count": null,
   "metadata": {},
   "outputs": [],
   "source": [
    "gauss_model(2)"
   ]
  },
  {
   "cell_type": "code",
   "execution_count": 5,
   "metadata": {},
   "outputs": [
    {
     "data": {
      "text/html": [
       "<div>\n",
       "<style scoped>\n",
       "    .dataframe tbody tr th:only-of-type {\n",
       "        vertical-align: middle;\n",
       "    }\n",
       "\n",
       "    .dataframe tbody tr th {\n",
       "        vertical-align: top;\n",
       "    }\n",
       "\n",
       "    .dataframe thead th {\n",
       "        text-align: right;\n",
       "    }\n",
       "</style>\n",
       "<table border=\"1\" class=\"dataframe\">\n",
       "  <thead>\n",
       "    <tr style=\"text-align: right;\">\n",
       "      <th></th>\n",
       "      <th>mss</th>\n",
       "      <th>lat</th>\n",
       "      <th>lon</th>\n",
       "      <th>time</th>\n",
       "      <th>era_wind</th>\n",
       "      <th>delta</th>\n",
       "    </tr>\n",
       "  </thead>\n",
       "  <tbody>\n",
       "    <tr>\n",
       "      <th>mss</th>\n",
       "      <td>1.000000</td>\n",
       "      <td>-0.045345</td>\n",
       "      <td>-0.070847</td>\n",
       "      <td>0.324820</td>\n",
       "      <td>0.511999</td>\n",
       "      <td>0.449071</td>\n",
       "    </tr>\n",
       "    <tr>\n",
       "      <th>lat</th>\n",
       "      <td>-0.045345</td>\n",
       "      <td>1.000000</td>\n",
       "      <td>0.930282</td>\n",
       "      <td>0.022324</td>\n",
       "      <td>0.010311</td>\n",
       "      <td>0.002273</td>\n",
       "    </tr>\n",
       "    <tr>\n",
       "      <th>lon</th>\n",
       "      <td>-0.070847</td>\n",
       "      <td>0.930282</td>\n",
       "      <td>1.000000</td>\n",
       "      <td>0.022166</td>\n",
       "      <td>-0.004620</td>\n",
       "      <td>-0.012787</td>\n",
       "    </tr>\n",
       "    <tr>\n",
       "      <th>time</th>\n",
       "      <td>0.324820</td>\n",
       "      <td>0.022324</td>\n",
       "      <td>0.022166</td>\n",
       "      <td>1.000000</td>\n",
       "      <td>-0.010366</td>\n",
       "      <td>-0.004500</td>\n",
       "    </tr>\n",
       "    <tr>\n",
       "      <th>era_wind</th>\n",
       "      <td>0.511999</td>\n",
       "      <td>0.010311</td>\n",
       "      <td>-0.004620</td>\n",
       "      <td>-0.010366</td>\n",
       "      <td>1.000000</td>\n",
       "      <td>0.879956</td>\n",
       "    </tr>\n",
       "    <tr>\n",
       "      <th>delta</th>\n",
       "      <td>0.449071</td>\n",
       "      <td>0.002273</td>\n",
       "      <td>-0.012787</td>\n",
       "      <td>-0.004500</td>\n",
       "      <td>0.879956</td>\n",
       "      <td>1.000000</td>\n",
       "    </tr>\n",
       "  </tbody>\n",
       "</table>\n",
       "</div>"
      ],
      "text/plain": [
       "               mss       lat       lon      time  era_wind     delta\n",
       "mss       1.000000 -0.045345 -0.070847  0.324820  0.511999  0.449071\n",
       "lat      -0.045345  1.000000  0.930282  0.022324  0.010311  0.002273\n",
       "lon      -0.070847  0.930282  1.000000  0.022166 -0.004620 -0.012787\n",
       "time      0.324820  0.022324  0.022166  1.000000 -0.010366 -0.004500\n",
       "era_wind  0.511999  0.010311 -0.004620 -0.010366  1.000000  0.879956\n",
       "delta     0.449071  0.002273 -0.012787 -0.004500  0.879956  1.000000"
      ]
     },
     "execution_count": 5,
     "metadata": {},
     "output_type": "execute_result"
    }
   ],
   "source": [
    "df.corr()"
   ]
  },
  {
   "cell_type": "code",
   "execution_count": null,
   "metadata": {},
   "outputs": [],
   "source": [
    "class KatzbergModel(Model):\n",
    "    def __init__(self, *args, **kwargs):\n",
    "        def katzberg(x, c_1, c_2, c_3, c_4, c_5):\n",
    "            output = []\n",
    "            for i in range(len(x)):\n",
    "                if x[i] <= 3.49:\n",
    "                    output.append(c_1*(c_2*x[i] + c_3))\n",
    "                else:\n",
    "                    output.append(c_1*(c_4*np.log(x[i]) + c_5))\n",
    "            return np.array(output)\n",
    "                    \n",
    "        super(KatzbergModel, self).__init__(katzberg, *args, **kwargs)\n",
    "\n",
    "    def guess(self, data, **kwargs):\n",
    "        params = self.make_params()\n",
    "        def pset(param, value):\n",
    "            params[\"%s%s\" % (self.prefix, param)].set(value=value)\n",
    "        pset(\"c_1\", 0.0035)\n",
    "        pset(\"c_2\", 1)\n",
    "        pset(\"c_3\", 0.62)\n",
    "        pset(\"c_4\", 6)\n",
    "        pset(\"c_5\", -3.39)\n",
    "        return lmfit.models.update_param_vals(params, self.prefix, **kwargs)"
   ]
  },
  {
   "cell_type": "code",
   "execution_count": null,
   "metadata": {},
   "outputs": [],
   "source": [
    "#model = KatzbergModel()\n",
    "model = GaussianModel()\n",
    "y = df['mss'].to_numpy()\n",
    "x = df['era_wind'].to_numpy()\n",
    "params = model.guess(y, x=x)\n",
    "result = model.fit(y, params, x=x)"
   ]
  },
  {
   "cell_type": "code",
   "execution_count": null,
   "metadata": {},
   "outputs": [],
   "source": [
    "x_2 = x = df['delta'].to_numpy()\n",
    "params = model.guess(y, x=x2)\n",
    "result_delta = model.fit(y, params, x=x2)"
   ]
  },
  {
   "cell_type": "code",
   "execution_count": null,
   "metadata": {},
   "outputs": [],
   "source": [
    "mpl.rcParams['agg.path.chunksize'] = 10000\n",
    "result.plot_fit()\n",
    "plt.show()\n",
    "print(result.fit_report())"
   ]
  },
  {
   "cell_type": "code",
   "execution_count": null,
   "metadata": {},
   "outputs": [],
   "source": [
    "def gauss_model(x):\n",
    "    amplitude = 3.82480810  \n",
    "    center = -513.750847  \n",
    "    sigma = 39.3214505\n",
    "    frac_1 = amplitude/(sigma*np.sqrt(2*np.pi))\n",
    "    frac_2 = np.exp((-(x-center)**2)/(2*sigma**2))\n",
    "    return frac_1*frac_2"
   ]
  },
  {
   "cell_type": "code",
   "execution_count": null,
   "metadata": {},
   "outputs": [],
   "source": [
    "print(result)"
   ]
  },
  {
   "cell_type": "code",
   "execution_count": 6,
   "metadata": {},
   "outputs": [],
   "source": [
    "from sklearn.linear_model import LinearRegression\n",
    "from sklearn.linear_model import Lasso\n",
    "from sklearn.linear_model import ElasticNet\n",
    "from sklearn.tree import DecisionTreeRegressor\n",
    "from sklearn.neighbors import KNeighborsRegressor\n",
    "from sklearn.ensemble import GradientBoostingRegressor\n",
    "from sklearn.model_selection import train_test_split\n",
    "from sklearn.pipeline import Pipeline\n",
    "from sklearn.preprocessing import StandardScaler\n",
    "from sklearn.model_selection import KFold\n",
    "from sklearn.model_selection import cross_val_score"
   ]
  },
  {
   "cell_type": "code",
   "execution_count": 24,
   "metadata": {},
   "outputs": [],
   "source": [
    "X_train, X_test, Y_train, Y_test = train_test_split (df.era_wind.to_numpy().reshape(-1, 1), df.mss, test_size = 0.001, random_state=42)"
   ]
  },
  {
   "cell_type": "code",
   "execution_count": 25,
   "metadata": {},
   "outputs": [
    {
     "name": "stdout",
     "output_type": "stream",
     "text": [
      "ScaledLR: -0.000198 (0.000000)\n",
      "ScaledLASSO: -0.000268 (0.000000)\n",
      "ScaledEN: -0.000268 (0.000000)\n",
      "ScaledKNN: -0.000190 (0.000000)\n",
      "ScaledCART: -0.000164 (0.000000)\n",
      "ScaledGBM: -0.000158 (0.000000)\n"
     ]
    }
   ],
   "source": [
    "pipelines = []\n",
    "pipelines.append(('ScaledLR', Pipeline([('Scaler', StandardScaler()),('LR',LinearRegression())])))\n",
    "pipelines.append(('ScaledLASSO', Pipeline([('Scaler', StandardScaler()),('LASSO', Lasso())])))\n",
    "pipelines.append(('ScaledEN', Pipeline([('Scaler', StandardScaler()),('EN', ElasticNet())])))\n",
    "pipelines.append(('ScaledKNN', Pipeline([('Scaler', StandardScaler()),('KNN', KNeighborsRegressor())])))\n",
    "pipelines.append(('ScaledCART', Pipeline([('Scaler', StandardScaler()),('CART', DecisionTreeRegressor())])))\n",
    "pipelines.append(('ScaledGBM', Pipeline([('Scaler', StandardScaler()),('GBM', GradientBoostingRegressor())])))\n",
    "\n",
    "results = []\n",
    "names = []\n",
    "for name, model in pipelines:\n",
    "    kfold = KFold(n_splits=2, random_state=19, shuffle=True)\n",
    "    cv_results = cross_val_score(model, X_train, Y_train, cv=kfold, scoring='neg_mean_squared_error')\n",
    "    results.append(cv_results)\n",
    "    names.append(name)\n",
    "    msg = \"%s: %f (%f)\" % (name, cv_results.mean(), cv_results.std())\n",
    "    print(msg)"
   ]
  },
  {
   "cell_type": "code",
   "execution_count": 26,
   "metadata": {},
   "outputs": [
    {
     "name": "stdout",
     "output_type": "stream",
     "text": [
      "-0.000158 (0.000000) with: {'n_estimators': 50}\n",
      "-0.000158 (0.000000) with: {'n_estimators': 100}\n",
      "-0.000158 (0.000000) with: {'n_estimators': 200}\n",
      "-0.000158 (0.000000) with: {'n_estimators': 300}\n",
      "-0.000158 (0.000000) with: {'n_estimators': 400}\n",
      "Best: -0.000158 using {'n_estimators': 100}\n"
     ]
    }
   ],
   "source": [
    "from sklearn.model_selection import GridSearchCV\n",
    "import joblib\n",
    "\n",
    "scaler = StandardScaler()\n",
    "rescaledX = scaler.fit_transform(X_train)\n",
    "joblib.dump(scaler, 'std_scaler.bin', compress=True)\n",
    "\n",
    "param_grid = dict(n_estimators=np.array([50,100,200,300,400]))\n",
    "model = GradientBoostingRegressor(random_state=21)\n",
    "kfold = KFold(n_splits=2, random_state=21, shuffle = True)\n",
    "grid = GridSearchCV(estimator=model, param_grid=param_grid, scoring='neg_mean_squared_error', cv=kfold)\n",
    "grid_result = grid.fit(rescaledX, Y_train)\n",
    "\n",
    "means = grid_result.cv_results_['mean_test_score']\n",
    "stds = grid_result.cv_results_['std_test_score']\n",
    "params = grid_result.cv_results_['params']\n",
    "for mean, stdev, param in zip(means, stds, params):\n",
    "    print(\"%f (%f) with: %r\" % (mean, stdev, param))\n",
    "\n",
    "print(\"Best: %f using %s\" % (grid_result.best_score_, grid_result.best_params_))"
   ]
  },
  {
   "cell_type": "code",
   "execution_count": 27,
   "metadata": {},
   "outputs": [
    {
     "name": "stdout",
     "output_type": "stream",
     "text": [
      "0.0001540619155925421\n"
     ]
    }
   ],
   "source": [
    "from sklearn.metrics import mean_squared_error\n",
    "\n",
    "model = GradientBoostingRegressor(random_state=18, n_estimators=50)\n",
    "model.fit(rescaledX, Y_train)\n",
    "# transform the validation dataset\n",
    "rescaled_X_test = scaler.transform(X_test)\n",
    "predictions = model.predict(rescaled_X_test)\n",
    "print (mean_squared_error(Y_test, predictions))"
   ]
  },
  {
   "cell_type": "code",
   "execution_count": 28,
   "metadata": {},
   "outputs": [
    {
     "data": {
      "text/plain": [
       "['model.pkl']"
      ]
     },
     "execution_count": 28,
     "metadata": {},
     "output_type": "execute_result"
    }
   ],
   "source": [
    "file = \"model.pkl\"\n",
    "joblib.dump(model, file)"
   ]
  },
  {
   "cell_type": "code",
   "execution_count": 22,
   "metadata": {},
   "outputs": [
    {
     "name": "stdout",
     "output_type": "stream",
     "text": [
      "(10000, 1)\n",
      "4.1954435586340155e-05\n"
     ]
    }
   ],
   "source": [
    "model = joblib.load(\"model.pkl\")\n",
    "scaler=joblib.load('std_scaler.bin')\n",
    "# transform the validation dataset\n",
    "print(X_test.shape)\n",
    "rescaled_X_test = scaler.transform(X_test)\n",
    "predictions = model.predict(rescaled_X_test)\n",
    "print (mean_squared_error(Y_test, predictions))"
   ]
  }
 ],
 "metadata": {
  "kernelspec": {
   "display_name": "Python 3 (ipykernel)",
   "language": "python",
   "name": "python3"
  },
  "language_info": {
   "codemirror_mode": {
    "name": "ipython",
    "version": 3
   },
   "file_extension": ".py",
   "mimetype": "text/x-python",
   "name": "python",
   "nbconvert_exporter": "python",
   "pygments_lexer": "ipython3",
   "version": "3.9.7"
  }
 },
 "nbformat": 4,
 "nbformat_minor": 1
}
