{
 "cells": [
  {
   "cell_type": "code",
   "execution_count": null,
   "id": "c54e6a56",
   "metadata": {},
   "outputs": [],
   "source": [
    "import os\n",
    "from tqdm import tqdm\n",
    "import pandas as pd\n",
    "import numpy as np\n",
    "directory = \"C:/Users/syversk/Desktop/Detected_Peaks\"\n",
    "files = os.listdir(directory)\n",
    "df_list = []\n",
    "df2_list = []\n",
    "df3_list = []\n",
    "for i in tqdm(range(len(files))):\n",
    "    year_dir = directory +\"/\"+ files[i]\n",
    "    files_year_dir = os.listdir(year_dir)\n",
    "    for j in range(len(files_year_dir)):\n",
    "        month_dir = year_dir + \"/\" + files_year_dir[j]\n",
    "        files_month_dir = os.listdir(month_dir)\n",
    "        for k in range(len((files_month_dir))):\n",
    "            df = pd.read_csv(month_dir + \"/\" + files_month_dir[k])\n",
    "            df = df[df.lat <= 38]\n",
    "            df = df[df.lat >= -38]\n",
    "            df[\"lon\"] = df[\"lon\"].apply(lambda lon: round(lon))\n",
    "            df[\"lat\"] = df[\"lat\"].apply(lambda lat: round(lat))\n",
    "            df['lon'] = np.where(df['lon'] < 0, df['lon'] + 360, df['lon'])\n",
    "\n",
    "            df_list.append(df.groupby(['lat', 'lon']).size().reset_index(name='num_peaks'))\n",
    "            \n",
    "            df2 = df[df.wind_speed <= 5]\n",
    "            df2 = df2[df2.wind_speed >= 3]\n",
    "            df2_list.append(df2.groupby(['lat', 'lon']).size().reset_index(name='num_peaks'))\n",
    "            \n",
    "            df3 = df[df.wind_speed <= 11]\n",
    "            df3 = df3[df3.wind_speed >= 3]\n",
    "            df3_list.append(df3.groupby(['lat', 'lon']).size().reset_index(name='num_peaks'))\n",
    "            \n",
    "df = pd.concat(df_list)\n",
    "df2 = pd.concat(df2_list)\n",
    "df3 = pd.concat(df3_list)\n",
    "\n",
    "df_grped = df.groupby(['lat', 'lon'], as_index=False)[\"num_peaks\"].sum()\n",
    "df2_grped = df2.groupby(['lat', 'lon'], as_index=False)[\"num_peaks\"].sum()\n",
    "df3_grped = df3.groupby(['lat', 'lon'], as_index=False)[\"num_peaks\"].sum()\n",
    "\n",
    "df_grped.to_csv( \"C:/Users/syversk/Desktop/peaks_fixed/peaks_all_winds.csv\",index=False)\n",
    "df2_grped.to_csv( \"C:/Users/syversk/Desktop/peaks_fixed/peaks_3_5_winds.csv\",index=False)\n",
    "df3_grped.to_csv( \"C:/Users/syversk/Desktop/peaks_fixed/peaks_3_11_winds.csv\",index=False)"
   ]
  }
 ],
 "metadata": {
  "kernelspec": {
   "display_name": "Python 3 (ipykernel)",
   "language": "python",
   "name": "python3"
  },
  "language_info": {
   "codemirror_mode": {
    "name": "ipython",
    "version": 3
   },
   "file_extension": ".py",
   "mimetype": "text/x-python",
   "name": "python",
   "nbconvert_exporter": "python",
   "pygments_lexer": "ipython3",
   "version": "3.9.7"
  }
 },
 "nbformat": 4,
 "nbformat_minor": 5
}
