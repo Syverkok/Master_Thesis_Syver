{
 "cells": [
  {
   "cell_type": "code",
   "execution_count": 16,
   "id": "80b3bc83",
   "metadata": {
    "pycharm": {
     "is_executing": true
    }
   },
   "outputs": [
    {
     "name": "stderr",
     "output_type": "stream",
     "text": [
      "100%|██████████| 740/740 [12:56<00:00,  1.05s/it]\n"
     ]
    }
   ],
   "source": [
    "import os\n",
    "from tqdm import tqdm\n",
    "import pandas as pd\n",
    "import numpy as np\n",
    "from scipy import stats\n",
    "\n",
    "directory = \"C:/Users/syversk/Desktop/mss_collocated\"\n",
    "files = os.listdir(directory)\n",
    "df_list = []\n",
    "for file in tqdm(files):\n",
    "    df = pd.read_csv(directory + \"/\" + file)\n",
    "    df = remove_extra(df)\n",
    "    df.to_csv( \"C:/Users/syversk/Desktop/mss_collocated\" + file ,index=False)\n",
    "    df_cr1 = reduce_area_of_df(df, \"cr1\")\n",
    "    df_cr1.to_csv( \"C:/Users/syversk/Desktop/cr1\" + file ,index=False)\n",
    "    df = reduce_area_of_df(df, \"cr2\")\n",
    "    df.to_csv( \"C:/Users/syversk/Desktop/cr2\" + file ,index=False)\n",
    "    df['mss_anomaly_wind'] = df.apply(lambda row: calculate_mss_anomaly(row.mss, row.wind), axis = 1)\n",
    "    df['mss_anomaly_delta'] = df.apply(lambda row: calculate_mss_anomaly(row.mss, row.delta), axis = 1)"
   ]
  },
  {
   "cell_type": "code",
   "execution_count": 13,
   "id": "73d43ede",
   "metadata": {},
   "outputs": [],
   "source": [
    "def reduce_area_of_df(df, cr):\n",
    "    if cr == \"cr1\":\n",
    "        df = df[df.lat <= -10]\n",
    "        df = df[df.lat >= -25]\n",
    "        df = df[df.lon >= 105]\n",
    "        df = df[df.lon <= 120]\n",
    "    else:\n",
    "        df = df[df.lat >= 10]\n",
    "        df = df[df.lat <= 20]\n",
    "        df = df[df.lon >= 128]\n",
    "        df = df[df.lon <= 143]\n",
    "    return df\n",
    "\n",
    "def remove_extra(df):\n",
    "    rel_wind_current = np.sqrt((df[\"era_u10\"] - df[\"oscar_u\"])**2 + (df[\"era_v10\"] - df[\"oscar_v\"])**2)\n",
    "    df.drop(['era_u10', \"oscar_u\", \"era_v10\", \"oscar_v\", \"oscar_current\"], inplace=True, axis=1)\n",
    "    df[\"delta\"] = rel_wind_current\n",
    "    return df\n",
    "\n",
    "def calculate_mss_anomaly(mss, wind_or_delta):\n",
    "    if wind_or_delta <= 3.49:\n",
    "        mss_mod = 0.0035*(1*wind_or_delta + 0.62)\n",
    "    else:\n",
    "        mss_mod = 0.0035*(6*np.log(wind_or_delta) + -3.39)\n",
    "    return (mss-mss_mod)/mss_mod\n",
    "\n",
    "def grid_data_sub(lat_lon):\n",
    "    return round(lat_lon*4)/4\n",
    "\n",
    "def make_data_grided(df):\n",
    "    df[\"lon\"] = df[\"lon\"].apply(lambda lon: grid_data_sub(lon), axis = 1)\n",
    "    df[\"lat\"] = df[\"lat\"].apply(lambda lat: grid_data_sub(lat), axis = 1)\n",
    "    return df\n",
    "\n",
    "def reduce_based_on_sd():\n",
    "    z_scores = stats.zscore(df)\n",
    "    abs_z_scores = np.abs(z_scores)\n",
    "    filtered_entries = (abs_z_scores < 3).all(axis=1)\n",
    "    return df[filtered_entries]"
   ]
  }
 ],
 "metadata": {
  "kernelspec": {
   "display_name": "Python 3 (ipykernel)",
   "language": "python",
   "name": "python3"
  },
  "language_info": {
   "codemirror_mode": {
    "name": "ipython",
    "version": 3
   },
   "file_extension": ".py",
   "mimetype": "text/x-python",
   "name": "python",
   "nbconvert_exporter": "python",
   "pygments_lexer": "ipython3",
   "version": "3.10.0"
  }
 },
 "nbformat": 4,
 "nbformat_minor": 5
}
