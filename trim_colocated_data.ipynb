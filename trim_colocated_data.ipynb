{
 "cells": [
  {
   "cell_type": "code",
   "execution_count": 16,
   "id": "80b3bc83",
   "metadata": {
    "pycharm": {
     "is_executing": true
    }
   },
   "outputs": [
    {
     "name": "stderr",
     "output_type": "stream",
     "text": [
      "100%|██████████| 740/740 [12:56<00:00,  1.05s/it]\n"
     ]
    }
   ],
   "source": [
    "import os\n",
    "from tqdm import tqdm\n",
    "import pandas as pd\n",
    "import numpy as np\n",
    "directory = \"C:/Users/Syver/Desktop/mss_collocated\"\n",
    "files = os.listdir(directory)\n",
    "df_list = []\n",
    "for file in tqdm(files):\n",
    "    df = pd.read_csv(directory + \"/\" + file)\n",
    "    df_cr1 = reduce_area_of_df(df, \"cr1\")\n",
    "    df_cr1.to_csv( \"C:/Users/Syver/Desktop/cr1/\" + file ,index=False)\n",
    "    df = reduce_area_of_df(df, \"cr2\")\n",
    "    df.to_csv( \"C:/Users/Syver/Desktop/cr2/\" + file ,index=False)"
   ]
  },
  {
   "cell_type": "code",
   "execution_count": 13,
   "id": "73d43ede",
   "metadata": {},
   "outputs": [],
   "source": [
    "def reduce_area_of_df(df, cr):\n",
    "    if cr == \"cr1\":\n",
    "        df = df[df.lat <= -10]\n",
    "        df = df[df.lat >= -25]\n",
    "        df = df[df.lon >= 105]\n",
    "        df = df[df.lon <= 120]\n",
    "    else:\n",
    "        df = df[df.lat >= 10]\n",
    "        df = df[df.lat <= 20]\n",
    "        df = df[df.lon >= 128]\n",
    "        df = df[df.lon <= 143]\n",
    "    return df\n",
    "def remove_extra(df):\n",
    "    rel_wind_current = np.sqrt((df[\"era_u10\"] - df[\"oscar_u\"])**2 + (df[\"era_v10\"] - df[\"oscar_v\"])**2)\n",
    "    df.drop(['era_u10', \"oscar_u\", \"era_v10\", \"oscar_v\", \"oscar_current\"], inplace=True, axis=1)\n",
    "    df[\"delta\"] = rel_wind_current\n",
    "    return df"
   ]
  }
 ],
 "metadata": {
  "kernelspec": {
   "display_name": "Python 3 (ipykernel)",
   "language": "python",
   "name": "python3"
  },
  "language_info": {
   "codemirror_mode": {
    "name": "ipython",
    "version": 3
   },
   "file_extension": ".py",
   "mimetype": "text/x-python",
   "name": "python",
   "nbconvert_exporter": "python",
   "pygments_lexer": "ipython3",
   "version": "3.9.7"
  }
 },
 "nbformat": 4,
 "nbformat_minor": 5
}
