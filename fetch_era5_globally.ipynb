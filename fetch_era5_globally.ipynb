{
 "cells": [
  {
   "cell_type": "code",
   "execution_count": 1,
   "metadata": {
    "pycharm": {
     "is_executing": true
    }
   },
   "outputs": [],
   "source": [
    "import numpy as np\n",
    "import pandas as pd\n",
    "from tqdm import tqdm\n",
    "import warnings\n",
    "import cdsapi\n",
    "import xarray as xr\n",
    "from urllib.request import urlopen\n",
    "warnings.filterwarnings('ignore')"
   ]
  },
  {
   "cell_type": "code",
   "execution_count": 2,
   "metadata": {},
   "outputs": [],
   "source": [
    "def get_era_5(ds):\n",
    "    era_5_df = ds.to_dataframe()\n",
    "    #MEMORY\n",
    "    ds = 0\n",
    "    \n",
    "    # Can i do this with the meshgrid??\n",
    "    #era_5_df = era_5_df.dropna()\n",
    "    \n",
    "    index_long = era_5_df.index.levels[0]\n",
    "    index_lat = era_5_df.index.levels[1]\n",
    "    index_time = era_5_df.index.levels[2]\n",
    "    u10 = era_5_df[\"u10\"].to_numpy()\n",
    "    v10 = era_5_df[\"v10\"].to_numpy()\n",
    "    \n",
    "    #MEMORY\n",
    "    era_5_df = 0\n",
    "    \n",
    "    start_time = pd.Timestamp(1992, 10, 5)\n",
    "    index_time_fixed = []\n",
    "    index_date_fixed = []\n",
    "    for tid in index_time:\n",
    "        hours = tid - start_time\n",
    "        index_time_fixed.append(hours.days * 24 + hours.seconds / 3600)\n",
    "        index_date_fixed.append(tid.date().strftime('%Y_%m_%d'))\n",
    "        \n",
    "    #MEMORY\n",
    "    index_time = 0\n",
    "\n",
    "    lon, lat, time = np.meshgrid(index_long, index_lat, index_time_fixed, indexing='ij')\n",
    "\n",
    "    lon, lat, date = np.meshgrid(index_long, index_lat, index_date_fixed, indexing='ij')\n",
    "    \n",
    "    #MEMORY \n",
    "    index_long = 0\n",
    "    index_lat = 0\n",
    "    index_time_fixed = 0\n",
    "    index_date_fixed = 0\n",
    "    \n",
    "    lon = lon.flatten()\n",
    "    lat = lat.flatten()\n",
    "    time = time.flatten()\n",
    "    date = date.flatten()\n",
    "    \n",
    "        \n",
    "    \n",
    "    df = pd.DataFrame({'lon': lon, 'lat': lat, \"time\" : time,'date' : date, 'u10': u10,'v10': v10})\n",
    "    \n",
    "    # MEMORY \n",
    "    lon = 0\n",
    "    lat = 0\n",
    "    time = 0\n",
    "    date = 0\n",
    "    v10 = 0\n",
    "    u10 = 0\n",
    "    \n",
    "    df['sp_lon'] = np.where(df['sp_lon'] < 0, df['sp_lon'] + 360, df['sp_lon'])\n",
    "    \n",
    "    \n",
    "    \n",
    "    df_dict = dict(tuple(df.groupby(\"date\")))\n",
    "    #MEMORY\n",
    "    df = 0\n",
    "    \n",
    "    \n",
    "    for key in df_dict.keys():\n",
    "        print(\"hei : \" + key)\n",
    "        df_dict[key].drop('date', axis = 1, inplace = True)\n",
    "        df_dict[key].to_csv(\"era_5/\" + key +\".csv\" ,index=False)\n",
    "        #MEMORY \n",
    "        df_dict[key] = pd.DataFrame()"
   ]
  },
  {
   "cell_type": "code",
   "execution_count": null,
   "metadata": {},
   "outputs": [
    {
     "name": "stderr",
     "output_type": "stream",
     "text": [
      "  0%|          | 0/6 [00:00<?, ?it/s]2022-02-16 01:08:16,712 INFO Welcome to the CDS\n",
      "2022-02-16 01:08:16,712 INFO Sending request to https://cds.climate.copernicus.eu/api/v2/resources/reanalysis-era5-single-levels\n",
      "2022-02-16 01:08:16,922 INFO Request is completed\n"
     ]
    },
    {
     "name": "stdout",
     "output_type": "stream",
     "text": [
      "hei : 1\n",
      "hei : 2\n",
      "hei : 3\n",
      "hei : 4\n",
      "hei : 5\n",
      "hei : 5\n",
      "hei : 2017_03_01\n",
      "hei : 2017_03_02\n",
      "hei : 2017_03_03\n",
      "hei : 2017_03_04\n",
      "hei : 2017_03_05\n",
      "hei : 2017_03_06\n",
      "hei : 2017_03_07\n",
      "hei : 2017_03_08\n",
      "hei : 2017_03_09\n",
      "hei : 2017_03_10\n"
     ]
    },
    {
     "name": "stderr",
     "output_type": "stream",
     "text": [
      "2022-02-16 01:20:46,911 INFO Welcome to the CDS\n",
      "2022-02-16 01:20:46,911 INFO Sending request to https://cds.climate.copernicus.eu/api/v2/resources/reanalysis-era5-single-levels\n",
      "2022-02-16 01:20:47,007 INFO Request is queued\n",
      "2022-02-16 01:35:04,886 INFO Request is running\n",
      "2022-02-16 01:37:05,052 INFO Request is completed\n"
     ]
    },
    {
     "name": "stdout",
     "output_type": "stream",
     "text": [
      "hei : 1\n",
      "hei : 2\n",
      "hei : 3\n",
      "hei : 4\n",
      "hei : 5\n",
      "hei : 5\n",
      "hei : 2017_03_11\n",
      "hei : 2017_03_12\n",
      "hei : 2017_03_13\n",
      "hei : 2017_03_14\n",
      "hei : 2017_03_17\n",
      "hei : 2017_03_18\n",
      "hei : 2017_03_19\n",
      "hei : 2017_03_20\n"
     ]
    },
    {
     "name": "stderr",
     "output_type": "stream",
     "text": [
      "2022-02-16 01:45:07,865 INFO Welcome to the CDS\n",
      "2022-02-16 01:45:07,868 INFO Sending request to https://cds.climate.copernicus.eu/api/v2/resources/reanalysis-era5-single-levels\n",
      "2022-02-16 01:45:07,915 INFO Request is queued\n",
      "2022-02-16 02:01:27,282 INFO Request is completed\n"
     ]
    },
    {
     "name": "stdout",
     "output_type": "stream",
     "text": [
      "hei : 1\n",
      "hei : 2\n",
      "hei : 3\n"
     ]
    }
   ],
   "source": [
    "c = cdsapi.Client()\n",
    "# dataset to read\n",
    "dataset = 'reanalysis-era5-single-levels'\n",
    "years = ['2017', '2018', '2019','2020', '2021', '2022']\n",
    "group_of_days = [\n",
    "       ['01', '02', '03','04', '05', '06','07', '08', '09','10'],\n",
    "       ['11', '12','13', '14', '15''16', '17', '18','19', '20'],\n",
    "       ['21','22', '23', '24','25', '26', '27','28', '29', '30','31']\n",
    "       ]\n",
    "for i in tqdm(range(len(years))):\n",
    "    if years[i] == '2017':\n",
    "        months = ['03',\n",
    "            '04', '05', '06',\n",
    "            '07', '08', '09',\n",
    "            '10', '11', '12',\n",
    "        ]\n",
    "    elif years[i] == '2022':\n",
    "        months = ['01']\n",
    "    else:\n",
    "        months = ['01','02','03',\n",
    "            '04', '05', '06',\n",
    "            '07', '08', '09',\n",
    "            '10', '11', '12',\n",
    "        ]\n",
    "        \n",
    "    for month in months:\n",
    "        for group in group_of_days:\n",
    "\n",
    "            params = {'product_type': 'reanalysis',\n",
    "                    'variable': ['10m_u_component_of_wind', '10m_v_component_of_wind',],\n",
    "                    'year': years[i],\n",
    "                    'month': month,\n",
    "                    'day': group,\n",
    "                    'time': [\n",
    "                        '00:00', '01:00', '02:00',\n",
    "                        '03:00', '04:00', '05:00',\n",
    "                        '06:00', '07:00', '08:00',\n",
    "                        '09:00', '10:00', '11:00',\n",
    "                        '12:00', '13:00', '14:00',\n",
    "                        '15:00', '16:00', '17:00',\n",
    "                        '18:00', '19:00', '20:00',\n",
    "                        '21:00', '22:00', '23:00',\n",
    "                    ],\n",
    "                    'area': [38, -180, -38,180,],\n",
    "                    'format': 'netcdf',\n",
    "                }\n",
    "            # retrieves the path to the file\n",
    "            fl = c.retrieve(dataset, params)\n",
    "            with urlopen(fl.location) as f:\n",
    "                get_era_5(xr.open_dataset(f.read()))"
   ]
  },
  {
   "cell_type": "code",
   "execution_count": null,
   "metadata": {},
   "outputs": [],
   "source": [
    "\"\"\"\n",
    "ds = xr.open_dataset('project_oppgave/era_5_wind/wind_one_week.nc')\n",
    "get_era_5_new(ds)\n",
    "\"\"\""
   ]
  }
 ],
 "metadata": {
  "kernelspec": {
   "display_name": "Python 3 (ipykernel)",
   "language": "python",
   "name": "python3"
  },
  "language_info": {
   "codemirror_mode": {
    "name": "ipython",
    "version": 3
   },
   "file_extension": ".py",
   "mimetype": "text/x-python",
   "name": "python",
   "nbconvert_exporter": "python",
   "pygments_lexer": "ipython3",
   "version": "3.9.7"
  }
 },
 "nbformat": 4,
 "nbformat_minor": 1
}
