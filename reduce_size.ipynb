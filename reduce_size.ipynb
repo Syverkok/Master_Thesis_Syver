{
 "cells": [
  {
   "cell_type": "code",
   "execution_count": 3,
   "id": "45c57be8",
   "metadata": {},
   "outputs": [],
   "source": [
    "def reduce_area_of_df(df):\n",
    "    #CR_1\n",
    "    '''\n",
    "    df = df[df.lat <= -10]\n",
    "    df = df[df.lat >= -25]\n",
    "    df = df[df.lon >= 105]\n",
    "    df = df[df.lon <= 120]\n",
    "    '''\n",
    "    #CR_2\n",
    "    df = df[df.lat >= 10]\n",
    "    df = df[df.lat <= 20]\n",
    "    df = df[df.lon >= 128]\n",
    "    df = df[df.lon <= 143]\n",
    "    return df"
   ]
  },
  {
   "cell_type": "code",
   "execution_count": 5,
   "id": "ad208582",
   "metadata": {},
   "outputs": [
    {
     "name": "stderr",
     "output_type": "stream",
     "text": [
      "100%|██████████| 1775/1775 [21:24<00:00,  1.38it/s]\n",
      "100%|██████████| 1677/1677 [3:05:54<00:00,  6.65s/it]  \n",
      "100%|██████████| 347/347 [01:04<00:00,  5.34it/s]\n"
     ]
    }
   ],
   "source": [
    "from pathlib import Path\n",
    "import os\n",
    "from tqdm import tqdm\n",
    "import pandas as pd\n",
    "list_of_files = [(os.listdir(\"level_2_mss\"), \"level_2_mss\"), (os.listdir(\"D:/ERA5\"),\"era_5\") ,( os.listdir(\"oskar_data\"), \"oskar_data\")]\n",
    "output_dir = \"reduced_size_cr_2\"\n",
    "for files, directory in list_of_files:\n",
    "    for file in tqdm(files):\n",
    "        '''\n",
    "        output = Path(output_dir + \"/\"+ directory + \"/\" + file)\n",
    "        if not output.is_file():\n",
    "        '''\n",
    "        if directory == \"era_5\":\n",
    "            df = pd.read_csv(\"D:/ERA5\" + \"/\" + file)\n",
    "        else:\n",
    "            df = pd.read_csv(directory + \"/\" + file)\n",
    "        df = reduce_area_of_df(df)\n",
    "        df.to_csv(\"reduced_size_cr_2/\" + directory + \"/\"+ file ,index=False)"
   ]
  },
  {
   "cell_type": "code",
   "execution_count": null,
   "id": "eeed87d2",
   "metadata": {},
   "outputs": [],
   "source": []
  }
 ],
 "metadata": {
  "kernelspec": {
   "display_name": "Python 3 (ipykernel)",
   "language": "python",
   "name": "python3"
  },
  "language_info": {
   "codemirror_mode": {
    "name": "ipython",
    "version": 3
   },
   "file_extension": ".py",
   "mimetype": "text/x-python",
   "name": "python",
   "nbconvert_exporter": "python",
   "pygments_lexer": "ipython3",
   "version": "3.9.7"
  }
 },
 "nbformat": 4,
 "nbformat_minor": 5
}
