{
 "cells": [
  {
   "cell_type": "code",
   "execution_count": 3,
   "id": "45c57be8",
   "metadata": {},
   "outputs": [],
   "source": [
    "def reduce_area_of_df(df):\n",
    "    #CR_1\n",
    "    '''\n",
    "    df = df[df.lat <= -10]\n",
    "    df = df[df.lat >= -25]\n",
    "    df = df[df.lon >= 105]\n",
    "    df = df[df.lon <= 120]\n",
    "    '''\n",
    "    #CR_2\n",
    "    df = df[df.lat >= 10]\n",
    "    df = df[df.lat <= 20]\n",
    "    df = df[df.lon >= 128]\n",
    "    df = df[df.lon <= 143]\n",
    "    return df"
   ]
  },
  {
   "cell_type": "code",
   "execution_count": 5,
   "id": "ad208582",
   "metadata": {},
   "outputs": [
    {
     "name": "stderr",
     "output_type": "stream",
     "text": [
      "100%|██████████| 1775/1775 [21:24<00:00,  1.38it/s]\n",
      "100%|██████████| 1677/1677 [3:05:54<00:00,  6.65s/it]  \n",
      "100%|██████████| 347/347 [01:04<00:00,  5.34it/s]\n"
     ]
    }
   ],
   "source": [
    "from pathlib import Path\n",
    "import os\n",
    "from tqdm import tqdm\n",
    "import pandas as pd\n",
    "list_of_files = [(os.listdir(\"level_2_mss\"), \"level_2_mss\"), (os.listdir(\"D:/ERA5\"),\"era_5\") ,( os.listdir(\"oskar_data\"), \"oskar_data\")]\n",
    "output_dir = \"reduced_size_cr_2\"\n",
    "for files, directory in list_of_files:\n",
    "    for file in tqdm(files):\n",
    "        '''\n",
    "        output = Path(output_dir + \"/\"+ directory + \"/\" + file)\n",
    "        if not output.is_file():\n",
    "        '''\n",
    "        if directory == \"era_5\":\n",
    "            df = pd.read_csv(\"D:/ERA5\" + \"/\" + file)\n",
    "        else:\n",
    "            df = pd.read_csv(directory + \"/\" + file)\n",
    "        df = reduce_area_of_df(df)\n",
    "        df.to_csv(\"reduced_size_cr_2/\" + directory + \"/\"+ file ,index=False)"
   ]
  },
  {
   "cell_type": "code",
   "execution_count": 3,
   "id": "eeed87d2",
   "metadata": {},
   "outputs": [
    {
     "ename": "ModuleNotFoundError",
     "evalue": "No module named 'statsmodels'",
     "output_type": "error",
     "traceback": [
      "\u001b[1;31m---------------------------------------------------------------------------\u001b[0m",
      "\u001b[1;31mModuleNotFoundError\u001b[0m                       Traceback (most recent call last)",
      "\u001b[1;32m~\\AppData\\Local\\Temp/ipykernel_5544/681562903.py\u001b[0m in \u001b[0;36m<module>\u001b[1;34m\u001b[0m\n\u001b[0;32m      3\u001b[0m \u001b[1;32mfrom\u001b[0m \u001b[0mpatsy\u001b[0m \u001b[1;32mimport\u001b[0m \u001b[0mdmatrices\u001b[0m\u001b[1;33m\u001b[0m\u001b[1;33m\u001b[0m\u001b[0m\n\u001b[0;32m      4\u001b[0m \u001b[1;32mimport\u001b[0m \u001b[0mnumpy\u001b[0m \u001b[1;32mas\u001b[0m \u001b[0mnp\u001b[0m\u001b[1;33m\u001b[0m\u001b[1;33m\u001b[0m\u001b[0m\n\u001b[1;32m----> 5\u001b[1;33m \u001b[1;32mimport\u001b[0m \u001b[0mstatsmodels\u001b[0m\u001b[1;33m.\u001b[0m\u001b[0mapi\u001b[0m \u001b[1;32mas\u001b[0m \u001b[0msm\u001b[0m\u001b[1;33m\u001b[0m\u001b[1;33m\u001b[0m\u001b[0m\n\u001b[0m\u001b[0;32m      6\u001b[0m \u001b[1;32mimport\u001b[0m \u001b[0mstatsmodels\u001b[0m\u001b[1;33m.\u001b[0m\u001b[0mformula\u001b[0m\u001b[1;33m.\u001b[0m\u001b[0mapi\u001b[0m \u001b[1;32mas\u001b[0m \u001b[0msmf\u001b[0m\u001b[1;33m\u001b[0m\u001b[1;33m\u001b[0m\u001b[0m\n\u001b[0;32m      7\u001b[0m \u001b[1;32mimport\u001b[0m \u001b[0mstatsmodels\u001b[0m\u001b[1;33m.\u001b[0m\u001b[0mstats\u001b[0m\u001b[1;33m.\u001b[0m\u001b[0mstattools\u001b[0m \u001b[1;32mas\u001b[0m \u001b[0mst\u001b[0m\u001b[1;33m\u001b[0m\u001b[1;33m\u001b[0m\u001b[0m\n",
      "\u001b[1;31mModuleNotFoundError\u001b[0m: No module named 'statsmodels'"
     ]
    }
   ],
   "source": [
    "from scipy.optimize import least_squares\n",
    "import pandas as pd\n",
    "from patsy import dmatrices\n",
    "import numpy as np\n",
    "import statsmodels.api as sm\n",
    "import statsmodels.formula.api as smf\n",
    "import statsmodels.stats.stattools as st\n",
    "import matplotlib.pyplot as plt"
   ]
  },
  {
   "cell_type": "code",
   "execution_count": 4,
   "id": "90f12ec1",
   "metadata": {},
   "outputs": [
    {
     "name": "stdout",
     "output_type": "stream",
     "text": [
      "Collecting statsmodels\n",
      "  Downloading statsmodels-0.13.2-cp39-cp39-win_amd64.whl (9.1 MB)\n",
      "Requirement already satisfied: pandas>=0.25 in c:\\users\\syver\\miniconda3\\envs\\pythonproject8\\lib\\site-packages (from statsmodels) (1.3.4)\n",
      "Requirement already satisfied: patsy>=0.5.2 in c:\\users\\syver\\miniconda3\\envs\\pythonproject8\\lib\\site-packages (from statsmodels) (0.5.2)\n",
      "Collecting packaging>=21.3\n",
      "  Using cached packaging-21.3-py3-none-any.whl (40 kB)\n",
      "Requirement already satisfied: scipy>=1.3 in c:\\users\\syver\\miniconda3\\envs\\pythonproject8\\lib\\site-packages (from statsmodels) (1.7.2)\n",
      "Requirement already satisfied: numpy>=1.17 in c:\\users\\syver\\miniconda3\\envs\\pythonproject8\\lib\\site-packages (from statsmodels) (1.21.4)\n",
      "Collecting pyparsing!=3.0.5,>=2.0.2\n",
      "  Using cached pyparsing-3.0.7-py3-none-any.whl (98 kB)\n",
      "Requirement already satisfied: python-dateutil>=2.7.3 in c:\\users\\syver\\miniconda3\\envs\\pythonproject8\\lib\\site-packages (from pandas>=0.25->statsmodels) (2.8.2)\n",
      "Requirement already satisfied: pytz>=2017.3 in c:\\users\\syver\\miniconda3\\envs\\pythonproject8\\lib\\site-packages (from pandas>=0.25->statsmodels) (2021.3)\n",
      "Requirement already satisfied: six in c:\\users\\syver\\miniconda3\\envs\\pythonproject8\\lib\\site-packages (from patsy>=0.5.2->statsmodels) (1.16.0)\n",
      "Installing collected packages: pyparsing, packaging, statsmodels\n",
      "  Attempting uninstall: pyparsing\n",
      "    Found existing installation: pyparsing 3.0.5\n",
      "    Uninstalling pyparsing-3.0.5:\n",
      "      Successfully uninstalled pyparsing-3.0.5\n",
      "  Attempting uninstall: packaging\n",
      "    Found existing installation: packaging 21.2\n",
      "    Uninstalling packaging-21.2:\n",
      "      Successfully uninstalled packaging-21.2\n",
      "Successfully installed packaging-21.3 pyparsing-3.0.7 statsmodels-0.13.2\n"
     ]
    }
   ],
   "source": [
    "!pip install statsmodels"
   ]
  }
 ],
 "metadata": {
  "kernelspec": {
   "display_name": "Python 3 (ipykernel)",
   "language": "python",
   "name": "python3"
  },
  "language_info": {
   "codemirror_mode": {
    "name": "ipython",
    "version": 3
   },
   "file_extension": ".py",
   "mimetype": "text/x-python",
   "name": "python",
   "nbconvert_exporter": "python",
   "pygments_lexer": "ipython3",
   "version": "3.9.7"
  }
 },
 "nbformat": 4,
 "nbformat_minor": 5
}
