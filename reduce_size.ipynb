{
 "cells": [
  {
   "cell_type": "code",
   "execution_count": 1,
   "id": "45c57be8",
   "metadata": {},
   "outputs": [],
   "source": [
    "def reduce_area_of_df(df, directory):\n",
    "    #CR_1\n",
    "    '''\n",
    "    df = df[df.lat <= -10]\n",
    "    df = df[df.lat >= -25]\n",
    "    df = df[df.lon >= 105]\n",
    "    df = df[df.lon <= 120]\n",
    "    '''\n",
    "    #CR_2\n",
    "    df = df[df.lat <= 10]\n",
    "    df = df[df.lat >= 20]\n",
    "    df = df[df.lon >= 128]\n",
    "    df = df[df.lon <= 143]\n",
    "    return df"
   ]
  },
  {
   "cell_type": "code",
   "execution_count": 2,
   "id": "ad208582",
   "metadata": {},
   "outputs": [
    {
     "name": "stderr",
     "output_type": "stream",
     "text": [
      "100%|██████████| 180/180 [01:48<00:00,  1.66it/s]\n",
      "100%|██████████| 1310/1310 [2:44:27<00:00,  7.53s/it] \n",
      "100%|██████████| 78/78 [00:19<00:00,  4.02it/s]\n"
     ]
    }
   ],
   "source": [
    "import os\n",
    "from tqdm import tqdm\n",
    "import pandas as pd\n",
    "list_of_files = [(os.listdir(\"level_2_mss\"), \"level_2_mss\"), (os.listdir(\"era_5\"),\"era_5\") ,( os.listdir(\"oskar_data\"), \"oskar_data\")]\n",
    "for files, directory in list_of_files:\n",
    "    list_of_df = []\n",
    "    for file in tqdm(files):\n",
    "        # SHOULD CHECK IF FILE EXISTS BEFORE CREATING NEW ONE\n",
    "        df = pd.read_csv(directory + \"/\" + file)\n",
    "        df = reduce_area_of_df(df, directory)\n",
    "        df.to_csv(\"reduced_size_cr_2/\" + directory + \"/\"+ file ,index=False)"
   ]
  },
  {
   "cell_type": "code",
   "execution_count": null,
   "id": "eeed87d2",
   "metadata": {},
   "outputs": [],
   "source": []
  }
 ],
 "metadata": {
  "kernelspec": {
   "display_name": "Python 3 (ipykernel)",
   "language": "python",
   "name": "python3"
  },
  "language_info": {
   "codemirror_mode": {
    "name": "ipython",
    "version": 3
   },
   "file_extension": ".py",
   "mimetype": "text/x-python",
   "name": "python",
   "nbconvert_exporter": "python",
   "pygments_lexer": "ipython3",
   "version": "3.9.7"
  }
 },
 "nbformat": 4,
 "nbformat_minor": 5
}
