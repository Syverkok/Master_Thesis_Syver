{
 "cells": [
  {
   "cell_type": "code",
   "execution_count": 1,
   "metadata": {},
   "outputs": [],
   "source": [
    "import os\n",
    "import pandas as pd\n",
    "from tqdm import tqdm\n",
    "import plotly.express as px\n",
    "from scipy.optimize import least_squares\n",
    "from lmfit.models import LorentzianModel, GaussianModel, LinearModel\n",
    "from matplotlib import pyplot as plt\n",
    "import numpy as np\n",
    "import lmfit\n",
    "from lmfit import Model\n",
    "import matplotlib as mpl"
   ]
  },
  {
   "cell_type": "code",
   "execution_count": 2,
   "metadata": {
    "pycharm": {
     "name": "#%%\n"
    }
   },
   "outputs": [
    {
     "name": "stderr",
     "output_type": "stream",
     "text": [
      "100%|██████████| 1580/1580 [00:15<00:00, 102.89it/s]\n"
     ]
    }
   ],
   "source": [
    "def get_df_from_dir(directory = \"colocated_data_cr_2\"):\n",
    "    files = os.listdir(directory)\n",
    "    df_list = []\n",
    "    for file in tqdm(files):\n",
    "        df_list.append(pd.read_csv(directory + \"/\" + file))\n",
    "    return pd.concat(df_list)\n",
    "\n",
    "def get_heatmap(arg = \"wind\"):\n",
    "    fig = px.density_heatmap(df, y=\"mss\", x=arg, color_continuous_scale=px.colors.sequential.Blackbody)\n",
    "    fig.update_layout(\n",
    "        xaxis_title= r\"$\\text{\" + arg + \"}$\",\n",
    "        yaxis_title= r\"$\\text{MSS}$\",\n",
    "        legend_title=\"Legend Title\",\n",
    "        font=dict(\n",
    "            size=16,\n",
    "        )\n",
    "    )\n",
    "    fig.show()\n",
    "\n",
    "\n",
    "df = get_df_from_dir(\"C:/Users/Syver/Desktop/cr1/\")"
   ]
  },
  {
   "cell_type": "code",
   "execution_count": null,
   "metadata": {},
   "outputs": [],
   "source": [
    "df.corr()"
   ]
  },
  {
   "cell_type": "code",
   "execution_count": null,
   "metadata": {},
   "outputs": [],
   "source": [
    "df = df[df['mss'] < 0.07]\n",
    "df = df[df['wind'] < 11]\n",
    "df = df[df['wind'] > 3]\n",
    "df = df.dropna()\n",
    "df"
   ]
  },
  {
   "cell_type": "code",
   "execution_count": null,
   "metadata": {
    "pycharm": {
     "is_executing": true
    }
   },
   "outputs": [],
   "source": [
    "get_heatmap()"
   ]
  },
  {
   "cell_type": "code",
   "execution_count": null,
   "metadata": {},
   "outputs": [],
   "source": [
    "gauss_model(8)"
   ]
  },
  {
   "cell_type": "code",
   "execution_count": 15,
   "metadata": {},
   "outputs": [],
   "source": [
    "class KatzbergModel(Model):\n",
    "    def __init__(self, *args, **kwargs):\n",
    "        def katzberg(x, c_1, c_2, c_3, c_4):\n",
    "            output = []\n",
    "            for i in range(len(x)):\n",
    "                if x[i] <= 3.49:\n",
    "                    output.append(c_1*(x[i] + c_2))\n",
    "                else:\n",
    "                    output.append(c_1*(c_3*np.log(x[i]) + c_4))\n",
    "            return np.array(output)\n",
    "                    \n",
    "        super(KatzbergModel, self).__init__(katzberg, *args, **kwargs)\n",
    "\n",
    "    def guess(self, data, **kwargs):\n",
    "        params = self.make_params()\n",
    "        def pset(param, value):\n",
    "            params[\"%s%s\" % (self.prefix, param)].set(value=value)\n",
    "        pset(\"c_1\", 0.0035)\n",
    "        pset(\"c_2\", 0.62)\n",
    "        pset(\"c_3\", 6)\n",
    "        pset(\"c_4\", -3.39)\n",
    "        return lmfit.models.update_param_vals(params, self.prefix, **kwargs)"
   ]
  },
  {
   "cell_type": "code",
   "execution_count": 16,
   "metadata": {},
   "outputs": [],
   "source": [
    "model = KatzbergModel()\n",
    "y = df['mss'].to_numpy()\n",
    "x = df['wind'].to_numpy()\n",
    "params = model.guess(y, x=x)\n",
    "result = model.fit(y, params, x=x)"
   ]
  },
  {
   "cell_type": "code",
   "execution_count": 17,
   "metadata": {},
   "outputs": [
    {
     "data": {
      "image/png": "[encoded data removed]",
      "text/plain": [
       "<Figure size 432x288 with 1 Axes>"
      ]
     },
     "metadata": {
      "needs_background": "light"
     },
     "output_type": "display_data"
    },
    {
     "name": "stdout",
     "output_type": "stream",
     "text": [
      "[[Model]]\n",
      "    Model(katzberg)\n",
      "[[Fit Statistics]]\n",
      "    # fitting method   = leastsq\n",
      "    # function evals   = 15\n",
      "    # data points      = 7940977\n",
      "    # variables        = 4\n",
      "    chi-square         = 1013.08265\n",
      "    reduced chi-square = 1.2758e-04\n",
      "    Akaike info crit   = -71205095.2\n",
      "    Bayesian info crit = -71205039.7\n",
      "[[Variables]]\n",
      "    c_1:  0.00392063 +/- 1.2851e-05 (0.33%) (init = 0.0035)\n",
      "    c_2:  1.05069081 +/- 0.01147785 (1.09%) (init = 0.62)\n",
      "    c_3:  6.35048444 +/- 0.02108756 (0.33%) (init = 6)\n",
      "    c_4: -2.97841438 +/- 0.01177655 (0.40%) (init = -3.39)\n",
      "[[Correlations]] (unreported correlations are < 0.100)\n",
      "    C(c_1, c_3) = -0.987\n",
      "    C(c_1, c_2) = -0.973\n",
      "    C(c_2, c_3) = 0.960\n",
      "    C(c_3, c_4) = -0.907\n",
      "    C(c_1, c_4) = 0.829\n",
      "    C(c_2, c_4) = -0.806\n"
     ]
    }
   ],
   "source": [
    "mpl.rcParams['agg.path.chunksize'] = 10000\n",
    "result.plot_fit()\n",
    "plt.show()\n",
    "print(result.fit_report())"
   ]
  },
  {
   "cell_type": "code",
   "execution_count": null,
   "metadata": {},
   "outputs": [],
   "source": [
    "def gauss_model(x):\n",
    "    amplitude = 0.56965907 \n",
    "    sigma = 5.90326384 \n",
    "    center = 11.3767419  \n",
    "    frac_1 = amplitude/(sigma*np.sqrt(2*np.pi))\n",
    "    frac_2 = np.exp((-(x-center)**2)/(2*sigma**2))\n",
    "    return frac_1/frac_2"
   ]
  },
  {
   "cell_type": "code",
   "execution_count": null,
   "metadata": {},
   "outputs": [],
   "source": [
    "print(result)"
   ]
  }
 ],
 "metadata": {
  "kernelspec": {
   "display_name": "Python 3 (ipykernel)",
   "language": "python",
   "name": "python3"
  },
  "language_info": {
   "codemirror_mode": {
    "name": "ipython",
    "version": 3
   },
   "file_extension": ".py",
   "mimetype": "text/x-python",
   "name": "python",
   "nbconvert_exporter": "python",
   "pygments_lexer": "ipython3",
   "version": "3.9.7"
  }
 },
 "nbformat": 4,
 "nbformat_minor": 1
}
