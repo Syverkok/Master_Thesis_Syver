{
 "cells": [
  {
   "cell_type": "code",
   "execution_count": 2,
   "metadata": {
    "pycharm": {
     "is_executing": true
    }
   },
   "outputs": [],
   "source": [
    "import os\n",
    "import pandas as pd\n",
    "from tqdm import tqdm\n",
    "import plotly.express as px\n",
    "from scipy.optimize import least_squares\n",
    "from lmfit.models import LorentzianModel, GaussianModel, LinearModel\n",
    "from matplotlib import pyplot as plt\n",
    "import numpy as np"
   ]
  },
  {
   "cell_type": "code",
   "execution_count": 13,
   "metadata": {
    "pycharm": {
     "name": "#%%\n"
    }
   },
   "outputs": [
    {
     "name": "stderr",
     "output_type": "stream",
     "text": [
      "100%|██████████| 1580/1580 [00:31<00:00, 50.33it/s]\n"
     ]
    }
   ],
   "source": [
    "def get_df_from_dir(directory = \"colocated_data_cr_2\"):\n",
    "    files = os.listdir(directory)\n",
    "    df_list = []\n",
    "    for file in tqdm(files):\n",
    "        df_list.append(pd.read_csv(directory + \"/\" + file))\n",
    "    return pd.concat(df_list)\n",
    "\n",
    "def get_heatmap(arg = \"wind\"):\n",
    "    fig = px.density_heatmap(df, y=\"mss\", x=arg, color_continuous_scale=px.colors.sequential.Blackbody)\n",
    "    fig.update_layout(\n",
    "        xaxis_title= r\"$\\text{\" + arg + \"}$\",\n",
    "        yaxis_title= r\"$\\text{MSS}$\",\n",
    "        legend_title=\"Legend Title\",\n",
    "        font=dict(\n",
    "            size=16,\n",
    "        )\n",
    "    )\n",
    "    fig.show()\n",
    "\n",
    "\n",
    "df = get_df_from_dir(\"colocated_data_cr_2\")"
   ]
  },
  {
   "cell_type": "code",
   "execution_count": 16,
   "metadata": {},
   "outputs": [
    {
     "data": {
      "text/html": [
       "<div>\n",
       "<style scoped>\n",
       "    .dataframe tbody tr th:only-of-type {\n",
       "        vertical-align: middle;\n",
       "    }\n",
       "\n",
       "    .dataframe tbody tr th {\n",
       "        vertical-align: top;\n",
       "    }\n",
       "\n",
       "    .dataframe thead th {\n",
       "        text-align: right;\n",
       "    }\n",
       "</style>\n",
       "<table border=\"1\" class=\"dataframe\">\n",
       "  <thead>\n",
       "    <tr style=\"text-align: right;\">\n",
       "      <th></th>\n",
       "      <th>mss</th>\n",
       "      <th>lat</th>\n",
       "      <th>lon</th>\n",
       "      <th>time</th>\n",
       "      <th>delta</th>\n",
       "      <th>wind</th>\n",
       "    </tr>\n",
       "  </thead>\n",
       "  <tbody>\n",
       "    <tr>\n",
       "      <th>mss</th>\n",
       "      <td>1.000000</td>\n",
       "      <td>0.007276</td>\n",
       "      <td>0.026004</td>\n",
       "      <td>0.372990</td>\n",
       "      <td>0.604247</td>\n",
       "      <td>0.604804</td>\n",
       "    </tr>\n",
       "    <tr>\n",
       "      <th>lat</th>\n",
       "      <td>0.007276</td>\n",
       "      <td>1.000000</td>\n",
       "      <td>0.010952</td>\n",
       "      <td>-0.000127</td>\n",
       "      <td>0.019667</td>\n",
       "      <td>-0.002905</td>\n",
       "    </tr>\n",
       "    <tr>\n",
       "      <th>lon</th>\n",
       "      <td>0.026004</td>\n",
       "      <td>0.010952</td>\n",
       "      <td>1.000000</td>\n",
       "      <td>-0.001612</td>\n",
       "      <td>0.024325</td>\n",
       "      <td>0.025627</td>\n",
       "    </tr>\n",
       "    <tr>\n",
       "      <th>time</th>\n",
       "      <td>0.372990</td>\n",
       "      <td>-0.000127</td>\n",
       "      <td>-0.001612</td>\n",
       "      <td>1.000000</td>\n",
       "      <td>0.020361</td>\n",
       "      <td>0.020934</td>\n",
       "    </tr>\n",
       "    <tr>\n",
       "      <th>delta</th>\n",
       "      <td>0.604247</td>\n",
       "      <td>0.019667</td>\n",
       "      <td>0.024325</td>\n",
       "      <td>0.020361</td>\n",
       "      <td>1.000000</td>\n",
       "      <td>0.996639</td>\n",
       "    </tr>\n",
       "    <tr>\n",
       "      <th>wind</th>\n",
       "      <td>0.604804</td>\n",
       "      <td>-0.002905</td>\n",
       "      <td>0.025627</td>\n",
       "      <td>0.020934</td>\n",
       "      <td>0.996639</td>\n",
       "      <td>1.000000</td>\n",
       "    </tr>\n",
       "  </tbody>\n",
       "</table>\n",
       "</div>"
      ],
      "text/plain": [
       "            mss       lat       lon      time     delta      wind\n",
       "mss    1.000000  0.007276  0.026004  0.372990  0.604247  0.604804\n",
       "lat    0.007276  1.000000  0.010952 -0.000127  0.019667 -0.002905\n",
       "lon    0.026004  0.010952  1.000000 -0.001612  0.024325  0.025627\n",
       "time   0.372990 -0.000127 -0.001612  1.000000  0.020361  0.020934\n",
       "delta  0.604247  0.019667  0.024325  0.020361  1.000000  0.996639\n",
       "wind   0.604804 -0.002905  0.025627  0.020934  0.996639  1.000000"
      ]
     },
     "execution_count": 16,
     "metadata": {},
     "output_type": "execute_result"
    }
   ],
   "source": [
    "df.corr()"
   ]
  },
  {
   "cell_type": "code",
   "execution_count": 15,
   "metadata": {},
   "outputs": [
    {
     "data": {
      "text/html": [
       "<div>\n",
       "<style scoped>\n",
       "    .dataframe tbody tr th:only-of-type {\n",
       "        vertical-align: middle;\n",
       "    }\n",
       "\n",
       "    .dataframe tbody tr th {\n",
       "        vertical-align: top;\n",
       "    }\n",
       "\n",
       "    .dataframe thead th {\n",
       "        text-align: right;\n",
       "    }\n",
       "</style>\n",
       "<table border=\"1\" class=\"dataframe\">\n",
       "  <thead>\n",
       "    <tr style=\"text-align: right;\">\n",
       "      <th></th>\n",
       "      <th>mss</th>\n",
       "      <th>lat</th>\n",
       "      <th>lon</th>\n",
       "      <th>time</th>\n",
       "      <th>delta</th>\n",
       "      <th>wind</th>\n",
       "    </tr>\n",
       "  </thead>\n",
       "  <tbody>\n",
       "    <tr>\n",
       "      <th>0</th>\n",
       "      <td>0.036782</td>\n",
       "      <td>19.639912</td>\n",
       "      <td>134.658249</td>\n",
       "      <td>214323.708611</td>\n",
       "      <td>9.148530</td>\n",
       "      <td>9.089196</td>\n",
       "    </tr>\n",
       "    <tr>\n",
       "      <th>1</th>\n",
       "      <td>0.033957</td>\n",
       "      <td>19.615990</td>\n",
       "      <td>134.710129</td>\n",
       "      <td>214323.708889</td>\n",
       "      <td>9.141695</td>\n",
       "      <td>9.086881</td>\n",
       "    </tr>\n",
       "    <tr>\n",
       "      <th>2</th>\n",
       "      <td>0.039476</td>\n",
       "      <td>19.592030</td>\n",
       "      <td>134.761993</td>\n",
       "      <td>214323.709167</td>\n",
       "      <td>9.130130</td>\n",
       "      <td>9.081678</td>\n",
       "    </tr>\n",
       "    <tr>\n",
       "      <th>3</th>\n",
       "      <td>0.040275</td>\n",
       "      <td>19.568026</td>\n",
       "      <td>134.813828</td>\n",
       "      <td>214323.709444</td>\n",
       "      <td>9.133731</td>\n",
       "      <td>9.091732</td>\n",
       "    </tr>\n",
       "    <tr>\n",
       "      <th>4</th>\n",
       "      <td>0.034622</td>\n",
       "      <td>19.544006</td>\n",
       "      <td>134.865646</td>\n",
       "      <td>214323.709722</td>\n",
       "      <td>9.139729</td>\n",
       "      <td>9.104170</td>\n",
       "    </tr>\n",
       "    <tr>\n",
       "      <th>...</th>\n",
       "      <td>...</td>\n",
       "      <td>...</td>\n",
       "      <td>...</td>\n",
       "      <td>...</td>\n",
       "      <td>...</td>\n",
       "      <td>...</td>\n",
       "    </tr>\n",
       "    <tr>\n",
       "      <th>4944</th>\n",
       "      <td>0.020225</td>\n",
       "      <td>11.185954</td>\n",
       "      <td>132.792328</td>\n",
       "      <td>257032.193351</td>\n",
       "      <td>3.381367</td>\n",
       "      <td>3.504948</td>\n",
       "    </tr>\n",
       "    <tr>\n",
       "      <th>4945</th>\n",
       "      <td>0.021570</td>\n",
       "      <td>11.134051</td>\n",
       "      <td>132.864288</td>\n",
       "      <td>257032.193796</td>\n",
       "      <td>3.227782</td>\n",
       "      <td>3.359321</td>\n",
       "    </tr>\n",
       "    <tr>\n",
       "      <th>4946</th>\n",
       "      <td>0.021738</td>\n",
       "      <td>11.098987</td>\n",
       "      <td>132.912872</td>\n",
       "      <td>257032.194097</td>\n",
       "      <td>3.124084</td>\n",
       "      <td>3.262560</td>\n",
       "    </tr>\n",
       "    <tr>\n",
       "      <th>4947</th>\n",
       "      <td>0.020992</td>\n",
       "      <td>11.066603</td>\n",
       "      <td>132.957718</td>\n",
       "      <td>257032.194375</td>\n",
       "      <td>3.025078</td>\n",
       "      <td>3.170345</td>\n",
       "    </tr>\n",
       "    <tr>\n",
       "      <th>4948</th>\n",
       "      <td>0.021009</td>\n",
       "      <td>11.034214</td>\n",
       "      <td>133.002563</td>\n",
       "      <td>257032.194653</td>\n",
       "      <td>2.912561</td>\n",
       "      <td>3.066093</td>\n",
       "    </tr>\n",
       "  </tbody>\n",
       "</table>\n",
       "<p>6454334 rows × 6 columns</p>\n",
       "</div>"
      ],
      "text/plain": [
       "           mss        lat         lon           time     delta      wind\n",
       "0     0.036782  19.639912  134.658249  214323.708611  9.148530  9.089196\n",
       "1     0.033957  19.615990  134.710129  214323.708889  9.141695  9.086881\n",
       "2     0.039476  19.592030  134.761993  214323.709167  9.130130  9.081678\n",
       "3     0.040275  19.568026  134.813828  214323.709444  9.133731  9.091732\n",
       "4     0.034622  19.544006  134.865646  214323.709722  9.139729  9.104170\n",
       "...        ...        ...         ...            ...       ...       ...\n",
       "4944  0.020225  11.185954  132.792328  257032.193351  3.381367  3.504948\n",
       "4945  0.021570  11.134051  132.864288  257032.193796  3.227782  3.359321\n",
       "4946  0.021738  11.098987  132.912872  257032.194097  3.124084  3.262560\n",
       "4947  0.020992  11.066603  132.957718  257032.194375  3.025078  3.170345\n",
       "4948  0.021009  11.034214  133.002563  257032.194653  2.912561  3.066093\n",
       "\n",
       "[6454334 rows x 6 columns]"
      ]
     },
     "execution_count": 15,
     "metadata": {},
     "output_type": "execute_result"
    }
   ],
   "source": [
    "df = df[df['mss'] < 0.07]\n",
    "df = df[df['wind'] < 11]\n",
    "df = df[df['wind'] > 3]\n",
    "df = df.dropna()\n",
    "df"
   ]
  },
  {
   "cell_type": "code",
   "execution_count": 10,
   "metadata": {
    "pycharm": {
     "is_executing": true
    }
   },
   "outputs": [],
   "source": [
    "get_heatmap()"
   ]
  },
  {
   "cell_type": "code",
   "execution_count": null,
   "metadata": {},
   "outputs": [],
   "source": [
    "gauss_model(8)"
   ]
  },
  {
   "cell_type": "code",
   "execution_count": null,
   "metadata": {},
   "outputs": [],
   "source": [
    "model = LorentzianModel()\n",
    "y = df['mss'].to_numpy()\n",
    "x = df['wind'].to_numpy()\n",
    "params = model.guess(y, x=x)\n",
    "result = model.fit(y, params, x=x)"
   ]
  },
  {
   "cell_type": "code",
   "execution_count": null,
   "metadata": {},
   "outputs": [],
   "source": [
    "result.plot_fit()\n",
    "plt.show()\n",
    "\n",
    "print(result.fit_report())"
   ]
  },
  {
   "cell_type": "code",
   "execution_count": null,
   "metadata": {},
   "outputs": [],
   "source": [
    "def gauss_model(x):\n",
    "    amplitude = 0.56965907 \n",
    "    sigma = 5.90326384 \n",
    "    center = 11.3767419  \n",
    "    frac_1 = amplitude/(sigma*np.sqrt(2*np.pi))\n",
    "    frac_2 = np.exp((-(x-center)**2)/(2*sigma**2))\n",
    "    return frac_1/frac_2"
   ]
  },
  {
   "cell_type": "code",
   "execution_count": null,
   "metadata": {},
   "outputs": [],
   "source": [
    "print(result)"
   ]
  }
 ],
 "metadata": {
  "kernelspec": {
   "display_name": "Python 3 (ipykernel)",
   "language": "python",
   "name": "python3"
  },
  "language_info": {
   "codemirror_mode": {
    "name": "ipython",
    "version": 3
   },
   "file_extension": ".py",
   "mimetype": "text/x-python",
   "name": "python",
   "nbconvert_exporter": "python",
   "pygments_lexer": "ipython3",
   "version": "3.9.7"
  }
 },
 "nbformat": 4,
 "nbformat_minor": 1
}