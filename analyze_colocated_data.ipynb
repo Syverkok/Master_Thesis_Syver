{
 "cells": [
  {
   "cell_type": "code",
   "execution_count": null,
   "metadata": {},
   "outputs": [],
   "source": [
    "import os\n",
    "import pandas as pd\n",
    "from tqdm import tqdm\n",
    "import plotly.express as px\n",
    "from scipy.optimize import least_squares\n",
    "from lmfit.models import LorentzianModel, GaussianModel, LinearModel\n",
    "from matplotlib import pyplot as plt\n",
    "import numpy as np"
   ]
  },
  {
   "cell_type": "code",
   "execution_count": null,
   "metadata": {
    "pycharm": {
     "name": "#%%\n"
    }
   },
   "outputs": [],
   "source": [
    "def get_df_from_dir(directory = \"colocated_data_cr_1\"):\n",
    "    files = os.listdir(directory)\n",
    "    df_list = []\n",
    "    for file in tqdm(files):\n",
    "        df_list.append(pd.read_csv(directory + \"/\" + file))\n",
    "    return pd.concat(df_list)\n",
    "\n",
    "def get_heatmap(arg = \"wind\"):\n",
    "    fig = px.density_heatmap(df, y=\"mss\", x=arg, color_continuous_scale=px.colors.sequential.Blackbody)\n",
    "    fig.update_layout(\n",
    "        xaxis_title= r\"$\\text{\" + arg + \"}$\",\n",
    "        yaxis_title= r\"$\\text{MSS}$\",\n",
    "        legend_title=\"Legend Title\",\n",
    "        font=dict(\n",
    "            size=16,\n",
    "        )\n",
    "    )\n",
    "    fig.show()\n",
    "\n",
    "\n",
    "df = get_df_from_dir(\"colocated_data_cr_1\")"
   ]
  },
  {
   "cell_type": "code",
   "execution_count": null,
   "metadata": {},
   "outputs": [],
   "source": [
    "df = df[df['mss'] < 0.07]\n",
    "df = df.dropna()\n",
    "get_heatmap()"
   ]
  },
  {
   "cell_type": "code",
   "execution_count": null,
   "metadata": {},
   "outputs": [],
   "source": [
    "gauss_model(8)"
   ]
  },
  {
   "cell_type": "code",
   "execution_count": null,
   "metadata": {},
   "outputs": [],
   "source": [
    "model = LorentzianModel()\n",
    "y = df['mss'].to_numpy()\n",
    "x = df['wind'].to_numpy()\n",
    "params = model.guess(y, x=x)\n",
    "result = model.fit(y, params, x=x)"
   ]
  },
  {
   "cell_type": "code",
   "execution_count": null,
   "metadata": {},
   "outputs": [],
   "source": [
    "result.plot_fit()\n",
    "plt.show()\n",
    "\n",
    "print(result.fit_report())"
   ]
  },
  {
   "cell_type": "code",
   "execution_count": null,
   "metadata": {},
   "outputs": [],
   "source": [
    "def gauss_model(x):\n",
    "    amplitude = 0.56965907 \n",
    "    sigma = 5.90326384 \n",
    "    center = 11.3767419  \n",
    "    frac_1 = amplitude/(sigma*np.sqrt(2*np.pi))\n",
    "    frac_2 = np.exp((-(x-center)**2)/(2*sigma**2))\n",
    "    return frac_1/frac_2"
   ]
  },
  {
   "cell_type": "code",
   "execution_count": null,
   "metadata": {},
   "outputs": [],
   "source": [
    "print(result)"
   ]
  }
 ],
 "metadata": {
  "kernelspec": {
   "display_name": "Python 3 (ipykernel)",
   "language": "python",
   "name": "python3"
  },
  "language_info": {
   "codemirror_mode": {
    "name": "ipython",
    "version": 3
   },
   "file_extension": ".py",
   "mimetype": "text/x-python",
   "name": "python",
   "nbconvert_exporter": "python",
   "pygments_lexer": "ipython3",
   "version": "3.9.7"
  }
 },
 "nbformat": 4,
 "nbformat_minor": 1
}