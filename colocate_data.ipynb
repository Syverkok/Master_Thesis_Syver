{
 "cells": [
  {
   "cell_type": "code",
   "execution_count": 1,
   "metadata": {},
   "outputs": [],
   "source": [
    "import numpy as np\n",
    "import pandas as pd\n",
    "from scipy.interpolate import LinearNDInterpolator\n",
    "import os\n",
    "from tqdm import tqdm\n",
    "\n",
    "def get_interp_cygnnss(cygnss_df, era_5_df, oskar_df):\n",
    "    \n",
    "    interp_u10 = LinearNDInterpolator(list(zip(era_5_df['sp_lon'], era_5_df['sp_lat'], era_5_df['hours_since_ref'])),\n",
    "                                      era_5_df['u10'])\n",
    "    interp_v10 = LinearNDInterpolator(list(zip(era_5_df['sp_lon'], era_5_df['sp_lat'], era_5_df['hours_since_ref'])),\n",
    "                                      era_5_df['v10'])\n",
    "    \n",
    "    u10 = interp_u10(cygnss_df[\"lon\"].to_numpy(), cygnss_df[\"lat\"].to_numpy(), cygnss_df[\"sample_time\"].to_numpy())\n",
    "    \n",
    "    v10 = interp_v10(lons_to_interpolate, lats_to_interpolate, times_to_interpolate)\n",
    "    \n",
    "    interp_u = LinearNDInterpolator(list(zip(oskar_df['lat'], oskar_df['lat'], oskar_df['time'])),oskar_df['u'])\n",
    "    \n",
    "    interp_v = LinearNDInterpolator(list(zip(oskar_df['lat'], oskar_df['lon'], oskar_df['time'])),oskar_df['v'])\n",
    "\n",
    "    u_current = interp_u(lats_to_interpolate, lons_to_interpolate, times_to_interpolate)\n",
    "    \n",
    "    v_current = interp_v(lats_to_interpolate, lons_to_interpolate, times_to_interpolate)\n",
    "    \n",
    "    total_wind = np.sqrt(u10 ** 2 + v10 ** 2)\n",
    "    \n",
    "    diff_u = u10 - u_current\n",
    "    diff_v = v10 - v_current\n",
    "    \n",
    "    delta = np.sqrt(diff_u ** 2 + diff_v ** 2)\n",
    "    \n",
    "    cygnss_df['delta'] = delta\n",
    "    cygnss_df['total_wind'] = total_wind\n",
    "    \n",
    "    return cygnss_df\n",
    "    \n",
    "    \n",
    "def relevant_files(input_arguments, directory, include_extra = False):\n",
    "    files = os.listdir(directory)    \n",
    "    # Sort file names by name\n",
    "    files = sorted(files) \n",
    "\n",
    "    relevant_files = []\n",
    "    for index, file_name in enumerate(files):\n",
    "        for argument in input_arguments:\n",
    "            if file_name.startswith(argument):\n",
    "                relevant_files.append(file_name)\n",
    "    if include_extra:\n",
    "\n",
    "        index_extra_start = files.index(relevant_files[0]) - 1\n",
    "        index_extra_end = files.index(relevant_files[-1]) + 1\n",
    "    \n",
    "        relevant_files.append(files[index_extra_start])\n",
    "        relevant_files.append(files[index_extra_end])\n",
    "    \n",
    "    relevant_files = [directory + '/' + s for s in relevant_files]\n",
    "\n",
    "    return relevant_files"
   ]
  },
  {
   "cell_type": "code",
   "execution_count": null,
   "metadata": {},
   "outputs": [
    {
     "name": "stderr",
     "output_type": "stream",
     "text": [
      "\r",
      "  0%|          | 0/6 [00:00<?, ?it/s]"
     ]
    },
    {
     "name": "stdout",
     "output_type": "stream",
     "text": [
      "hEI\n"
     ]
    }
   ],
   "source": [
    "years = ['2017', '2018', '2019','2020', '2021', '2022']\n",
    "days = [str(x).zfill(2) for x in range(1, 32)]\n",
    "for i in tqdm(range(len(years))):\n",
    "    if years[i] == '2017':\n",
    "        months = ['03',\n",
    "            '04', '05', '06',\n",
    "            '07', '08', '09',\n",
    "            '10', '11', '12',\n",
    "        ]\n",
    "    elif years[i] == '2022':\n",
    "        months = ['01']\n",
    "    else:\n",
    "        months = ['01','02','03',\n",
    "            '04', '05', '06',\n",
    "            '07', '08', '09',\n",
    "            '10', '11', '12',\n",
    "        ]\n",
    "        \n",
    "    for month in months:\n",
    "        cygnss_df_month = []\n",
    "        days = [str(x).zfill(2) for x in range(1, 32)]\n",
    "        for j in range(0, len(days)-1, 3):\n",
    "            if j == 27:\n",
    "                input_arguments = [str(years[i]) + '_' + str(month) + \"_\" + days[j],\n",
    "                                  str(years[i]) + '_' + str(month) + \"_\" + days[j+1],\n",
    "                                  str(years[i]) + '_' + str(month) + \"_\" + days[j+2],\n",
    "                                  str(years[i]) + '_' + str(month) + \"_\" + days[j+3]]\n",
    "            else:  \n",
    "                input_arguments = [str(years[i]) + '_' + str(month) + \"_\" + days[j],\n",
    "                                  str(years[i]) + '_' + str(month) + \"_\" + days[j+1],\n",
    "                                  str(years[i]) + '_' + str(month) + \"_\" + days[j+2]]        \n",
    "            era_5_files = relevant_files(input_arguments, 'era_5', False)\n",
    "            cygnss_files = relevant_files(input_arguments,'level_2_mss')\n",
    "            oskar_files = relevant_files(input_arguments, 'oskar_data', False)\n",
    "            \n",
    "            if cygnss_files:\n",
    "                print(\"hEI\")\n",
    "                try:\n",
    "                    cygnss_df_month.append(get_interp_cygnnss(pd.concat(map(pd.read_csv, cygnss_files )), \n",
    "                                                   pd.concat(map(pd.read_csv, era_5_files )), \n",
    "                                                   pd.concat(map(pd.read_csv, oskar_files ))))\n",
    "                except:\n",
    "                    print(cygnss_files)\n",
    "                    print(era_5_files)\n",
    "                    print(oskar_files)\n",
    "\n",
    "\n",
    "        if cygnss_df_month:\n",
    "            print(\"TO\")\n",
    "            df = pd.concat(cygnss_df_month)\n",
    "            df.to_csv(\"colocated_data/\" + years[i] + month + \".csv\" ,index=False)"
   ]
  },
  {
   "cell_type": "code",
   "execution_count": null,
   "metadata": {},
   "outputs": [],
   "source": [
    "oskar_files = relevant_files('2021', '10', 'oskar_data')        \n",
    "pd.concat(map(pd.read_csv, oskar_files )), oskar_files"
   ]
  },
  {
   "cell_type": "code",
   "execution_count": null,
   "metadata": {},
   "outputs": [],
   "source": [
    "era_5 = relevant_files('2021', '10', 'era_5')        \n",
    "pd.concat(map(pd.read_csv, era_5 )), era_5"
   ]
  },
  {
   "cell_type": "code",
   "execution_count": null,
   "metadata": {},
   "outputs": [],
   "source": [
    "level_2_mss = relevant_files('2021', '10', 'level_2_mss')        \n",
    "pd.concat(map(pd.read_csv, level_2_mss )), level_2_mss"
   ]
  },
  {
   "cell_type": "code",
   "execution_count": null,
   "metadata": {},
   "outputs": [],
   "source": []
  },
  {
   "cell_type": "code",
   "execution_count": null,
   "metadata": {},
   "outputs": [],
   "source": []
  }
 ],
 "metadata": {
  "kernelspec": {
   "display_name": "Python 3 (ipykernel)",
   "language": "python",
   "name": "python3"
  },
  "language_info": {
   "codemirror_mode": {
    "name": "ipython",
    "version": 3
   },
   "file_extension": ".py",
   "mimetype": "text/x-python",
   "name": "python",
   "nbconvert_exporter": "python",
   "pygments_lexer": "ipython3",
   "version": "3.9.7"
  }
 },
 "nbformat": 4,
 "nbformat_minor": 1
}
