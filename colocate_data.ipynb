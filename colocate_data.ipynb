{
 "cells": [
  {
   "cell_type": "code",
   "execution_count": 38,
   "metadata": {},
   "outputs": [],
   "source": [
    "import os \n",
    "from pydap.client import open_url\n",
    "from datetime import datetime\n",
    "import numpy as np\n",
    "import pandas as pd\n",
    "from datetime import timedelta\n",
    "import xarray as xr\n",
    "from scipy.interpolate import LinearNDInterpolator\n",
    "from datetime import date\n",
    "import os\n",
    "from tqdm import tqdm\n",
    "\n",
    "def get_interp_cygnnss(cygnss_df, era_5_df, oskar_df):\n",
    "    interp_u10 = LinearNDInterpolator(list(zip(era_5_df['sp_lon'], era_5_df['sp_lat'], era_5_df['hours_since_ref'])),\n",
    "                                      era_5_df['u10'])\n",
    "    interp_v10 = LinearNDInterpolator(list(zip(era_5_df['sp_lon'], era_5_df['sp_lat'], era_5_df['hours_since_ref'])),\n",
    "                                      era_5_df['v10'])\n",
    "\n",
    "    lons_to_interpolate = cygnss_df[\"sp_lon\"].to_numpy()\n",
    "    lats_to_interpolate = cygnss_df[\"sp_lat\"].to_numpy()\n",
    "    times_to_interpolate = cygnss_df[\"hours_since_ref\"].to_numpy()\n",
    "    \n",
    "    u10 = interp_u10(lons_to_interpolate, lats_to_interpolate, times_to_interpolate)\n",
    "    v10 = interp_v10(lons_to_interpolate, lats_to_interpolate, times_to_interpolate)\n",
    "    \n",
    "    interp_u = LinearNDInterpolator(list(zip(oskar_df['sp_lat'], oskar_df['sp_lon'], oskar_df['hours_since_ref'])),\n",
    "                                    oskar_df['u'])\n",
    "    interp_v = LinearNDInterpolator(list(zip(oskar_df['sp_lat'], oskar_df['sp_lon'], oskar_df['hours_since_ref'])),\n",
    "                                    oskar_df['v'])\n",
    "\n",
    "    u_current = interp_u(lats_to_interpolate, lons_to_interpolate, times_to_interpolate)\n",
    "    v_current = interp_v(lats_to_interpolate, lons_to_interpolate, times_to_interpolate)\n",
    "    \n",
    "    total_wind = np.sqrt(u10 ** 2 + v10 ** 2)\n",
    "    \n",
    "    diff_u = u10 - u_current\n",
    "    diff_v = v10 - v_current\n",
    "    delta = np.sqrt(diff_u ** 2 + diff_v ** 2)\n",
    "    cygnss_df['delta'] = delta\n",
    "    cygnss_df['total_wind'] = total_wind\n",
    "    return cygnss_df\n",
    "    \n",
    "    \n",
    "def relevant_files(input_arguments, directory, include_extra = False):\n",
    "    files = os.listdir(directory)    \n",
    "    # Sort file names by name\n",
    "    files = sorted(files) \n",
    "\n",
    "    relevant_files = []\n",
    "    for index, file_name in enumerate(files):\n",
    "        for argument in input_arguments:\n",
    "            if file_name.startswith(argument):\n",
    "                relevant_files.append(file_name)\n",
    "    if include_extra:\n",
    "\n",
    "        index_extra_start = files.index(relevant_files[0]) - 1\n",
    "        index_extra_end = files.index(relevant_files[-1]) + 1\n",
    "    \n",
    "        relevant_files.append(files[index_extra_start])\n",
    "        relevant_files.append(files[index_extra_end])\n",
    "    \n",
    "    relevant_files = [directory + '/' + s for s in relevant_files]\n",
    "\n",
    "    return relevant_files"
   ]
  },
  {
   "cell_type": "code",
   "execution_count": 39,
   "metadata": {},
   "outputs": [
    {
     "name": "stderr",
     "output_type": "stream",
     "text": [
      "  0%|          | 0/6 [00:00<?, ?it/s]\n"
     ]
    },
    {
     "ename": "ValueError",
     "evalue": "No objects to concatenate",
     "output_type": "error",
     "traceback": [
      "\u001b[1;31m---------------------------------------------------------------------------\u001b[0m",
      "\u001b[1;31mValueError\u001b[0m                                Traceback (most recent call last)",
      "\u001b[1;32m~\\AppData\\Local\\Temp/ipykernel_2584/527349412.py\u001b[0m in \u001b[0;36m<module>\u001b[1;34m\u001b[0m\n\u001b[0;32m     32\u001b[0m             \u001b[0mcygnss_files\u001b[0m \u001b[1;33m=\u001b[0m \u001b[0mrelevant_files\u001b[0m\u001b[1;33m(\u001b[0m\u001b[0minput_arguments\u001b[0m\u001b[1;33m,\u001b[0m\u001b[1;34m'level_2_mss'\u001b[0m\u001b[1;33m)\u001b[0m\u001b[1;33m\u001b[0m\u001b[1;33m\u001b[0m\u001b[0m\n\u001b[0;32m     33\u001b[0m             \u001b[0moskar_files\u001b[0m \u001b[1;33m=\u001b[0m \u001b[0mrelevant_files\u001b[0m\u001b[1;33m(\u001b[0m\u001b[0minput_arguments\u001b[0m\u001b[1;33m,\u001b[0m \u001b[1;34m'oskar_data'\u001b[0m\u001b[1;33m,\u001b[0m \u001b[1;32mFalse\u001b[0m\u001b[1;33m)\u001b[0m\u001b[1;33m\u001b[0m\u001b[1;33m\u001b[0m\u001b[0m\n\u001b[1;32m---> 34\u001b[1;33m             cygnss_df_month.append(get_interp_cygnnss(pd.concat(map(pd.read_csv, cygnss_files )), \n\u001b[0m\u001b[0;32m     35\u001b[0m                                            \u001b[0mpd\u001b[0m\u001b[1;33m.\u001b[0m\u001b[0mconcat\u001b[0m\u001b[1;33m(\u001b[0m\u001b[0mmap\u001b[0m\u001b[1;33m(\u001b[0m\u001b[0mpd\u001b[0m\u001b[1;33m.\u001b[0m\u001b[0mread_csv\u001b[0m\u001b[1;33m,\u001b[0m \u001b[0mera_5_files\u001b[0m \u001b[1;33m)\u001b[0m\u001b[1;33m)\u001b[0m\u001b[1;33m,\u001b[0m\u001b[1;33m\u001b[0m\u001b[1;33m\u001b[0m\u001b[0m\n\u001b[0;32m     36\u001b[0m                                            pd.concat(map(pd.read_csv, oskar_files ))))\n",
      "\u001b[1;32m~\\miniconda3\\envs\\pythonProject8\\lib\\site-packages\\pandas\\util\\_decorators.py\u001b[0m in \u001b[0;36mwrapper\u001b[1;34m(*args, **kwargs)\u001b[0m\n\u001b[0;32m    309\u001b[0m                     \u001b[0mstacklevel\u001b[0m\u001b[1;33m=\u001b[0m\u001b[0mstacklevel\u001b[0m\u001b[1;33m,\u001b[0m\u001b[1;33m\u001b[0m\u001b[1;33m\u001b[0m\u001b[0m\n\u001b[0;32m    310\u001b[0m                 )\n\u001b[1;32m--> 311\u001b[1;33m             \u001b[1;32mreturn\u001b[0m \u001b[0mfunc\u001b[0m\u001b[1;33m(\u001b[0m\u001b[1;33m*\u001b[0m\u001b[0margs\u001b[0m\u001b[1;33m,\u001b[0m \u001b[1;33m**\u001b[0m\u001b[0mkwargs\u001b[0m\u001b[1;33m)\u001b[0m\u001b[1;33m\u001b[0m\u001b[1;33m\u001b[0m\u001b[0m\n\u001b[0m\u001b[0;32m    312\u001b[0m \u001b[1;33m\u001b[0m\u001b[0m\n\u001b[0;32m    313\u001b[0m         \u001b[1;32mreturn\u001b[0m \u001b[0mwrapper\u001b[0m\u001b[1;33m\u001b[0m\u001b[1;33m\u001b[0m\u001b[0m\n",
      "\u001b[1;32m~\\miniconda3\\envs\\pythonProject8\\lib\\site-packages\\pandas\\core\\reshape\\concat.py\u001b[0m in \u001b[0;36mconcat\u001b[1;34m(objs, axis, join, ignore_index, keys, levels, names, verify_integrity, sort, copy)\u001b[0m\n\u001b[0;32m    292\u001b[0m     \u001b[0mValueError\u001b[0m\u001b[1;33m:\u001b[0m \u001b[0mIndexes\u001b[0m \u001b[0mhave\u001b[0m \u001b[0moverlapping\u001b[0m \u001b[0mvalues\u001b[0m\u001b[1;33m:\u001b[0m \u001b[1;33m[\u001b[0m\u001b[1;34m'a'\u001b[0m\u001b[1;33m]\u001b[0m\u001b[1;33m\u001b[0m\u001b[1;33m\u001b[0m\u001b[0m\n\u001b[0;32m    293\u001b[0m     \"\"\"\n\u001b[1;32m--> 294\u001b[1;33m     op = _Concatenator(\n\u001b[0m\u001b[0;32m    295\u001b[0m         \u001b[0mobjs\u001b[0m\u001b[1;33m,\u001b[0m\u001b[1;33m\u001b[0m\u001b[1;33m\u001b[0m\u001b[0m\n\u001b[0;32m    296\u001b[0m         \u001b[0maxis\u001b[0m\u001b[1;33m=\u001b[0m\u001b[0maxis\u001b[0m\u001b[1;33m,\u001b[0m\u001b[1;33m\u001b[0m\u001b[1;33m\u001b[0m\u001b[0m\n",
      "\u001b[1;32m~\\miniconda3\\envs\\pythonProject8\\lib\\site-packages\\pandas\\core\\reshape\\concat.py\u001b[0m in \u001b[0;36m__init__\u001b[1;34m(self, objs, axis, join, keys, levels, names, ignore_index, verify_integrity, copy, sort)\u001b[0m\n\u001b[0;32m    349\u001b[0m \u001b[1;33m\u001b[0m\u001b[0m\n\u001b[0;32m    350\u001b[0m         \u001b[1;32mif\u001b[0m \u001b[0mlen\u001b[0m\u001b[1;33m(\u001b[0m\u001b[0mobjs\u001b[0m\u001b[1;33m)\u001b[0m \u001b[1;33m==\u001b[0m \u001b[1;36m0\u001b[0m\u001b[1;33m:\u001b[0m\u001b[1;33m\u001b[0m\u001b[1;33m\u001b[0m\u001b[0m\n\u001b[1;32m--> 351\u001b[1;33m             \u001b[1;32mraise\u001b[0m \u001b[0mValueError\u001b[0m\u001b[1;33m(\u001b[0m\u001b[1;34m\"No objects to concatenate\"\u001b[0m\u001b[1;33m)\u001b[0m\u001b[1;33m\u001b[0m\u001b[1;33m\u001b[0m\u001b[0m\n\u001b[0m\u001b[0;32m    352\u001b[0m \u001b[1;33m\u001b[0m\u001b[0m\n\u001b[0;32m    353\u001b[0m         \u001b[1;32mif\u001b[0m \u001b[0mkeys\u001b[0m \u001b[1;32mis\u001b[0m \u001b[1;32mNone\u001b[0m\u001b[1;33m:\u001b[0m\u001b[1;33m\u001b[0m\u001b[1;33m\u001b[0m\u001b[0m\n",
      "\u001b[1;31mValueError\u001b[0m: No objects to concatenate"
     ]
    }
   ],
   "source": [
    "years = ['2017', '2018', '2019','2020', '2021', '2022']\n",
    "days = [str(x).zfill(2) for x in range(1, 32)]\n",
    "for i in tqdm(range(len(years))):\n",
    "    if years[i] == '2017':\n",
    "        months = ['03',\n",
    "            '04', '05', '06',\n",
    "            '07', '08', '09',\n",
    "            '10', '11', '12',\n",
    "        ]\n",
    "    elif years[i] == '2022':\n",
    "        months = ['01']\n",
    "    else:\n",
    "        months = ['01','02','03',\n",
    "            '04', '05', '06',\n",
    "            '07', '08', '09',\n",
    "            '10', '11', '12',\n",
    "        ]\n",
    "        \n",
    "    for month in months:\n",
    "        cygnss_df_month = []\n",
    "        for i in range(1, len(days)-2):\n",
    "            if i == 28:\n",
    "                input_arguments = [str(years[i]) + '_' + str(month) + \"_\" + str(i),\n",
    "                                  str(years[i]) + '_' + str(month) + \"_\" + str(i+1),\n",
    "                                  str(years[i]) + '_' + str(month) + \"_\" + str(i+2),\n",
    "                                  str(years[i]) + '_' + str(month) + \"_\" + str(i+3)]\n",
    "            else:  \n",
    "                input_arguments = [str(years[i]) + '_' + str(month) + \"_\" + str(i),\n",
    "                                  str(years[i]) + '_' + str(month) + \"_\" + str(i+1),\n",
    "                                  str(years[i]) + '_' + str(month) + \"_\" + str(i+2)]\n",
    "            era_5_files = relevant_files(input_arguments, 'era_5', False)\n",
    "            cygnss_files = relevant_files(input_arguments,'level_2_mss')\n",
    "            oskar_files = relevant_files(input_arguments, 'oskar_data', False)        \n",
    "            cygnss_df_month.append(get_interp_cygnnss(pd.concat(map(pd.read_csv, cygnss_files )), \n",
    "                                           pd.concat(map(pd.read_csv, era_5_files )), \n",
    "                                           pd.concat(map(pd.read_csv, oskar_files ))))\n",
    "        if cygnss_df_month:\n",
    "            df = pd.concat(cygnss_df_month)\n",
    "            df.to_csv(\"colocated_data/\" + years[i] + month + \".csv\" ,index=False)"
   ]
  },
  {
   "cell_type": "code",
   "execution_count": 5,
   "metadata": {},
   "outputs": [
    {
     "data": {
      "text/plain": [
       "(            u         v   lat        lon    time\n",
       " 0   -0.011145  0.079336  38.0  20.000000  254112\n",
       " 1   -0.035046  0.012932  38.0  20.333333  254112\n",
       " 2   -0.032004  0.026066  38.0  21.000000  254112\n",
       " 3   -0.020622 -0.002753  38.0  24.333333  254112\n",
       " 4   -0.010858 -0.099207  38.0  24.666667  254112\n",
       " ..        ...       ...   ...        ...     ...\n",
       " 585  0.017822 -0.018969  38.0  18.333333  254352\n",
       " 586 -0.001285 -0.064473  38.0  18.666667  254352\n",
       " 587 -0.008747 -0.056620  38.0  19.000000  254352\n",
       " 588 -0.005189 -0.037838  38.0  19.333333  254352\n",
       " 589  0.007859  0.030019  38.0  19.666667  254352\n",
       " \n",
       " [1770 rows x 5 columns],\n",
       " ['oskar_data/2021_10_01.csv',\n",
       "  'oskar_data/2021_10_06.csv',\n",
       "  'oskar_data/2021_10_11.csv'])"
      ]
     },
     "execution_count": 5,
     "metadata": {},
     "output_type": "execute_result"
    }
   ],
   "source": [
    "oskar_files = relevant_files('2021', '10', 'oskar_data')        \n",
    "pd.concat(map(pd.read_csv, oskar_files )), oskar_files"
   ]
  },
  {
   "cell_type": "code",
   "execution_count": 6,
   "metadata": {},
   "outputs": [
    {
     "data": {
      "text/plain": [
       "(         sp_lon  sp_lat  hours_since_ref       u10       v10\n",
       " 0         220.0  -40.00         254112.0  6.962839 -7.173535\n",
       " 1         220.0  -39.75         254112.0  6.809503 -7.555362\n",
       " 2         220.0  -39.50         254112.0  6.606271 -7.591383\n",
       " 3         220.0  -39.25         254112.0  6.427783 -7.515102\n",
       " 4         220.0  -39.00         254112.0  6.228608 -7.562142\n",
       " ...         ...     ...              ...       ...       ...\n",
       " 1240339   260.0   39.00         254255.0 -3.388193  3.753215\n",
       " 1240340   260.0   39.25         254255.0 -3.601972  4.017230\n",
       " 1240341   260.0   39.50         254255.0 -3.780459  4.247342\n",
       " 1240342   260.0   39.75         254255.0 -3.966248  4.400751\n",
       " 1240343   260.0   40.00         254255.0 -4.017766  4.408803\n",
       " \n",
       " [7442064 rows x 5 columns],\n",
       " ['era_5/2021_10_01.csv',\n",
       "  'era_5/2021_10_02.csv',\n",
       "  'era_5/2021_10_03.csv',\n",
       "  'era_5/2021_10_04.csv',\n",
       "  'era_5/2021_10_05.csv',\n",
       "  'era_5/2021_10_06.csv'])"
      ]
     },
     "execution_count": 6,
     "metadata": {},
     "output_type": "execute_result"
    }
   ],
   "source": [
    "era_5 = relevant_files('2021', '10', 'era_5')        \n",
    "pd.concat(map(pd.read_csv, era_5 )), era_5"
   ]
  },
  {
   "cell_type": "code",
   "execution_count": 7,
   "metadata": {},
   "outputs": [
    {
     "data": {
      "text/plain": [
       "(             mss        lat         lon    sample_time\n",
       " 0       0.059714  -9.405056  183.754288  254136.000000\n",
       " 1       0.073373 -14.346755  198.040985  254136.000000\n",
       " 2       0.025884  12.835819  150.561890  254136.000000\n",
       " 3       0.035982  11.183601  151.437119  254136.000000\n",
       " 4       0.063969  -9.412897  183.765381  254136.000069\n",
       " ...          ...        ...         ...            ...\n",
       " 708135  0.037600 -21.455124  279.856140  254231.999757\n",
       " 708136  0.058287 -29.680683  263.662659  254231.999757\n",
       " 708137  0.033945 -17.025261  152.870743  254231.999861\n",
       " 708138  0.032921 -19.155619  276.194824  254231.999861\n",
       " 708139  0.040810 -27.301825  260.110382  254231.999861\n",
       " \n",
       " [2923721 rows x 4 columns],\n",
       " ['level_2_mss/2021_10_02.csv',\n",
       "  'level_2_mss/2021_10_03.csv',\n",
       "  'level_2_mss/2021_10_04.csv',\n",
       "  'level_2_mss/2021_10_05.csv'])"
      ]
     },
     "execution_count": 7,
     "metadata": {},
     "output_type": "execute_result"
    }
   ],
   "source": [
    "level_2_mss = relevant_files('2021', '10', 'level_2_mss')        \n",
    "pd.concat(map(pd.read_csv, level_2_mss )), level_2_mss"
   ]
  },
  {
   "cell_type": "code",
   "execution_count": 31,
   "metadata": {},
   "outputs": [
    {
     "data": {
      "text/plain": [
       "['2001_2001_29']"
      ]
     },
     "execution_count": 31,
     "metadata": {},
     "output_type": "execute_result"
    }
   ],
   "source": [
    "days = [str(x).zfill(2) for x in range(1, 32)]\n",
    "for i in range(1, len(days)-2):\n",
    "    if i == 28:\n",
    "        input_arguments = [str(2001) + '_' + str(2001) + \"_\" + str(i+1)]\n",
    "input_arguments"
   ]
  },
  {
   "cell_type": "code",
   "execution_count": null,
   "metadata": {},
   "outputs": [],
   "source": []
  }
 ],
 "metadata": {
  "kernelspec": {
   "display_name": "Python 3 (ipykernel)",
   "language": "python",
   "name": "python3"
  },
  "language_info": {
   "codemirror_mode": {
    "name": "ipython",
    "version": 3
   },
   "file_extension": ".py",
   "mimetype": "text/x-python",
   "name": "python",
   "nbconvert_exporter": "python",
   "pygments_lexer": "ipython3",
   "version": "3.9.7"
  }
 },
 "nbformat": 4,
 "nbformat_minor": 1
}
