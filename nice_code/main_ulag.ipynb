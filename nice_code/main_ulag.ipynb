{
 "cells": [
  {
   "cell_type": "code",
   "execution_count": null,
   "metadata": {
    "pycharm": {
     "is_executing": true
    }
   },
   "outputs": [],
   "source": []
  },
  {
   "cell_type": "code",
   "execution_count": null,
   "metadata": {
    "pycharm": {
     "name": "#%%\n"
    }
   },
   "outputs": [],
   "source": [
    "from pydap.client import open_url\n",
    "from datetime import datetime\n",
    "import numpy as np\n",
    "import pandas as pd\n",
    "import time\n",
    "from datetime import timedelta\n",
    "import pyproj\n",
    "import xarray as xr\n",
    "from scipy.interpolate import LinearNDInterpolator\n",
    "import matplotlib.pyplot as plt\n",
    "import math\n",
    "import pickle\n",
    "from datetime import date\n",
    "import os\n",
    "import plotly.express as px\n",
    "import cartopy.crs as ccrs\n",
    "from cartopy.mpl.ticker import LongitudeFormatter, LatitudeFormatter\n",
    "import matplotlib\n",
    "import cartopy as cart\n",
    "\n",
    "\n",
    "def retrieve_microplastics_gt():\n",
    "    lats = np.zeros(181)\n",
    "    count = 90\n",
    "    for i in range(len(lats)):\n",
    "        lats[i] = count\n",
    "        count -= 1\n",
    "    for filename in os.listdir('../microplast_gt'):\n",
    "        logfilename = filename[:-4] + '_log'\n",
    "        try:\n",
    "            df = pd.read_csv('../microplast_gt/' + filename, header=None)\n",
    "\n",
    "        except:\n",
    "            print(filename)\n",
    "            continue\n",
    "        longlist = []\n",
    "        latlist = []\n",
    "        valuelist_log = []\n",
    "        valuelist = []\n",
    "        for long in range(0, 361):\n",
    "            for lat in range(0, 181):\n",
    "                val = df[long][lat]\n",
    "                if val < 1:\n",
    "                    val = np.nan\n",
    "                longlist.append(long)\n",
    "                latlist.append(lats[lat])\n",
    "                valuelist_log.append(np.log10(val))\n",
    "                valuelist.append(val)\n",
    "        if filename == \"lebretonmodel_abundance.csv\":\n",
    "            res_df = pd.DataFrame(\n",
    "                {'sp_lon': longlist, 'sp_lat': latlist, filename[:-4]: valuelist, logfilename: valuelist_log})\n",
    "        else:\n",
    "            res_df[filename[:-4]] = valuelist\n",
    "            res_df[logfilename] = valuelist_log\n",
    "    return res_df\n",
    "\n",
    "\n",
    "def plot_wind(df, var1, var2, interpolated=False):\n",
    "    # Settings for the plot\n",
    "    ax = plt.axes(projection=ccrs.PlateCarree())\n",
    "    ax.coastlines()\n",
    "    lon_formatter = LongitudeFormatter()\n",
    "    lat_formatter = LatitudeFormatter()\n",
    "    ax.xaxis.set_major_formatter(lon_formatter)\n",
    "    ax.yaxis.set_major_formatter(lat_formatter)\n",
    "    ax.gridlines(draw_labels=True, alpha=0.5)\n",
    "    plt.scatter(df['sp_lon'], df['sp_lat'], c=list(np.sqrt(df[var1] ** 2 + df[var2] ** 2)), cmap='RdBu')\n",
    "    bar = plt.colorbar(pad=0.15, orientation='horizontal')\n",
    "    bar.ax.set_title('m/s')\n",
    "    plt.xlabel('Longitude')\n",
    "    plt.ylabel('Latitude')\n",
    "    if interpolated:\n",
    "        plt.savefig('wind_speed_inter.png')\n",
    "    else:\n",
    "        plt.savefig('wind_speed.png')\n",
    "    plt.show()\n",
    "\n",
    "\n",
    "def plot_var(df, var):\n",
    "    # Settings for the plot\n",
    "    ax = plt.axes(projection=ccrs.PlateCarree())\n",
    "    ax.coastlines()\n",
    "    ax.add_feature(cart.feature.LAND, zorder=100, edgecolor='k')\n",
    "    ax.gridlines(draw_labels=True, alpha=0.5)\n",
    "    lon_formatter = LongitudeFormatter(zero_direction_label=True)\n",
    "    lat_formatter = LatitudeFormatter()\n",
    "    ax.xaxis.set_major_formatter(lon_formatter)\n",
    "    ax.yaxis.set_major_formatter(lat_formatter)\n",
    "    plt.scatter(df['lon'], df['lat'], c=list(df[var]))\n",
    "    bar = plt.colorbar(pad=0.15, orientation='horizontal')\n",
    "    plt.title(var)\n",
    "    bar.ax.set_title('Power 10^')\n",
    "    plt.xlabel('Longitude')\n",
    "    plt.ylabel('Latitude')\n",
    "    plt.savefig('nbrcs-diff.svg')\n",
    "    plt.show()\n",
    "\n",
    "# SET AREA, Function Is called when extracting CYGNSS, OSKAR and ERA5\n",
    "def reduce_area_of_df(df):\n",
    "    df = df[df.sp_lat <= 40]\n",
    "    df = df[df.sp_lat >= -40]\n",
    "\n",
    "    df_northern = df[df.sp_lat >= 20]\n",
    "    df_southern = df[df.sp_lat <= -20]\n",
    "    df = pd.concat([df_northern, df_southern])\n",
    "    df = df[df.sp_lon >= 220]\n",
    "    return df[df.sp_lon <= 260]\n",
    "\n",
    "\n",
    "# SET AREA, Function Is called when extracting CYGNSS, OSKAR and ERA5\n",
    "def reduce_area_of_df(df):\n",
    "    df = df[df.sp_lat <= 40]\n",
    "    df = df[df.sp_lat >= -40]\n",
    "\n",
    "    df_northern = df[df.sp_lat >= 20]\n",
    "    df_southern = df[df.sp_lat <= -20]\n",
    "    df = pd.concat([df_northern, df_southern])\n",
    "    df = df[df.sp_lon >= 220]\n",
    "    return df[df.sp_lon <= 260]\n",
    "\n",
    "def open_anomalies_csvs():\n",
    "    df_list = []\n",
    "    for filename in os.listdir('../-40_-20_220_260'):\n",
    "        df_list.append(pd.read_csv('../-40_-20_220_260/' + filename))\n",
    "    if len(df_list) == 1:\n",
    "        return df_list[0]\n",
    "    else:\n",
    "        return pd.concat(df_list)"
   ]
  },
  {
   "cell_type": "code",
   "execution_count": null,
   "metadata": {
    "pycharm": {
     "name": "#%%\n"
    }
   },
   "outputs": [],
   "source": [
    "mic_df = retrieve_microplastics_gt().dropna()\n",
    "interp_micro_mass = LinearNDInterpolator(list(zip(mic_df['sp_lon'], mic_df['sp_lat'])), mic_df['vansebillemodel_mass_log'])\n",
    "interp_micro_abu = LinearNDInterpolator(list(zip(mic_df['sp_lon'], mic_df['sp_lat'])), mic_df['vansebillemodel_abundance_log'])"
   ]
  },
  {
   "cell_type": "code",
   "execution_count": null,
   "metadata": {},
   "outputs": [],
   "source": [
    "plot_var(mic_df, 'vansebillemodel_mass_log')"
   ]
  },
  {
   "cell_type": "code",
   "execution_count": null,
   "metadata": {
    "pycharm": {
     "name": "#%%\n"
    }
   },
   "outputs": [],
   "source": [
    "df = open_anomalies_csvs()\n",
    "df['delta'] = np.sqrt((df.wind_u10-df.current_u)**2 + (df.wind_v10-df.current_v)**2)\n",
    "mass = interp_micro_mass(df['lon'], df['lat'])\n",
    "abu = interp_micro_abu(df['lon'], df['lat'])\n",
    "df['micro_mass'] = mass\n",
    "df['abundace'] = abu\n",
    "df = df.dropna()\n",
    "df"
   ]
  },
  {
   "cell_type": "code",
   "execution_count": null,
   "metadata": {},
   "outputs": [],
   "source": []
  },
  {
   "cell_type": "code",
   "execution_count": null,
   "metadata": {
    "pycharm": {
     "name": "#%%\n"
    }
   },
   "outputs": [],
   "source": [
    "df.corr()"
   ]
  },
  {
   "cell_type": "code",
   "execution_count": null,
   "metadata": {},
   "outputs": [],
   "source": [
    "#df_modified = df[df.delta >= 2]\n",
    "#df_modified = df_modified[df_modified.delta <= 6]\n",
    "df_modified = df[np.sqrt(df.wind_u10**2 + df.wind_v10**2) >= 3]\n",
    "df_modified = df_modified[np.sqrt(df.wind_u10**2 + df.wind_v10**2)<= 11]\n",
    "df_modified = df_modified[df_modified.mss_anomaly_towards < 0.1]\n",
    "df_modified = df_modified[df_modified.mss_anomaly_towards > -0.2]\n",
    "df_modified"
   ]
  },
  {
   "cell_type": "code",
   "execution_count": null,
   "metadata": {},
   "outputs": [],
   "source": [
    "bin_df = pd.DataFrame({'mss':df_modified.mss_anomaly_towards, 'micro' : df_modified.micro_mass })\n",
    "cut = pd.cut(bin_df['mss'], bins = np.linspace(bin_df.mss.min(), bin_df.mss.max(), 150)).cat.codes\n",
    "bin_df['mss_bins'] = cut \n",
    "bin_df"
   ]
  },
  {
   "cell_type": "code",
   "execution_count": null,
   "metadata": {},
   "outputs": [],
   "source": [
    "mean_micro_by_bin = bin_df.groupby(['mss_bins'], as_index=False)['micro'].mean()\n",
    "mean_micro_by_bin\n",
    "plt.step(\n",
    "    mean_micro_by_bin['mss_bins'],\n",
    "    mean_micro_by_bin['micro'],\n",
    "    where='mid',\n",
    ")\n",
    "plt.xlabel('mss_bins')\n",
    "plt.ylabel('micro')\n",
    "plt.show()"
   ]
  },
  {
   "cell_type": "code",
   "execution_count": null,
   "metadata": {
    "pycharm": {
     "name": "#%%\n"
    }
   },
   "outputs": [],
   "source": [
    "first_n_column  = df_modified.iloc[: , :3]\n",
    "first_n_column['lon'] = first_n_column['lon'].round(0).astype(int)\n",
    "first_n_column['lat'] = first_n_column['lat'].round(0).astype(int)\n",
    "first_n_column = first_n_column.groupby(['lon', 'lat'], as_index=False)['mss_anomaly_mostafa'].mean()\n",
    "mass = interp_micro_mass(first_n_column['lon'], first_n_column['lat'])\n",
    "abu = interp_micro_abu(first_n_column['lon'], first_n_column['lat'])\n",
    "first_n_column['micro_mass'] = mass\n",
    "first_n_column['abundace'] = abu\n",
    "first_n_column"
   ]
  },
  {
   "cell_type": "code",
   "execution_count": null,
   "metadata": {},
   "outputs": [],
   "source": [
    "plot_var(first_n_column, 'micro_mass')\n",
    "plot_var(first_n_column, 'mss_anomaly_mostafa')"
   ]
  },
  {
   "cell_type": "code",
   "execution_count": null,
   "metadata": {
    "pycharm": {
     "name": "#%%\n"
    }
   },
   "outputs": [],
   "source": [
    "from catboost import CatBoostRegressor\n",
    "from sklearn.linear_model import RANSACRegressor\n",
    "from sklearn.linear_model import LinearRegression\n",
    "\n",
    "# plot the dataset and the model's line of best fit\n",
    "def plot_best_fit(X, y, model):\n",
    "    # fut the model on all data\n",
    "    model.fit(X, y)\n",
    "    # plot the dataset\n",
    "    plt.scatter(X, y)\n",
    "    # plot the line of best fit\n",
    "    xaxis = np.arange(X.min(), X.max(), 0.01)\n",
    "    yaxis = model.predict(xaxis.reshape((len(xaxis), 1)))\n",
    "    plt.plot(xaxis, yaxis, color='r')\n",
    "    # show the plot\n",
    "    plt.title(type(model).__name__)\n",
    "    plt.show()\n",
    "# define the model\n",
    "model = LinearRegression()\n",
    "model = CatBoostRegressor(verbose = False)\n",
    "plot_best_fit(np.array(df_modified.mss_anomaly_towards).reshape(-1, 1), df_modified.micro_mass, model)"
   ]
  },
  {
   "cell_type": "code",
   "execution_count": null,
   "metadata": {
    "pycharm": {
     "name": "#%%\n"
    }
   },
   "outputs": [],
   "source": [
    "plot_df = pd.DataFrame({'mss_anomaly_towards' : df_modified.mss_anomaly_towards, 'micro_mass' : df_modified.micro_mass})\n",
    "#plot_df = plot_df[plot_df.mss_anomaly_towards > -0.1227]\n",
    "#plot_df = plot_df[plot_df.mss_anomaly_towards < -0.0478]\n",
    "fig = px.density_heatmap(plot_df, y=\"micro_mass\", x=\"mss_anomaly_towards\", nbinsx = 50 ,color_continuous_scale=px.colors.sequential.Blackbody)\n",
    "\n",
    "fig.show()"
   ]
  },
  {
   "cell_type": "code",
   "execution_count": null,
   "metadata": {
    "pycharm": {
     "name": "#%%\n"
    }
   },
   "outputs": [],
   "source": [
    "df_wind_plot = pd.DataFrame({'nbrcs' : df_modified.nbrcs, 'wind' : np.sqrt(df_modified.wind_u10**2 + df_modified.wind_v10**2)})\n",
    "fig = px.density_heatmap(df_wind_plot, y=\"wind\", x=\"nbrcs\", color_continuous_scale=px.colors.sequential.Blackbody)\n",
    "fig.show()"
   ]
  }
 ],
 "metadata": {
  "kernelspec": {
   "display_name": "Python 3 (ipykernel)",
   "language": "python",
   "name": "python3"
  },
  "language_info": {
   "codemirror_mode": {
    "name": "ipython",
    "version": 3
   },
   "file_extension": ".py",
   "mimetype": "text/x-python",
   "name": "python",
   "nbconvert_exporter": "python",
   "pygments_lexer": "ipython3",
   "version": "3.9.7"
  }
 },
 "nbformat": 4,
 "nbformat_minor": 1
}